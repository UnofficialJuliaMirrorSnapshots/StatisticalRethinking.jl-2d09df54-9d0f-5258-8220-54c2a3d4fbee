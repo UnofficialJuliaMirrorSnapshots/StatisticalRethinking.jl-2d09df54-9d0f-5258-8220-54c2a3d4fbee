{
 "cells": [
  {
   "outputs": [],
   "cell_type": "markdown",
   "source": [
    "# clip-06-10.jl"
   ],
   "metadata": {}
  },
  {
   "outputs": [],
   "cell_type": "markdown",
   "source": [
    "Load Julia packages (libraries) needed  for the snippets in chapter 0"
   ],
   "metadata": {}
  },
  {
   "outputs": [],
   "cell_type": "code",
   "source": [
    "using StatisticalRethinking, Optim\n",
    "gr(size=(600,300));"
   ],
   "metadata": {},
   "execution_count": 1
  },
  {
   "outputs": [],
   "cell_type": "markdown",
   "source": [
    "### snippet 3.2"
   ],
   "metadata": {}
  },
  {
   "outputs": [
    {
     "output_type": "execute_result",
     "data": {
      "text/plain": "1001-element Array{Float64,1}:\n 0.0                   \n 8.374825191541396e-19 \n 5.3438084689545866e-17\n 6.068652771820298e-16 \n 3.3995172504952293e-15\n 1.2929107734284453e-14\n 3.84898254467861e-14  \n 9.67643250408127e-14  \n 2.149583027999239e-13 \n 4.3446551042066853e-13\n ⋮                     \n 4.0984465911760347e-7 \n 2.7622876204248817e-7 \n 1.7500535729671214e-7 \n 1.01889113481695e-7   \n 5.248259379294106e-8  \n 2.22748095801673e-8   \n 6.639762126365043e-9  \n 8.349725832067523e-10 \n 0.0                   "
     },
     "metadata": {},
     "execution_count": 2
    }
   ],
   "cell_type": "code",
   "source": [
    "p_grid = range(0, step=0.001, stop=1)\n",
    "prior = ones(length(p_grid))\n",
    "likelihood = [pdf(Binomial(9, p), 6) for p in p_grid]\n",
    "posterior = likelihood .* prior\n",
    "posterior = posterior / sum(posterior)"
   ],
   "metadata": {},
   "execution_count": 2
  },
  {
   "outputs": [],
   "cell_type": "markdown",
   "source": [
    "### snippet 3.3\n",
    "Draw 10000 samples from this posterior distribution"
   ],
   "metadata": {}
  },
  {
   "outputs": [],
   "cell_type": "code",
   "source": [
    "N = 10000\n",
    "samples = sample(p_grid, Weights(posterior), N);"
   ],
   "metadata": {},
   "execution_count": 3
  },
  {
   "outputs": [],
   "cell_type": "markdown",
   "source": [
    "In StatisticalRethinkingJulia samples will always be stored\n",
    "in an MCMCChains.Chains object."
   ],
   "metadata": {}
  },
  {
   "outputs": [],
   "cell_type": "code",
   "source": [
    "chn = MCMCChains.Chains(reshape(samples, N, 1, 1), [\"toss\"]);"
   ],
   "metadata": {},
   "execution_count": 4
  },
  {
   "outputs": [],
   "cell_type": "markdown",
   "source": [
    "Describe the chain"
   ],
   "metadata": {}
  },
  {
   "outputs": [
    {
     "name": "stdout",
     "output_type": "stream",
     "text": [
      "Iterations        = 1:10000\n",
      "Thinning interval = 1\n",
      "Chains            = 1\n",
      "Samples per chain = 10000\n",
      "parameters        = toss\n",
      "\n",
      "Empirical Posterior Estimates\n",
      "────────────────────────────────────────\n",
      "parameters\n",
      "      Mean    SD   Naive SE  MCSE   ESS \n",
      "toss 0.6377 0.1387   0.0014 0.0014 10000\n",
      "\n",
      "Quantiles\n",
      "────────────────────────────────────────\n",
      "parameters\n",
      "      2.5% 25.0% 50.0% 75.0% 97.5%\n",
      "toss 0.128 0.545 0.646 0.742 0.962\n",
      "\n"
     ]
    }
   ],
   "cell_type": "code",
   "source": [
    "describe(chn)"
   ],
   "metadata": {},
   "execution_count": 5
  },
  {
   "outputs": [],
   "cell_type": "markdown",
   "source": [
    "### snippet 3.6"
   ],
   "metadata": {}
  },
  {
   "outputs": [
    {
     "output_type": "execute_result",
     "data": {
      "text/plain": "0.17105550781217763"
     },
     "metadata": {},
     "execution_count": 6
    }
   ],
   "cell_type": "code",
   "source": [
    "v = 0.0\n",
    "for i in 1:length(p_grid)\n",
    "  global v\n",
    "  if p_grid[i] < 0.5\n",
    "    v += posterior[i]\n",
    "  end\n",
    "end\n",
    "v"
   ],
   "metadata": {},
   "execution_count": 6
  },
  {
   "outputs": [],
   "cell_type": "markdown",
   "source": [
    "### snippet 3.7"
   ],
   "metadata": {}
  },
  {
   "outputs": [],
   "cell_type": "code",
   "source": [
    "mapreduce(p -> p < 0.5 ? 1 : 0, +, samples) / N   |> display"
   ],
   "metadata": {},
   "execution_count": 7
  },
  {
   "outputs": [],
   "cell_type": "markdown",
   "source": [
    "### snippet 3.8"
   ],
   "metadata": {}
  },
  {
   "outputs": [],
   "cell_type": "code",
   "source": [
    "mapreduce(p -> (p > 0.5 && p < 0.75) ? 1 : 0, +, samples) / N   |> display"
   ],
   "metadata": {},
   "execution_count": 8
  },
  {
   "outputs": [],
   "cell_type": "markdown",
   "source": [
    "### snippet 3.9"
   ],
   "metadata": {}
  },
  {
   "outputs": [
    {
     "output_type": "execute_result",
     "data": {
      "text/plain": "0.763"
     },
     "metadata": {},
     "execution_count": 9
    }
   ],
   "cell_type": "code",
   "source": [
    "quantile(samples, 0.8)"
   ],
   "metadata": {},
   "execution_count": 9
  },
  {
   "outputs": [],
   "cell_type": "markdown",
   "source": [
    "### snippet 3.10"
   ],
   "metadata": {}
  },
  {
   "outputs": [
    {
     "output_type": "execute_result",
     "data": {
      "text/plain": "2-element Array{Float64,1}:\n 0.45 \n 0.813"
     },
     "metadata": {},
     "execution_count": 10
    }
   ],
   "cell_type": "code",
   "source": [
    "quantile(samples, [0.1, 0.9])"
   ],
   "metadata": {},
   "execution_count": 10
  },
  {
   "outputs": [],
   "cell_type": "markdown",
   "source": [
    "End of `03/clip-06-10.jl`#-\n",
    "*This notebook was generated using [Literate.jl](https://github.com/fredrikekre/Literate.jl).*"
   ],
   "metadata": {}
  }
 ],
 "nbformat_minor": 3,
 "metadata": {
  "language_info": {
   "file_extension": ".jl",
   "mimetype": "application/julia",
   "name": "julia",
   "version": "1.2.0-DEV.564"
  },
  "kernelspec": {
   "name": "julia-1.2",
   "display_name": "Julia 1.2.0-DEV.564",
   "language": "julia"
  }
 },
 "nbformat": 4
}
