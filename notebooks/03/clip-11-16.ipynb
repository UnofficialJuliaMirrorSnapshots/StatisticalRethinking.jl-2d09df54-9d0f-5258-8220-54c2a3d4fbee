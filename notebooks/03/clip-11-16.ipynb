{
 "cells": [
  {
   "outputs": [],
   "cell_type": "markdown",
   "source": [
    "# clip-11-16.jl"
   ],
   "metadata": {}
  },
  {
   "outputs": [],
   "cell_type": "markdown",
   "source": [
    "Load Julia packages (libraries) needed  for the snippets in chapter 0"
   ],
   "metadata": {}
  },
  {
   "outputs": [],
   "cell_type": "code",
   "source": [
    "using StatisticalRethinking, Optim\n",
    "gr(size=(600,300));"
   ],
   "metadata": {},
   "execution_count": 1
  },
  {
   "outputs": [],
   "cell_type": "markdown",
   "source": [
    "### snippet 3.11"
   ],
   "metadata": {}
  },
  {
   "outputs": [
    {
     "output_type": "execute_result",
     "data": {
      "text/plain": "1001-element Array{Float64,1}:\n 0.0                   \n 3.9920119840199785e-12\n 3.193609587215978e-11 \n 1.0778432356853943e-10\n 2.5548876697727883e-10\n 4.990014980024981e-10 \n 8.622745885483142e-10 \n 1.3692601105188535e-9 \n 2.043910135818227e-9  \n 2.9101767363505647e-9 \n ⋮                     \n 0.0038969681187942928 \n 0.003908765188857097  \n 0.003920586043327302  \n 0.00393243070615698   \n 0.003944299201298202  \n 0.003956191552703041  \n 0.003968107784323569  \n 0.003980047920111856  \n 0.003992011984019976  "
     },
     "metadata": {},
     "execution_count": 2
    }
   ],
   "cell_type": "code",
   "source": [
    "p_grid = range(0, step=0.001, stop=1)\n",
    "prior = ones(length(p_grid))\n",
    "likelihood = [pdf(Binomial(3, p), 3) for p in p_grid]\n",
    "posterior = likelihood .* prior\n",
    "posterior = posterior / sum(posterior)"
   ],
   "metadata": {},
   "execution_count": 2
  },
  {
   "outputs": [],
   "cell_type": "markdown",
   "source": [
    "Draw 10000 samples from this posterior distribution"
   ],
   "metadata": {}
  },
  {
   "outputs": [],
   "cell_type": "code",
   "source": [
    "N = 10000\n",
    "samples = sample(p_grid, Weights(posterior), N);"
   ],
   "metadata": {},
   "execution_count": 3
  },
  {
   "outputs": [],
   "cell_type": "markdown",
   "source": [
    "In StatisticalRethinkingJulia samples will always be stored\n",
    "in an MCMCChains.Chains object."
   ],
   "metadata": {}
  },
  {
   "outputs": [],
   "cell_type": "code",
   "source": [
    "chn = MCMCChains.Chains(reshape(samples, N, 1, 1), [\"toss\"]);"
   ],
   "metadata": {},
   "execution_count": 4
  },
  {
   "outputs": [],
   "cell_type": "markdown",
   "source": [
    "### snippet 3.12"
   ],
   "metadata": {}
  },
  {
   "outputs": [
    {
     "name": "stdout",
     "output_type": "stream",
     "text": [
      "Iterations        = 1:10000\n",
      "Thinning interval = 1\n",
      "Chains            = 1\n",
      "Samples per chain = 10000\n",
      "parameters        = toss\n",
      "\n",
      "Empirical Posterior Estimates\n",
      "───────────────────────────────────────────\n",
      "parameters\n",
      "      Mean    SD   Naive SE  MCSE     ESS  \n",
      "toss 0.7991 0.1642   0.0016 0.0017 9022.718\n",
      "\n",
      "Quantiles\n",
      "───────────────────────────────────────────\n",
      "parameters\n",
      "      2.5% 25.0% 50.0% 75.0% 97.5%\n",
      "toss 0.095 0.707 0.839 0.931     1\n",
      "\n"
     ]
    }
   ],
   "cell_type": "code",
   "source": [
    "describe(chn)"
   ],
   "metadata": {},
   "execution_count": 5
  },
  {
   "outputs": [],
   "cell_type": "markdown",
   "source": [
    "### snippet 3.13"
   ],
   "metadata": {}
  },
  {
   "outputs": [
    {
     "output_type": "execute_result",
     "data": {
      "text/plain": "Iterations        = 1:10000\nThinning interval = 1\nChains            = 1\nSamples per chain = 10000\nparameters        = toss\n\nparameters\n     50% Lower 50% Upper\ntoss     0.839         1\n\n"
     },
     "metadata": {},
     "execution_count": 6
    }
   ],
   "cell_type": "code",
   "source": [
    "MCMCChains.hpd(chn, alpha=0.5)"
   ],
   "metadata": {},
   "execution_count": 6
  },
  {
   "outputs": [],
   "cell_type": "markdown",
   "source": [
    "### snippet 3.14"
   ],
   "metadata": {}
  },
  {
   "outputs": [
    {
     "output_type": "execute_result",
     "data": {
      "text/plain": "0.962"
     },
     "metadata": {},
     "execution_count": 7
    }
   ],
   "cell_type": "code",
   "source": [
    "mode(samples)"
   ],
   "metadata": {},
   "execution_count": 7
  },
  {
   "outputs": [],
   "cell_type": "markdown",
   "source": [
    "### snippet 3.15"
   ],
   "metadata": {}
  },
  {
   "outputs": [
    {
     "output_type": "execute_result",
     "data": {
      "text/plain": "0.7990666000000001"
     },
     "metadata": {},
     "execution_count": 8
    }
   ],
   "cell_type": "code",
   "source": [
    "mean(samples)"
   ],
   "metadata": {},
   "execution_count": 8
  },
  {
   "outputs": [],
   "cell_type": "markdown",
   "source": [
    "### snippet 3.16"
   ],
   "metadata": {}
  },
  {
   "outputs": [
    {
     "output_type": "execute_result",
     "data": {
      "text/plain": "0.839"
     },
     "metadata": {},
     "execution_count": 9
    }
   ],
   "cell_type": "code",
   "source": [
    "median(samples)"
   ],
   "metadata": {},
   "execution_count": 9
  },
  {
   "outputs": [],
   "cell_type": "markdown",
   "source": [
    "End of `03/clip-11-16.jl`#-\n",
    "*This notebook was generated using [Literate.jl](https://github.com/fredrikekre/Literate.jl).*"
   ],
   "metadata": {}
  }
 ],
 "nbformat_minor": 3,
 "metadata": {
  "language_info": {
   "file_extension": ".jl",
   "mimetype": "application/julia",
   "name": "julia",
   "version": "1.2.0-DEV.564"
  },
  "kernelspec": {
   "name": "julia-1.2",
   "display_name": "Julia 1.2.0-DEV.564",
   "language": "julia"
  }
 },
 "nbformat": 4
}
