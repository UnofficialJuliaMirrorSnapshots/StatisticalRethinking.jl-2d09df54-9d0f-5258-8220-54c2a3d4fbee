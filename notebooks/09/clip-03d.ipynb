{
 "cells": [
  {
   "outputs": [],
   "cell_type": "markdown",
   "source": [
    "Snippet 09/clip-03.jl"
   ],
   "metadata": {}
  },
  {
   "outputs": [],
   "cell_type": "code",
   "source": [
    "using StatisticalRethinking\n",
    "\n",
    "ProjDir = @__DIR__\n",
    "cd(ProjDir)"
   ],
   "metadata": {},
   "execution_count": 1
  },
  {
   "outputs": [],
   "cell_type": "markdown",
   "source": [
    "### snippet 9.3"
   ],
   "metadata": {}
  },
  {
   "outputs": [],
   "cell_type": "markdown",
   "source": [
    "Construct the logdensity problem"
   ],
   "metadata": {}
  },
  {
   "outputs": [],
   "cell_type": "code",
   "source": [
    "struct clip_9_3_model{TY <: AbstractVector, TX <: AbstractVector}\n",
    "    \"Observations.\"\n",
    "    y::TY\n",
    "    \"Covariate\"\n",
    "    x::TX\n",
    "end"
   ],
   "metadata": {},
   "execution_count": 2
  },
  {
   "outputs": [],
   "cell_type": "markdown",
   "source": [
    "Make the type callable with the parameters *as a single argument*."
   ],
   "metadata": {}
  },
  {
   "outputs": [],
   "cell_type": "code",
   "source": [
    "function (problem:: clip_9_3_model)(θ)\n",
    "    @unpack y, x, = problem    # extract the data\n",
    "    @unpack muy, mux = θ     # works on the named tuple too\n",
    "    ll = 0.0\n",
    "    ll += loglikelihood(Normal(mux, 1), x)\n",
    "    ll += loglikelihood(Normal(muy, 1), y)\n",
    "    ll += logpdf(Normal(0, 1), mux)\n",
    "    ll += logpdf(Normal(0, 1), muy)\n",
    "    ll\n",
    "end"
   ],
   "metadata": {},
   "execution_count": 3
  },
  {
   "outputs": [],
   "cell_type": "markdown",
   "source": [
    "Instantiate the model with data and inits."
   ],
   "metadata": {}
  },
  {
   "outputs": [
    {
     "output_type": "execute_result",
     "data": {
      "text/plain": "-270.6068992198965"
     },
     "metadata": {},
     "execution_count": 4
    }
   ],
   "cell_type": "code",
   "source": [
    "Random.seed!(1234591)\n",
    "\n",
    "N = 100\n",
    "x = rand(Normal(0, 1), N)\n",
    "y = rand(Normal(0, 1), N)\n",
    "\n",
    "p = clip_9_3_model(y, x)\n",
    "θ = (muy = 0.0, mux=0.0)\n",
    "p(θ)"
   ],
   "metadata": {},
   "execution_count": 4
  },
  {
   "outputs": [],
   "cell_type": "markdown",
   "source": [
    "Write a function to return properly dimensioned transformation."
   ],
   "metadata": {}
  },
  {
   "outputs": [
    {
     "output_type": "execute_result",
     "data": {
      "text/plain": "problem_transformation (generic function with 1 method)"
     },
     "metadata": {},
     "execution_count": 5
    }
   ],
   "cell_type": "code",
   "source": [
    "problem_transformation(p::clip_9_3_model) =\n",
    "    as((muy = asℝ, mux = asℝ))"
   ],
   "metadata": {},
   "execution_count": 5
  },
  {
   "outputs": [],
   "cell_type": "markdown",
   "source": [
    "Wrap the problem with a transformation, then use Flux for the gradient."
   ],
   "metadata": {}
  },
  {
   "outputs": [],
   "cell_type": "code",
   "source": [
    "P = TransformedLogDensity(problem_transformation(p), p)\n",
    "∇P = ADgradient(:ForwardDiff, P);"
   ],
   "metadata": {},
   "execution_count": 6
  },
  {
   "outputs": [],
   "cell_type": "markdown",
   "source": [
    "Generate and show fig 9.3"
   ],
   "metadata": {}
  },
  {
   "outputs": [],
   "cell_type": "code",
   "source": [
    "fig = StatisticalRethinking.generate_n_samples(p, ∇P);"
   ],
   "metadata": {},
   "execution_count": 7
  },
  {
   "outputs": [],
   "cell_type": "markdown",
   "source": [
    "End of `09/clip-03d.jl`"
   ],
   "metadata": {}
  },
  {
   "outputs": [],
   "cell_type": "markdown",
   "source": [
    "*This notebook was generated using [Literate.jl](https://github.com/fredrikekre/Literate.jl).*"
   ],
   "metadata": {}
  }
 ],
 "nbformat_minor": 3,
 "metadata": {
  "language_info": {
   "file_extension": ".jl",
   "mimetype": "application/julia",
   "name": "julia",
   "version": "1.3.0-alpha.26"
  },
  "kernelspec": {
   "name": "julia-1.3",
   "display_name": "Julia 1.3.0-alpha.26",
   "language": "julia"
  }
 },
 "nbformat": 4
}
