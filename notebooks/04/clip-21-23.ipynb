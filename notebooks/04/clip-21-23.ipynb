{
 "cells": [
  {
   "outputs": [],
   "cell_type": "markdown",
   "source": [
    "Load Julia packages (libraries) needed  for the snippets in chapter 0"
   ],
   "metadata": {}
  },
  {
   "outputs": [],
   "cell_type": "code",
   "source": [
    "using StatisticalRethinking, CmdStan\n",
    "gr(size=(500,500));"
   ],
   "metadata": {},
   "execution_count": 1
  },
  {
   "outputs": [],
   "cell_type": "markdown",
   "source": [
    "CmdStan uses a tmp directory to store the output of cmdstan"
   ],
   "metadata": {}
  },
  {
   "outputs": [],
   "cell_type": "code",
   "source": [
    "ProjDir = rel_path(\"..\", \"scripts\", \"04\")\n",
    "cd(ProjDir)"
   ],
   "metadata": {},
   "execution_count": 2
  },
  {
   "outputs": [],
   "cell_type": "markdown",
   "source": [
    "CmdStan uses a tmp directory to store the output of cmdstan"
   ],
   "metadata": {}
  },
  {
   "outputs": [],
   "cell_type": "code",
   "source": [
    "ProjDir = rel_path(\"..\", \"scripts\", \"04\")\n",
    "cd(ProjDir)"
   ],
   "metadata": {},
   "execution_count": 3
  },
  {
   "outputs": [
    {
     "output_type": "execute_result",
     "data": {
      "text/plain": "5×4 DataFrame\n│ Row │ height   │ weight   │ age      │ male   │\n│     │ \u001b[90mFloat64⍰\u001b[39m │ \u001b[90mFloat64⍰\u001b[39m │ \u001b[90mFloat64⍰\u001b[39m │ \u001b[90mInt64⍰\u001b[39m │\n├─────┼──────────┼──────────┼──────────┼────────┤\n│ 1   │ 151.765  │ 47.8256  │ 63.0     │ 1      │\n│ 2   │ 139.7    │ 36.4858  │ 63.0     │ 0      │\n│ 3   │ 136.525  │ 31.8648  │ 65.0     │ 0      │\n│ 4   │ 156.845  │ 53.0419  │ 41.0     │ 1      │\n│ 5   │ 145.415  │ 41.2769  │ 51.0     │ 0      │",
      "text/html": [
       "<table class=\"data-frame\"><thead><tr><th></th><th>height</th><th>weight</th><th>age</th><th>male</th></tr><tr><th></th><th>Float64⍰</th><th>Float64⍰</th><th>Float64⍰</th><th>Int64⍰</th></tr></thead><tbody><p>5 rows × 4 columns</p><tr><th>1</th><td>151.765</td><td>47.8256</td><td>63.0</td><td>1</td></tr><tr><th>2</th><td>139.7</td><td>36.4858</td><td>63.0</td><td>0</td></tr><tr><th>3</th><td>136.525</td><td>31.8648</td><td>65.0</td><td>0</td></tr><tr><th>4</th><td>156.845</td><td>53.0419</td><td>41.0</td><td>1</td></tr><tr><th>5</th><td>145.415</td><td>41.2769</td><td>51.0</td><td>0</td></tr></tbody></table>"
      ]
     },
     "metadata": {},
     "execution_count": 4
    }
   ],
   "cell_type": "code",
   "source": [
    "howell1 = CSV.read(rel_path(\"..\", \"data\", \"Howell1.csv\"), delim=';')\n",
    "df = convert(DataFrame, howell1);\n",
    "df2 = filter(row -> row[:age] >= 18, df);\n",
    "first(df2, 5)"
   ],
   "metadata": {},
   "execution_count": 4
  },
  {
   "outputs": [],
   "cell_type": "markdown",
   "source": [
    "### Snippet 4.21"
   ],
   "metadata": {}
  },
  {
   "outputs": [],
   "cell_type": "markdown",
   "source": [
    "Sample 20 random heights"
   ],
   "metadata": {}
  },
  {
   "outputs": [],
   "cell_type": "code",
   "source": [
    "n = size(df2, 1)\n",
    "selected_ind = sample(1:n, 20, replace=false);\n",
    "df3 = df2[selected_ind, :];"
   ],
   "metadata": {},
   "execution_count": 5
  },
  {
   "outputs": [],
   "cell_type": "markdown",
   "source": [
    "### Snippet 4.22"
   ],
   "metadata": {}
  },
  {
   "outputs": [],
   "cell_type": "markdown",
   "source": [
    "Generate approximate probabilities"
   ],
   "metadata": {}
  },
  {
   "outputs": [
    {
     "output_type": "execute_result",
     "data": {
      "text/plain": "10×5 DataFrame\n│ Row │ mu      │ sigma   │ ll       │ prod     │ prob        │\n│     │ \u001b[90mFloat64\u001b[39m │ \u001b[90mFloat64\u001b[39m │ \u001b[90mFloat64\u001b[39m  │ \u001b[90mFloat64\u001b[39m  │ \u001b[90mFloat64\u001b[39m     │\n├─────┼─────────┼─────────┼──────────┼──────────┼─────────────┤\n│ 1   │ 140.0   │ 4.0     │ -230.866 │ -240.498 │ 2.59453e-74 │\n│ 2   │ 140.151 │ 4.0     │ -227.813 │ -237.431 │ 5.5715e-73  │\n│ 3   │ 140.302 │ 4.0     │ -224.789 │ -234.392 │ 1.16285e-71 │\n│ 4   │ 140.452 │ 4.0     │ -221.793 │ -231.382 │ 2.35892e-70 │\n│ 5   │ 140.603 │ 4.0     │ -218.826 │ -228.401 │ 4.65093e-69 │\n│ 6   │ 140.754 │ 4.0     │ -215.887 │ -225.448 │ 8.91259e-68 │\n│ 7   │ 140.905 │ 4.0     │ -212.977 │ -222.523 │ 1.65999e-66 │\n│ 8   │ 141.055 │ 4.0     │ -210.095 │ -219.627 │ 3.00501e-65 │\n│ 9   │ 141.206 │ 4.0     │ -207.241 │ -216.76  │ 5.28718e-64 │\n│ 10  │ 141.357 │ 4.0     │ -204.416 │ -213.921 │ 9.04149e-63 │",
      "text/html": [
       "<table class=\"data-frame\"><thead><tr><th></th><th>mu</th><th>sigma</th><th>ll</th><th>prod</th><th>prob</th></tr><tr><th></th><th>Float64</th><th>Float64</th><th>Float64</th><th>Float64</th><th>Float64</th></tr></thead><tbody><p>10 rows × 5 columns</p><tr><th>1</th><td>140.0</td><td>4.0</td><td>-230.866</td><td>-240.498</td><td>2.59453e-74</td></tr><tr><th>2</th><td>140.151</td><td>4.0</td><td>-227.813</td><td>-237.431</td><td>5.5715e-73</td></tr><tr><th>3</th><td>140.302</td><td>4.0</td><td>-224.789</td><td>-234.392</td><td>1.16285e-71</td></tr><tr><th>4</th><td>140.452</td><td>4.0</td><td>-221.793</td><td>-231.382</td><td>2.35892e-70</td></tr><tr><th>5</th><td>140.603</td><td>4.0</td><td>-218.826</td><td>-228.401</td><td>4.65093e-69</td></tr><tr><th>6</th><td>140.754</td><td>4.0</td><td>-215.887</td><td>-225.448</td><td>8.91259e-68</td></tr><tr><th>7</th><td>140.905</td><td>4.0</td><td>-212.977</td><td>-222.523</td><td>1.65999e-66</td></tr><tr><th>8</th><td>141.055</td><td>4.0</td><td>-210.095</td><td>-219.627</td><td>3.00501e-65</td></tr><tr><th>9</th><td>141.206</td><td>4.0</td><td>-207.241</td><td>-216.76</td><td>5.28718e-64</td></tr><tr><th>10</th><td>141.357</td><td>4.0</td><td>-204.416</td><td>-213.921</td><td>9.04149e-63</td></tr></tbody></table>"
      ]
     },
     "metadata": {},
     "execution_count": 6
    }
   ],
   "cell_type": "code",
   "source": [
    "struct Post\n",
    "  mu::Float64\n",
    "  sigma::Float64\n",
    "  ll:: Float64\n",
    "  prod::Float64\n",
    "  prob::Float64\n",
    "end\n",
    "\n",
    "mu_list = repeat(range(140, 170, length=200), 200);\n",
    "sigma_list = repeat(range(4, 20, length=200), inner=200);\n",
    "\n",
    "ll = zeros(40000);\n",
    "for i in 1:40000\n",
    "    d1 = Normal(mu_list[i], sigma_list[i])\n",
    "    ll[i] = sum(log.(pdf.(d1, df3[:height])))\n",
    "end\n",
    "\n",
    "d2 = Normal(178.0, 20.0)\n",
    "d3 = Uniform(0, 50)\n",
    "prod = ll + log.(pdf.(d2, mu_list)) + log.(pdf.(d3, sigma_list))\n",
    "prob = exp.(prod .- maximum(prod))\n",
    "post = DataFrame(mu=mu_list, sigma=sigma_list, ll=ll, prod=prod, prob=prob)\n",
    "first(post, 10)"
   ],
   "metadata": {},
   "execution_count": 6
  },
  {
   "outputs": [],
   "cell_type": "markdown",
   "source": [
    "Sample post"
   ],
   "metadata": {}
  },
  {
   "outputs": [
    {
     "output_type": "execute_result",
     "data": {
      "text/plain": "10000×5 DataFrame\n│ Row   │ mu      │ sigma   │ ll       │ prod     │ prob       │\n│       │ \u001b[90mFloat64\u001b[39m │ \u001b[90mFloat64\u001b[39m │ \u001b[90mFloat64\u001b[39m  │ \u001b[90mFloat64\u001b[39m  │ \u001b[90mFloat64\u001b[39m    │\n├───────┼─────────┼─────────┼──────────┼──────────┼────────────┤\n│ 1     │ 157.186 │ 7.21608 │ -63.9731 │ -72.3414 │ 0.277564   │\n│ 2     │ 156.884 │ 4.64322 │ -63.5302 │ -71.9143 │ 0.425451   │\n│ 3     │ 156.583 │ 7.77889 │ -64.5073 │ -72.9073 │ 0.157605   │\n│ 4     │ 155.075 │ 6.57286 │ -63.492  │ -71.9756 │ 0.400152   │\n│ 5     │ 155.528 │ 6.25126 │ -63.0502 │ -71.5081 │ 0.638607   │\n│ 6     │ 154.925 │ 5.04523 │ -63.5502 │ -72.0425 │ 0.374235   │\n│ 7     │ 155.075 │ 5.76884 │ -63.105  │ -71.5886 │ 0.58921    │\n⋮\n│ 9993  │ 154.472 │ 10.191  │ -68.0839 │ -76.6025 │ 0.00391544 │\n│ 9994  │ 155.98  │ 6.81407 │ -63.4035 │ -71.8363 │ 0.459962   │\n│ 9995  │ 157.789 │ 7.13568 │ -64.1739 │ -72.5112 │ 0.234205   │\n│ 9996  │ 157.186 │ 5.52764 │ -62.9154 │ -71.2836 │ 0.799372   │\n│ 9997  │ 154.925 │ 5.92965 │ -63.2464 │ -71.7387 │ 0.507102   │\n│ 9998  │ 150.854 │ 13.8894 │ -74.1189 │ -82.8667 │ 7.45178e-6 │\n│ 9999  │ 156.884 │ 6.17085 │ -62.9529 │ -71.3369 │ 0.757853   │\n│ 10000 │ 154.925 │ 6.49246 │ -63.5227 │ -72.015  │ 0.384683   │",
      "text/html": [
       "<table class=\"data-frame\"><thead><tr><th></th><th>mu</th><th>sigma</th><th>ll</th><th>prod</th><th>prob</th></tr><tr><th></th><th>Float64</th><th>Float64</th><th>Float64</th><th>Float64</th><th>Float64</th></tr></thead><tbody><p>10,000 rows × 5 columns</p><tr><th>1</th><td>157.186</td><td>7.21608</td><td>-63.9731</td><td>-72.3414</td><td>0.277564</td></tr><tr><th>2</th><td>156.884</td><td>4.64322</td><td>-63.5302</td><td>-71.9143</td><td>0.425451</td></tr><tr><th>3</th><td>156.583</td><td>7.77889</td><td>-64.5073</td><td>-72.9073</td><td>0.157605</td></tr><tr><th>4</th><td>155.075</td><td>6.57286</td><td>-63.492</td><td>-71.9756</td><td>0.400152</td></tr><tr><th>5</th><td>155.528</td><td>6.25126</td><td>-63.0502</td><td>-71.5081</td><td>0.638607</td></tr><tr><th>6</th><td>154.925</td><td>5.04523</td><td>-63.5502</td><td>-72.0425</td><td>0.374235</td></tr><tr><th>7</th><td>155.075</td><td>5.76884</td><td>-63.105</td><td>-71.5886</td><td>0.58921</td></tr><tr><th>8</th><td>157.337</td><td>6.09045</td><td>-63.1119</td><td>-71.4723</td><td>0.661921</td></tr><tr><th>9</th><td>154.472</td><td>6.33166</td><td>-63.7743</td><td>-72.293</td><td>0.291332</td></tr><tr><th>10</th><td>154.774</td><td>7.21608</td><td>-64.2458</td><td>-72.7468</td><td>0.185039</td></tr><tr><th>11</th><td>154.472</td><td>6.33166</td><td>-63.7743</td><td>-72.293</td><td>0.291332</td></tr><tr><th>12</th><td>154.623</td><td>6.81407</td><td>-63.972</td><td>-72.4818</td><td>0.241208</td></tr><tr><th>13</th><td>156.432</td><td>8.0201</td><td>-64.8049</td><td>-73.2131</td><td>0.116089</td></tr><tr><th>14</th><td>155.678</td><td>7.37688</td><td>-64.0648</td><td>-72.5143</td><td>0.233489</td></tr><tr><th>15</th><td>155.528</td><td>5.92965</td><td>-62.8869</td><td>-71.3449</td><td>0.751863</td></tr><tr><th>16</th><td>156.583</td><td>7.77889</td><td>-64.5073</td><td>-72.9073</td><td>0.157605</td></tr><tr><th>17</th><td>156.281</td><td>5.76884</td><td>-62.6731</td><td>-71.0895</td><td>0.970639</td></tr><tr><th>18</th><td>154.925</td><td>7.69849</td><td>-64.6978</td><td>-73.1901</td><td>0.118784</td></tr><tr><th>19</th><td>155.377</td><td>5.52764</td><td>-62.9069</td><td>-71.3733</td><td>0.730754</td></tr><tr><th>20</th><td>155.226</td><td>5.20603</td><td>-63.1323</td><td>-71.6073</td><td>0.578294</td></tr><tr><th>21</th><td>155.98</td><td>7.37688</td><td>-64.0155</td><td>-72.4483</td><td>0.249427</td></tr><tr><th>22</th><td>155.528</td><td>5.60804</td><td>-62.8227</td><td>-71.2807</td><td>0.801691</td></tr><tr><th>23</th><td>156.884</td><td>5.20603</td><td>-62.8644</td><td>-71.2484</td><td>0.828005</td></tr><tr><th>24</th><td>156.734</td><td>6.17085</td><td>-62.9106</td><td>-71.3026</td><td>0.784344</td></tr><tr><th>&vellip;</th><td>&vellip;</td><td>&vellip;</td><td>&vellip;</td><td>&vellip;</td><td>&vellip;</td></tr></tbody></table>"
      ]
     },
     "metadata": {},
     "execution_count": 7
    }
   ],
   "cell_type": "code",
   "source": [
    "samples = post[sample(1:size(post, 1), Weights(post[:prob]), 10000, replace=true), :]"
   ],
   "metadata": {},
   "execution_count": 7
  },
  {
   "outputs": [],
   "cell_type": "markdown",
   "source": [
    "### Snippet 4.23"
   ],
   "metadata": {}
  },
  {
   "outputs": [],
   "cell_type": "markdown",
   "source": [
    "Density of sigma"
   ],
   "metadata": {}
  },
  {
   "outputs": [
    {
     "output_type": "execute_result",
     "data": {
      "text/plain": "Plot{Plots.GRBackend() n=1}",
      "image/png": "[encoded data removed]",
      "text/html": [
       "<?xml version=\"1.0\" encoding=\"utf-8\"?>\n",
       "<svg xmlns=\"http://www.w3.org/2000/svg\" xmlns:xlink=\"http://www.w3.org/1999/xlink\" width=\"500\" height=\"500\" viewBox=\"0 0 2000 2000\">\n",
       "<defs>\n",
       "  <clipPath id=\"clip2900\">\n",
       "    <rect x=\"0\" y=\"0\" width=\"2000\" height=\"2000\"/>\n",
       "  </clipPath>\n",
       "</defs>\n",
       "<polygon clip-path=\"url(#clip2900)\" points=\"\n",
       "0,2000 2000,2000 2000,0 0,0 \n",
       "  \" fill=\"#ffffff\" fill-rule=\"evenodd\" fill-opacity=\"1\"/>\n",
       "<defs>\n",
       "  <clipPath id=\"clip2901\">\n",
       "    <rect x=\"400\" y=\"200\" width=\"1401\" height=\"1401\"/>\n",
       "  </clipPath>\n",
       "</defs>\n",
       "<polygon clip-path=\"url(#clip2900)\" points=\"\n",
       "161.394,1886.71 1921.26,1886.71 1921.26,47.2441 161.394,47.2441 \n",
       "  \" fill=\"#ffffff\" fill-rule=\"evenodd\" fill-opacity=\"1\"/>\n",
       "<defs>\n",
       "  <clipPath id=\"clip2902\">\n",
       "    <rect x=\"161\" y=\"47\" width=\"1761\" height=\"1840\"/>\n",
       "  </clipPath>\n",
       "</defs>\n",
       "<polyline clip-path=\"url(#clip2902)\" style=\"stroke:#000000; stroke-width:2; stroke-opacity:0.1; fill:none\" points=\"\n",
       "  448.82,1886.71 448.82,47.2441 \n",
       "  \"/>\n",
       "<polyline clip-path=\"url(#clip2902)\" style=\"stroke:#000000; stroke-width:2; stroke-opacity:0.1; fill:none\" points=\"\n",
       "  824.326,1886.71 824.326,47.2441 \n",
       "  \"/>\n",
       "<polyline clip-path=\"url(#clip2902)\" style=\"stroke:#000000; stroke-width:2; stroke-opacity:0.1; fill:none\" points=\"\n",
       "  1199.83,1886.71 1199.83,47.2441 \n",
       "  \"/>\n",
       "<polyline clip-path=\"url(#clip2902)\" style=\"stroke:#000000; stroke-width:2; stroke-opacity:0.1; fill:none\" points=\"\n",
       "  1575.34,1886.71 1575.34,47.2441 \n",
       "  \"/>\n",
       "<polyline clip-path=\"url(#clip2902)\" style=\"stroke:#000000; stroke-width:2; stroke-opacity:0.1; fill:none\" points=\"\n",
       "  161.394,1834.65 1921.26,1834.65 \n",
       "  \"/>\n",
       "<polyline clip-path=\"url(#clip2902)\" style=\"stroke:#000000; stroke-width:2; stroke-opacity:0.1; fill:none\" points=\"\n",
       "  161.394,1409.01 1921.26,1409.01 \n",
       "  \"/>\n",
       "<polyline clip-path=\"url(#clip2902)\" style=\"stroke:#000000; stroke-width:2; stroke-opacity:0.1; fill:none\" points=\"\n",
       "  161.394,983.364 1921.26,983.364 \n",
       "  \"/>\n",
       "<polyline clip-path=\"url(#clip2902)\" style=\"stroke:#000000; stroke-width:2; stroke-opacity:0.1; fill:none\" points=\"\n",
       "  161.394,557.722 1921.26,557.722 \n",
       "  \"/>\n",
       "<polyline clip-path=\"url(#clip2902)\" style=\"stroke:#000000; stroke-width:2; stroke-opacity:0.1; fill:none\" points=\"\n",
       "  161.394,132.079 1921.26,132.079 \n",
       "  \"/>\n",
       "<polyline clip-path=\"url(#clip2900)\" style=\"stroke:#000000; stroke-width:4; stroke-opacity:1; fill:none\" points=\"\n",
       "  161.394,1886.71 1921.26,1886.71 \n",
       "  \"/>\n",
       "<polyline clip-path=\"url(#clip2900)\" style=\"stroke:#000000; stroke-width:4; stroke-opacity:1; fill:none\" points=\"\n",
       "  161.394,1886.71 161.394,47.2441 \n",
       "  \"/>\n",
       "<polyline clip-path=\"url(#clip2900)\" style=\"stroke:#000000; stroke-width:4; stroke-opacity:1; fill:none\" points=\"\n",
       "  448.82,1886.71 448.82,1859.12 \n",
       "  \"/>\n",
       "<polyline clip-path=\"url(#clip2900)\" style=\"stroke:#000000; stroke-width:4; stroke-opacity:1; fill:none\" points=\"\n",
       "  824.326,1886.71 824.326,1859.12 \n",
       "  \"/>\n",
       "<polyline clip-path=\"url(#clip2900)\" style=\"stroke:#000000; stroke-width:4; stroke-opacity:1; fill:none\" points=\"\n",
       "  1199.83,1886.71 1199.83,1859.12 \n",
       "  \"/>\n",
       "<polyline clip-path=\"url(#clip2900)\" style=\"stroke:#000000; stroke-width:4; stroke-opacity:1; fill:none\" points=\"\n",
       "  1575.34,1886.71 1575.34,1859.12 \n",
       "  \"/>\n",
       "<polyline clip-path=\"url(#clip2900)\" style=\"stroke:#000000; stroke-width:4; stroke-opacity:1; fill:none\" points=\"\n",
       "  161.394,1834.65 187.792,1834.65 \n",
       "  \"/>\n",
       "<polyline clip-path=\"url(#clip2900)\" style=\"stroke:#000000; stroke-width:4; stroke-opacity:1; fill:none\" points=\"\n",
       "  161.394,1409.01 187.792,1409.01 \n",
       "  \"/>\n",
       "<polyline clip-path=\"url(#clip2900)\" style=\"stroke:#000000; stroke-width:4; stroke-opacity:1; fill:none\" points=\"\n",
       "  161.394,983.364 187.792,983.364 \n",
       "  \"/>\n",
       "<polyline clip-path=\"url(#clip2900)\" style=\"stroke:#000000; stroke-width:4; stroke-opacity:1; fill:none\" points=\"\n",
       "  161.394,557.722 187.792,557.722 \n",
       "  \"/>\n",
       "<polyline clip-path=\"url(#clip2900)\" style=\"stroke:#000000; stroke-width:4; stroke-opacity:1; fill:none\" points=\"\n",
       "  161.394,132.079 187.792,132.079 \n",
       "  \"/>\n",
       "<g clip-path=\"url(#clip2900)\">\n",
       "<text style=\"fill:#000000; fill-opacity:1; font-family:Arial,Helvetica Neue,Helvetica,sans-serif; font-size:48px; text-anchor:middle;\" transform=\"rotate(0, 448.82, 1938.71)\" x=\"448.82\" y=\"1938.71\">5.0</text>\n",
       "</g>\n",
       "<g clip-path=\"url(#clip2900)\">\n",
       "<text style=\"fill:#000000; fill-opacity:1; font-family:Arial,Helvetica Neue,Helvetica,sans-serif; font-size:48px; text-anchor:middle;\" transform=\"rotate(0, 824.326, 1938.71)\" x=\"824.326\" y=\"1938.71\">7.5</text>\n",
       "</g>\n",
       "<g clip-path=\"url(#clip2900)\">\n",
       "<text style=\"fill:#000000; fill-opacity:1; font-family:Arial,Helvetica Neue,Helvetica,sans-serif; font-size:48px; text-anchor:middle;\" transform=\"rotate(0, 1199.83, 1938.71)\" x=\"1199.83\" y=\"1938.71\">10.0</text>\n",
       "</g>\n",
       "<g clip-path=\"url(#clip2900)\">\n",
       "<text style=\"fill:#000000; fill-opacity:1; font-family:Arial,Helvetica Neue,Helvetica,sans-serif; font-size:48px; text-anchor:middle;\" transform=\"rotate(0, 1575.34, 1938.71)\" x=\"1575.34\" y=\"1938.71\">12.5</text>\n",
       "</g>\n",
       "<g clip-path=\"url(#clip2900)\">\n",
       "<text style=\"fill:#000000; fill-opacity:1; font-family:Arial,Helvetica Neue,Helvetica,sans-serif; font-size:48px; text-anchor:end;\" transform=\"rotate(0, 141.394, 1852.15)\" x=\"141.394\" y=\"1852.15\">0.0</text>\n",
       "</g>\n",
       "<g clip-path=\"url(#clip2900)\">\n",
       "<text style=\"fill:#000000; fill-opacity:1; font-family:Arial,Helvetica Neue,Helvetica,sans-serif; font-size:48px; text-anchor:end;\" transform=\"rotate(0, 141.394, 1426.51)\" x=\"141.394\" y=\"1426.51\">0.1</text>\n",
       "</g>\n",
       "<g clip-path=\"url(#clip2900)\">\n",
       "<text style=\"fill:#000000; fill-opacity:1; font-family:Arial,Helvetica Neue,Helvetica,sans-serif; font-size:48px; text-anchor:end;\" transform=\"rotate(0, 141.394, 1000.86)\" x=\"141.394\" y=\"1000.86\">0.2</text>\n",
       "</g>\n",
       "<g clip-path=\"url(#clip2900)\">\n",
       "<text style=\"fill:#000000; fill-opacity:1; font-family:Arial,Helvetica Neue,Helvetica,sans-serif; font-size:48px; text-anchor:end;\" transform=\"rotate(0, 141.394, 575.222)\" x=\"141.394\" y=\"575.222\">0.3</text>\n",
       "</g>\n",
       "<g clip-path=\"url(#clip2900)\">\n",
       "<text style=\"fill:#000000; fill-opacity:1; font-family:Arial,Helvetica Neue,Helvetica,sans-serif; font-size:48px; text-anchor:end;\" transform=\"rotate(0, 141.394, 149.579)\" x=\"141.394\" y=\"149.579\">0.4</text>\n",
       "</g>\n",
       "<polyline clip-path=\"url(#clip2902)\" style=\"stroke:#009af9; stroke-width:4; stroke-opacity:1; fill:none\" points=\"\n",
       "  211.202,1834.64 219.545,1834.62 227.887,1834.53 236.23,1834.24 244.573,1833.48 252.916,1831.64 261.259,1827.76 269.602,1820.48 277.945,1808.25 286.288,1789.75 \n",
       "  294.631,1764.43 302.974,1732.78 311.317,1696.31 319.66,1656.85 328.003,1615.58 336.346,1572.18 344.689,1524.82 353.032,1471.03 361.375,1409.24 369.718,1339.84 \n",
       "  378.061,1265.42 386.404,1189.66 394.747,1115.52 403.09,1043.9 411.433,973.57 419.776,902.384 428.119,828.858 436.462,753.028 444.805,676.37 453.148,601.091 \n",
       "  461.491,529.406 469.834,463.107 478.177,403.303 486.52,350.205 494.862,303.203 503.205,261.482 511.548,224.727 519.891,193.091 528.234,166.394 536.577,143.646 \n",
       "  544.92,123.97 553.263,108.22 561.606,99.3044 569.949,100.357 578.292,112.44 586.635,133.97 594.978,162.088 603.321,194.233 611.664,228.572 620.007,263.764 \n",
       "  628.35,299.219 636.693,335.786 645.036,375.666 653.379,421.007 661.722,472.184 670.065,527.163 678.408,582.379 686.751,634.434 695.094,681.522 703.437,723.893 \n",
       "  711.78,763.344 720.123,802.232 728.466,842.582 736.809,885.629 745.152,931.741 753.495,980.444 761.837,1030.46 770.18,1079.93 778.523,1126.8 786.866,1169.51 \n",
       "  795.209,1207.53 803.552,1241.41 811.895,1272.22 820.238,1300.67 828.581,1326.74 836.924,1350.18 845.267,1371.44 853.61,1392.05 861.953,1414 870.296,1438.62 \n",
       "  878.639,1465.66 886.982,1493.36 895.325,1519.28 903.668,1541.51 912.011,1559.58 920.354,1574.5 928.697,1588.13 937.04,1602.11 945.383,1617.19 953.726,1633.03 \n",
       "  962.069,1648.45 970.412,1661.99 978.755,1672.48 987.098,1679.68 995.441,1684.43 1003.78,1688.22 1012.13,1692.35 1020.47,1697.36 1028.81,1703.09 1037.16,1709.25 \n",
       "  1045.5,1715.83 1053.84,1723.14 1062.18,1731.39 1070.53,1740.31 1078.87,1749.19 1087.21,1757.24 1095.56,1764 1103.9,1769.59 1112.24,1774.5 1120.59,1779.2 \n",
       "  1128.93,1783.9 1137.27,1788.43 1145.61,1792.43 1153.96,1795.56 1162.3,1797.74 1170.64,1799.22 1178.99,1800.48 1187.33,1802.11 1195.67,1804.48 1204.01,1807.63 \n",
       "  1212.36,1811.2 1220.7,1814.61 1229.04,1817.4 1237.39,1819.4 1245.73,1820.78 1254.07,1821.91 1262.42,1823.09 1270.76,1824.39 1279.1,1825.61 1287.44,1826.49 \n",
       "  1295.79,1826.89 1304.13,1826.96 1312.47,1827.01 1320.82,1827.32 1329.16,1827.94 1337.5,1828.71 1345.85,1829.35 1354.19,1829.69 1362.53,1829.72 1370.87,1829.57 \n",
       "  1379.22,1829.41 1387.56,1829.31 1395.9,1829.24 1404.25,1829.15 1412.59,1829.06 1420.93,1829.08 1429.27,1829.33 1437.62,1829.87 1445.96,1830.6 1454.3,1831.35 \n",
       "  1462.65,1831.97 1470.99,1832.41 1479.33,1832.68 1487.68,1832.85 1496.02,1832.98 1504.36,1833.14 1512.7,1833.36 1521.05,1833.64 1529.39,1833.93 1537.73,1834.15 \n",
       "  1546.08,1834.27 1554.42,1834.24 1562.76,1834.08 1571.11,1833.85 1579.45,1833.61 1587.79,1833.43 1596.13,1833.35 1604.48,1833.33 1612.82,1833.3 1621.16,1833.18 \n",
       "  1629.51,1832.99 1637.85,1832.78 1646.19,1832.64 1654.54,1832.65 1662.88,1832.83 1671.22,1833.16 1679.56,1833.54 1687.91,1833.9 1696.25,1834.16 1704.59,1834.27 \n",
       "  1712.94,1834.22 1721.28,1834.03 1729.62,1833.76 1737.96,1833.47 1746.31,1833.22 1754.65,1833.07 1762.99,1833.01 1771.34,1833.02 1779.68,1833.12 1788.02,1833.3 \n",
       "  1796.37,1833.56 1804.71,1833.86 1813.05,1834.14 1821.39,1834.37 1829.74,1834.51 1838.08,1834.59 1846.42,1834.63 1854.77,1834.64 1863.11,1834.65 1871.45,1834.65 \n",
       "  \n",
       "  \"/>\n",
       "<polygon clip-path=\"url(#clip2900)\" points=\"\n",
       "1610.43,227.724 1861.26,227.724 1861.26,106.764 1610.43,106.764 \n",
       "  \" fill=\"#ffffff\" fill-rule=\"evenodd\" fill-opacity=\"1\"/>\n",
       "<polyline clip-path=\"url(#clip2900)\" style=\"stroke:#000000; stroke-width:4; stroke-opacity:1; fill:none\" points=\"\n",
       "  1610.43,227.724 1861.26,227.724 1861.26,106.764 1610.43,106.764 1610.43,227.724 \n",
       "  \"/>\n",
       "<polyline clip-path=\"url(#clip2900)\" style=\"stroke:#009af9; stroke-width:4; stroke-opacity:1; fill:none\" points=\"\n",
       "  1630.43,167.244 1750.43,167.244 \n",
       "  \"/>\n",
       "<g clip-path=\"url(#clip2900)\">\n",
       "<text style=\"fill:#000000; fill-opacity:1; font-family:Arial,Helvetica Neue,Helvetica,sans-serif; font-size:48px; text-anchor:start;\" transform=\"rotate(0, 1770.43, 184.744)\" x=\"1770.43\" y=\"184.744\">y1</text>\n",
       "</g>\n",
       "</svg>\n"
      ],
      "image/svg+xml": [
       "<?xml version=\"1.0\" encoding=\"utf-8\"?>\n",
       "<svg xmlns=\"http://www.w3.org/2000/svg\" xmlns:xlink=\"http://www.w3.org/1999/xlink\" width=\"500\" height=\"500\" viewBox=\"0 0 2000 2000\">\n",
       "<defs>\n",
       "  <clipPath id=\"clip2800\">\n",
       "    <rect x=\"0\" y=\"0\" width=\"2000\" height=\"2000\"/>\n",
       "  </clipPath>\n",
       "</defs>\n",
       "<polygon clip-path=\"url(#clip2800)\" points=\"\n",
       "0,2000 2000,2000 2000,0 0,0 \n",
       "  \" fill=\"#ffffff\" fill-rule=\"evenodd\" fill-opacity=\"1\"/>\n",
       "<defs>\n",
       "  <clipPath id=\"clip2801\">\n",
       "    <rect x=\"400\" y=\"200\" width=\"1401\" height=\"1401\"/>\n",
       "  </clipPath>\n",
       "</defs>\n",
       "<polygon clip-path=\"url(#clip2800)\" points=\"\n",
       "161.394,1886.71 1921.26,1886.71 1921.26,47.2441 161.394,47.2441 \n",
       "  \" fill=\"#ffffff\" fill-rule=\"evenodd\" fill-opacity=\"1\"/>\n",
       "<defs>\n",
       "  <clipPath id=\"clip2802\">\n",
       "    <rect x=\"161\" y=\"47\" width=\"1761\" height=\"1840\"/>\n",
       "  </clipPath>\n",
       "</defs>\n",
       "<polyline clip-path=\"url(#clip2802)\" style=\"stroke:#000000; stroke-width:2; stroke-opacity:0.1; fill:none\" points=\"\n",
       "  448.82,1886.71 448.82,47.2441 \n",
       "  \"/>\n",
       "<polyline clip-path=\"url(#clip2802)\" style=\"stroke:#000000; stroke-width:2; stroke-opacity:0.1; fill:none\" points=\"\n",
       "  824.326,1886.71 824.326,47.2441 \n",
       "  \"/>\n",
       "<polyline clip-path=\"url(#clip2802)\" style=\"stroke:#000000; stroke-width:2; stroke-opacity:0.1; fill:none\" points=\"\n",
       "  1199.83,1886.71 1199.83,47.2441 \n",
       "  \"/>\n",
       "<polyline clip-path=\"url(#clip2802)\" style=\"stroke:#000000; stroke-width:2; stroke-opacity:0.1; fill:none\" points=\"\n",
       "  1575.34,1886.71 1575.34,47.2441 \n",
       "  \"/>\n",
       "<polyline clip-path=\"url(#clip2802)\" style=\"stroke:#000000; stroke-width:2; stroke-opacity:0.1; fill:none\" points=\"\n",
       "  161.394,1834.65 1921.26,1834.65 \n",
       "  \"/>\n",
       "<polyline clip-path=\"url(#clip2802)\" style=\"stroke:#000000; stroke-width:2; stroke-opacity:0.1; fill:none\" points=\"\n",
       "  161.394,1409.01 1921.26,1409.01 \n",
       "  \"/>\n",
       "<polyline clip-path=\"url(#clip2802)\" style=\"stroke:#000000; stroke-width:2; stroke-opacity:0.1; fill:none\" points=\"\n",
       "  161.394,983.364 1921.26,983.364 \n",
       "  \"/>\n",
       "<polyline clip-path=\"url(#clip2802)\" style=\"stroke:#000000; stroke-width:2; stroke-opacity:0.1; fill:none\" points=\"\n",
       "  161.394,557.722 1921.26,557.722 \n",
       "  \"/>\n",
       "<polyline clip-path=\"url(#clip2802)\" style=\"stroke:#000000; stroke-width:2; stroke-opacity:0.1; fill:none\" points=\"\n",
       "  161.394,132.079 1921.26,132.079 \n",
       "  \"/>\n",
       "<polyline clip-path=\"url(#clip2800)\" style=\"stroke:#000000; stroke-width:4; stroke-opacity:1; fill:none\" points=\"\n",
       "  161.394,1886.71 1921.26,1886.71 \n",
       "  \"/>\n",
       "<polyline clip-path=\"url(#clip2800)\" style=\"stroke:#000000; stroke-width:4; stroke-opacity:1; fill:none\" points=\"\n",
       "  161.394,1886.71 161.394,47.2441 \n",
       "  \"/>\n",
       "<polyline clip-path=\"url(#clip2800)\" style=\"stroke:#000000; stroke-width:4; stroke-opacity:1; fill:none\" points=\"\n",
       "  448.82,1886.71 448.82,1859.12 \n",
       "  \"/>\n",
       "<polyline clip-path=\"url(#clip2800)\" style=\"stroke:#000000; stroke-width:4; stroke-opacity:1; fill:none\" points=\"\n",
       "  824.326,1886.71 824.326,1859.12 \n",
       "  \"/>\n",
       "<polyline clip-path=\"url(#clip2800)\" style=\"stroke:#000000; stroke-width:4; stroke-opacity:1; fill:none\" points=\"\n",
       "  1199.83,1886.71 1199.83,1859.12 \n",
       "  \"/>\n",
       "<polyline clip-path=\"url(#clip2800)\" style=\"stroke:#000000; stroke-width:4; stroke-opacity:1; fill:none\" points=\"\n",
       "  1575.34,1886.71 1575.34,1859.12 \n",
       "  \"/>\n",
       "<polyline clip-path=\"url(#clip2800)\" style=\"stroke:#000000; stroke-width:4; stroke-opacity:1; fill:none\" points=\"\n",
       "  161.394,1834.65 187.792,1834.65 \n",
       "  \"/>\n",
       "<polyline clip-path=\"url(#clip2800)\" style=\"stroke:#000000; stroke-width:4; stroke-opacity:1; fill:none\" points=\"\n",
       "  161.394,1409.01 187.792,1409.01 \n",
       "  \"/>\n",
       "<polyline clip-path=\"url(#clip2800)\" style=\"stroke:#000000; stroke-width:4; stroke-opacity:1; fill:none\" points=\"\n",
       "  161.394,983.364 187.792,983.364 \n",
       "  \"/>\n",
       "<polyline clip-path=\"url(#clip2800)\" style=\"stroke:#000000; stroke-width:4; stroke-opacity:1; fill:none\" points=\"\n",
       "  161.394,557.722 187.792,557.722 \n",
       "  \"/>\n",
       "<polyline clip-path=\"url(#clip2800)\" style=\"stroke:#000000; stroke-width:4; stroke-opacity:1; fill:none\" points=\"\n",
       "  161.394,132.079 187.792,132.079 \n",
       "  \"/>\n",
       "<g clip-path=\"url(#clip2800)\">\n",
       "<text style=\"fill:#000000; fill-opacity:1; font-family:Arial,Helvetica Neue,Helvetica,sans-serif; font-size:48px; text-anchor:middle;\" transform=\"rotate(0, 448.82, 1938.71)\" x=\"448.82\" y=\"1938.71\">5.0</text>\n",
       "</g>\n",
       "<g clip-path=\"url(#clip2800)\">\n",
       "<text style=\"fill:#000000; fill-opacity:1; font-family:Arial,Helvetica Neue,Helvetica,sans-serif; font-size:48px; text-anchor:middle;\" transform=\"rotate(0, 824.326, 1938.71)\" x=\"824.326\" y=\"1938.71\">7.5</text>\n",
       "</g>\n",
       "<g clip-path=\"url(#clip2800)\">\n",
       "<text style=\"fill:#000000; fill-opacity:1; font-family:Arial,Helvetica Neue,Helvetica,sans-serif; font-size:48px; text-anchor:middle;\" transform=\"rotate(0, 1199.83, 1938.71)\" x=\"1199.83\" y=\"1938.71\">10.0</text>\n",
       "</g>\n",
       "<g clip-path=\"url(#clip2800)\">\n",
       "<text style=\"fill:#000000; fill-opacity:1; font-family:Arial,Helvetica Neue,Helvetica,sans-serif; font-size:48px; text-anchor:middle;\" transform=\"rotate(0, 1575.34, 1938.71)\" x=\"1575.34\" y=\"1938.71\">12.5</text>\n",
       "</g>\n",
       "<g clip-path=\"url(#clip2800)\">\n",
       "<text style=\"fill:#000000; fill-opacity:1; font-family:Arial,Helvetica Neue,Helvetica,sans-serif; font-size:48px; text-anchor:end;\" transform=\"rotate(0, 141.394, 1852.15)\" x=\"141.394\" y=\"1852.15\">0.0</text>\n",
       "</g>\n",
       "<g clip-path=\"url(#clip2800)\">\n",
       "<text style=\"fill:#000000; fill-opacity:1; font-family:Arial,Helvetica Neue,Helvetica,sans-serif; font-size:48px; text-anchor:end;\" transform=\"rotate(0, 141.394, 1426.51)\" x=\"141.394\" y=\"1426.51\">0.1</text>\n",
       "</g>\n",
       "<g clip-path=\"url(#clip2800)\">\n",
       "<text style=\"fill:#000000; fill-opacity:1; font-family:Arial,Helvetica Neue,Helvetica,sans-serif; font-size:48px; text-anchor:end;\" transform=\"rotate(0, 141.394, 1000.86)\" x=\"141.394\" y=\"1000.86\">0.2</text>\n",
       "</g>\n",
       "<g clip-path=\"url(#clip2800)\">\n",
       "<text style=\"fill:#000000; fill-opacity:1; font-family:Arial,Helvetica Neue,Helvetica,sans-serif; font-size:48px; text-anchor:end;\" transform=\"rotate(0, 141.394, 575.222)\" x=\"141.394\" y=\"575.222\">0.3</text>\n",
       "</g>\n",
       "<g clip-path=\"url(#clip2800)\">\n",
       "<text style=\"fill:#000000; fill-opacity:1; font-family:Arial,Helvetica Neue,Helvetica,sans-serif; font-size:48px; text-anchor:end;\" transform=\"rotate(0, 141.394, 149.579)\" x=\"141.394\" y=\"149.579\">0.4</text>\n",
       "</g>\n",
       "<polyline clip-path=\"url(#clip2802)\" style=\"stroke:#009af9; stroke-width:4; stroke-opacity:1; fill:none\" points=\"\n",
       "  211.202,1834.64 219.545,1834.62 227.887,1834.53 236.23,1834.24 244.573,1833.48 252.916,1831.64 261.259,1827.76 269.602,1820.48 277.945,1808.25 286.288,1789.75 \n",
       "  294.631,1764.43 302.974,1732.78 311.317,1696.31 319.66,1656.85 328.003,1615.58 336.346,1572.18 344.689,1524.82 353.032,1471.03 361.375,1409.24 369.718,1339.84 \n",
       "  378.061,1265.42 386.404,1189.66 394.747,1115.52 403.09,1043.9 411.433,973.57 419.776,902.384 428.119,828.858 436.462,753.028 444.805,676.37 453.148,601.091 \n",
       "  461.491,529.406 469.834,463.107 478.177,403.303 486.52,350.205 494.862,303.203 503.205,261.482 511.548,224.727 519.891,193.091 528.234,166.394 536.577,143.646 \n",
       "  544.92,123.97 553.263,108.22 561.606,99.3044 569.949,100.357 578.292,112.44 586.635,133.97 594.978,162.088 603.321,194.233 611.664,228.572 620.007,263.764 \n",
       "  628.35,299.219 636.693,335.786 645.036,375.666 653.379,421.007 661.722,472.184 670.065,527.163 678.408,582.379 686.751,634.434 695.094,681.522 703.437,723.893 \n",
       "  711.78,763.344 720.123,802.232 728.466,842.582 736.809,885.629 745.152,931.741 753.495,980.444 761.837,1030.46 770.18,1079.93 778.523,1126.8 786.866,1169.51 \n",
       "  795.209,1207.53 803.552,1241.41 811.895,1272.22 820.238,1300.67 828.581,1326.74 836.924,1350.18 845.267,1371.44 853.61,1392.05 861.953,1414 870.296,1438.62 \n",
       "  878.639,1465.66 886.982,1493.36 895.325,1519.28 903.668,1541.51 912.011,1559.58 920.354,1574.5 928.697,1588.13 937.04,1602.11 945.383,1617.19 953.726,1633.03 \n",
       "  962.069,1648.45 970.412,1661.99 978.755,1672.48 987.098,1679.68 995.441,1684.43 1003.78,1688.22 1012.13,1692.35 1020.47,1697.36 1028.81,1703.09 1037.16,1709.25 \n",
       "  1045.5,1715.83 1053.84,1723.14 1062.18,1731.39 1070.53,1740.31 1078.87,1749.19 1087.21,1757.24 1095.56,1764 1103.9,1769.59 1112.24,1774.5 1120.59,1779.2 \n",
       "  1128.93,1783.9 1137.27,1788.43 1145.61,1792.43 1153.96,1795.56 1162.3,1797.74 1170.64,1799.22 1178.99,1800.48 1187.33,1802.11 1195.67,1804.48 1204.01,1807.63 \n",
       "  1212.36,1811.2 1220.7,1814.61 1229.04,1817.4 1237.39,1819.4 1245.73,1820.78 1254.07,1821.91 1262.42,1823.09 1270.76,1824.39 1279.1,1825.61 1287.44,1826.49 \n",
       "  1295.79,1826.89 1304.13,1826.96 1312.47,1827.01 1320.82,1827.32 1329.16,1827.94 1337.5,1828.71 1345.85,1829.35 1354.19,1829.69 1362.53,1829.72 1370.87,1829.57 \n",
       "  1379.22,1829.41 1387.56,1829.31 1395.9,1829.24 1404.25,1829.15 1412.59,1829.06 1420.93,1829.08 1429.27,1829.33 1437.62,1829.87 1445.96,1830.6 1454.3,1831.35 \n",
       "  1462.65,1831.97 1470.99,1832.41 1479.33,1832.68 1487.68,1832.85 1496.02,1832.98 1504.36,1833.14 1512.7,1833.36 1521.05,1833.64 1529.39,1833.93 1537.73,1834.15 \n",
       "  1546.08,1834.27 1554.42,1834.24 1562.76,1834.08 1571.11,1833.85 1579.45,1833.61 1587.79,1833.43 1596.13,1833.35 1604.48,1833.33 1612.82,1833.3 1621.16,1833.18 \n",
       "  1629.51,1832.99 1637.85,1832.78 1646.19,1832.64 1654.54,1832.65 1662.88,1832.83 1671.22,1833.16 1679.56,1833.54 1687.91,1833.9 1696.25,1834.16 1704.59,1834.27 \n",
       "  1712.94,1834.22 1721.28,1834.03 1729.62,1833.76 1737.96,1833.47 1746.31,1833.22 1754.65,1833.07 1762.99,1833.01 1771.34,1833.02 1779.68,1833.12 1788.02,1833.3 \n",
       "  1796.37,1833.56 1804.71,1833.86 1813.05,1834.14 1821.39,1834.37 1829.74,1834.51 1838.08,1834.59 1846.42,1834.63 1854.77,1834.64 1863.11,1834.65 1871.45,1834.65 \n",
       "  \n",
       "  \"/>\n",
       "<polygon clip-path=\"url(#clip2800)\" points=\"\n",
       "1610.43,227.724 1861.26,227.724 1861.26,106.764 1610.43,106.764 \n",
       "  \" fill=\"#ffffff\" fill-rule=\"evenodd\" fill-opacity=\"1\"/>\n",
       "<polyline clip-path=\"url(#clip2800)\" style=\"stroke:#000000; stroke-width:4; stroke-opacity:1; fill:none\" points=\"\n",
       "  1610.43,227.724 1861.26,227.724 1861.26,106.764 1610.43,106.764 1610.43,227.724 \n",
       "  \"/>\n",
       "<polyline clip-path=\"url(#clip2800)\" style=\"stroke:#009af9; stroke-width:4; stroke-opacity:1; fill:none\" points=\"\n",
       "  1630.43,167.244 1750.43,167.244 \n",
       "  \"/>\n",
       "<g clip-path=\"url(#clip2800)\">\n",
       "<text style=\"fill:#000000; fill-opacity:1; font-family:Arial,Helvetica Neue,Helvetica,sans-serif; font-size:48px; text-anchor:start;\" transform=\"rotate(0, 1770.43, 184.744)\" x=\"1770.43\" y=\"184.744\">y1</text>\n",
       "</g>\n",
       "</svg>\n"
      ]
     },
     "metadata": {},
     "execution_count": 8
    }
   ],
   "cell_type": "code",
   "source": [
    "density(samples[:sigma])"
   ],
   "metadata": {},
   "execution_count": 8
  },
  {
   "outputs": [],
   "cell_type": "markdown",
   "source": [
    "End of `clip-21-23.jl`"
   ],
   "metadata": {}
  },
  {
   "outputs": [],
   "cell_type": "markdown",
   "source": [
    "*This notebook was generated using [Literate.jl](https://github.com/fredrikekre/Literate.jl).*"
   ],
   "metadata": {}
  }
 ],
 "nbformat_minor": 3,
 "metadata": {
  "language_info": {
   "file_extension": ".jl",
   "mimetype": "application/julia",
   "name": "julia",
   "version": "1.2.0-DEV.564"
  },
  "kernelspec": {
   "name": "julia-1.2",
   "display_name": "Julia 1.2.0-DEV.564",
   "language": "julia"
  }
 },
 "nbformat": 4
}
