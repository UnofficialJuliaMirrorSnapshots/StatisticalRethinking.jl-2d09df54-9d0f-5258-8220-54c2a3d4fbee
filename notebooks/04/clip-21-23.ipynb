{
 "cells": [
  {
   "outputs": [],
   "cell_type": "markdown",
   "source": [
    "Load Julia packages (libraries) needed  for the snippets in chapter 0"
   ],
   "metadata": {}
  },
  {
   "outputs": [],
   "cell_type": "code",
   "source": [
    "using StatisticalRethinking, CmdStan\n",
    "gr(size=(600,600));"
   ],
   "metadata": {},
   "execution_count": 1
  },
  {
   "outputs": [],
   "cell_type": "markdown",
   "source": [
    "CmdStan uses a tmp directory to store the output of cmdstan"
   ],
   "metadata": {}
  },
  {
   "outputs": [],
   "cell_type": "code",
   "source": [
    "ProjDir = rel_path(\"..\", \"scripts\", \"04\")\n",
    "cd(ProjDir)"
   ],
   "metadata": {},
   "execution_count": 2
  },
  {
   "outputs": [],
   "cell_type": "markdown",
   "source": [
    "CmdStan uses a tmp directory to store the output of cmdstan"
   ],
   "metadata": {}
  },
  {
   "outputs": [],
   "cell_type": "code",
   "source": [
    "ProjDir = rel_path(\"..\", \"scripts\", \"04\")\n",
    "cd(ProjDir)"
   ],
   "metadata": {},
   "execution_count": 3
  },
  {
   "outputs": [
    {
     "output_type": "execute_result",
     "data": {
      "text/plain": "5×4 DataFrame\n│ Row │ height  │ weight  │ age     │ male  │\n│     │ \u001b[90mFloat64\u001b[39m │ \u001b[90mFloat64\u001b[39m │ \u001b[90mFloat64\u001b[39m │ \u001b[90mInt64\u001b[39m │\n├─────┼─────────┼─────────┼─────────┼───────┤\n│ 1   │ 151.765 │ 47.8256 │ 63.0    │ 1     │\n│ 2   │ 139.7   │ 36.4858 │ 63.0    │ 0     │\n│ 3   │ 136.525 │ 31.8648 │ 65.0    │ 0     │\n│ 4   │ 156.845 │ 53.0419 │ 41.0    │ 1     │\n│ 5   │ 145.415 │ 41.2769 │ 51.0    │ 0     │",
      "text/html": [
       "<table class=\"data-frame\"><thead><tr><th></th><th>height</th><th>weight</th><th>age</th><th>male</th></tr><tr><th></th><th>Float64</th><th>Float64</th><th>Float64</th><th>Int64</th></tr></thead><tbody><p>5 rows × 4 columns</p><tr><th>1</th><td>151.765</td><td>47.8256</td><td>63.0</td><td>1</td></tr><tr><th>2</th><td>139.7</td><td>36.4858</td><td>63.0</td><td>0</td></tr><tr><th>3</th><td>136.525</td><td>31.8648</td><td>65.0</td><td>0</td></tr><tr><th>4</th><td>156.845</td><td>53.0419</td><td>41.0</td><td>1</td></tr><tr><th>5</th><td>145.415</td><td>41.2769</td><td>51.0</td><td>0</td></tr></tbody></table>"
      ]
     },
     "metadata": {},
     "execution_count": 4
    }
   ],
   "cell_type": "code",
   "source": [
    "howell1 = CSV.read(rel_path(\"..\", \"data\", \"Howell1.csv\"), delim=';')\n",
    "df = convert(DataFrame, howell1);\n",
    "df2 = filter(row -> row[:age] >= 18, df);\n",
    "first(df2, 5)"
   ],
   "metadata": {},
   "execution_count": 4
  },
  {
   "outputs": [],
   "cell_type": "markdown",
   "source": [
    "### Snippet 4.21"
   ],
   "metadata": {}
  },
  {
   "outputs": [],
   "cell_type": "markdown",
   "source": [
    "Sample 20 random heights"
   ],
   "metadata": {}
  },
  {
   "outputs": [],
   "cell_type": "code",
   "source": [
    "n = size(df2, 1)\n",
    "selected_ind = sample(1:n, 20, replace=false);\n",
    "df3 = df2[selected_ind, :];"
   ],
   "metadata": {},
   "execution_count": 5
  },
  {
   "outputs": [],
   "cell_type": "markdown",
   "source": [
    "### Snippet 4.22"
   ],
   "metadata": {}
  },
  {
   "outputs": [],
   "cell_type": "markdown",
   "source": [
    "Generate approximate probabilities"
   ],
   "metadata": {}
  },
  {
   "outputs": [
    {
     "name": "stdout",
     "output_type": "stream",
     "text": [
      "┌ Warning: `getindex(df::DataFrame, col_ind::ColumnIndex)` is deprecated, use `df[!, col_ind]` instead.\n",
      "│   caller = top-level scope at string:15\n",
      "└ @ Core ./string:15\n"
     ]
    },
    {
     "output_type": "execute_result",
     "data": {
      "text/plain": "10×5 DataFrame\n│ Row │ mu      │ sigma   │ ll       │ prod     │ prob        │\n│     │ \u001b[90mFloat64\u001b[39m │ \u001b[90mFloat64\u001b[39m │ \u001b[90mFloat64\u001b[39m  │ \u001b[90mFloat64\u001b[39m  │ \u001b[90mFloat64\u001b[39m     │\n├─────┼─────────┼─────────┼──────────┼──────────┼─────────────┤\n│ 1   │ 140.0   │ 4.0     │ -223.079 │ -232.711 │ 7.61543e-68 │\n│ 2   │ 140.151 │ 4.0     │ -220.292 │ -229.909 │ 1.25426e-66 │\n│ 3   │ 140.302 │ 4.0     │ -217.533 │ -227.136 │ 2.00777e-65 │\n│ 4   │ 140.452 │ 4.0     │ -214.803 │ -224.392 │ 3.12379e-64 │\n│ 5   │ 140.603 │ 4.0     │ -212.101 │ -221.676 │ 4.72374e-63 │\n│ 6   │ 140.754 │ 4.0     │ -209.427 │ -218.988 │ 6.94269e-62 │\n│ 7   │ 140.905 │ 4.0     │ -206.782 │ -216.329 │ 9.91763e-61 │\n│ 8   │ 141.055 │ 4.0     │ -204.165 │ -213.698 │ 1.37697e-59 │\n│ 9   │ 141.206 │ 4.0     │ -201.577 │ -211.096 │ 1.85815e-58 │\n│ 10  │ 141.357 │ 4.0     │ -199.017 │ -208.522 │ 2.4371e-57  │",
      "text/html": [
       "<table class=\"data-frame\"><thead><tr><th></th><th>mu</th><th>sigma</th><th>ll</th><th>prod</th><th>prob</th></tr><tr><th></th><th>Float64</th><th>Float64</th><th>Float64</th><th>Float64</th><th>Float64</th></tr></thead><tbody><p>10 rows × 5 columns</p><tr><th>1</th><td>140.0</td><td>4.0</td><td>-223.079</td><td>-232.711</td><td>7.61543e-68</td></tr><tr><th>2</th><td>140.151</td><td>4.0</td><td>-220.292</td><td>-229.909</td><td>1.25426e-66</td></tr><tr><th>3</th><td>140.302</td><td>4.0</td><td>-217.533</td><td>-227.136</td><td>2.00777e-65</td></tr><tr><th>4</th><td>140.452</td><td>4.0</td><td>-214.803</td><td>-224.392</td><td>3.12379e-64</td></tr><tr><th>5</th><td>140.603</td><td>4.0</td><td>-212.101</td><td>-221.676</td><td>4.72374e-63</td></tr><tr><th>6</th><td>140.754</td><td>4.0</td><td>-209.427</td><td>-218.988</td><td>6.94269e-62</td></tr><tr><th>7</th><td>140.905</td><td>4.0</td><td>-206.782</td><td>-216.329</td><td>9.91763e-61</td></tr><tr><th>8</th><td>141.055</td><td>4.0</td><td>-204.165</td><td>-213.698</td><td>1.37697e-59</td></tr><tr><th>9</th><td>141.206</td><td>4.0</td><td>-201.577</td><td>-211.096</td><td>1.85815e-58</td></tr><tr><th>10</th><td>141.357</td><td>4.0</td><td>-199.017</td><td>-208.522</td><td>2.4371e-57</td></tr></tbody></table>"
      ]
     },
     "metadata": {},
     "execution_count": 6
    }
   ],
   "cell_type": "code",
   "source": [
    "struct Post\n",
    "  mu::Float64\n",
    "  sigma::Float64\n",
    "  ll:: Float64\n",
    "  prod::Float64\n",
    "  prob::Float64\n",
    "end\n",
    "\n",
    "mu_list = repeat(range(140, 170, length=200), 200);\n",
    "sigma_list = repeat(range(4, 20, length=200), inner=200);\n",
    "\n",
    "ll = zeros(40000);\n",
    "for i in 1:40000\n",
    "    d1 = Normal(mu_list[i], sigma_list[i])\n",
    "    ll[i] = sum(log.(pdf.(d1, df3[:height])))\n",
    "end\n",
    "\n",
    "d2 = Normal(178.0, 20.0)\n",
    "d3 = Uniform(0, 50)\n",
    "prod = ll + log.(pdf.(d2, mu_list)) + log.(pdf.(d3, sigma_list))\n",
    "prob = exp.(prod .- maximum(prod))\n",
    "post = DataFrame(mu=mu_list, sigma=sigma_list, ll=ll, prod=prod, prob=prob)\n",
    "first(post, 10)"
   ],
   "metadata": {},
   "execution_count": 6
  },
  {
   "outputs": [],
   "cell_type": "markdown",
   "source": [
    "Sample post"
   ],
   "metadata": {}
  },
  {
   "outputs": [
    {
     "name": "stdout",
     "output_type": "stream",
     "text": [
      "┌ Warning: `getindex(df::DataFrame, col_ind::ColumnIndex)` is deprecated, use `df[!, col_ind]` instead.\n",
      "│   caller = top-level scope at string:1\n",
      "└ @ Core string:1\n"
     ]
    },
    {
     "output_type": "execute_result",
     "data": {
      "text/plain": "10000×5 DataFrame\n│ Row   │ mu      │ sigma   │ ll       │ prod     │ prob      │\n│       │ \u001b[90mFloat64\u001b[39m │ \u001b[90mFloat64\u001b[39m │ \u001b[90mFloat64\u001b[39m  │ \u001b[90mFloat64\u001b[39m  │ \u001b[90mFloat64\u001b[39m   │\n├───────┼─────────┼─────────┼──────────┼──────────┼───────────┤\n│ 1     │ 154.472 │ 7.29648 │ -69.8299 │ -78.3485 │ 0.832661  │\n│ 2     │ 156.583 │ 11.4774 │ -72.1281 │ -80.5282 │ 0.0941578 │\n│ 3     │ 155.678 │ 7.69849 │ -69.7972 │ -78.2467 │ 0.921855  │\n│ 4     │ 152.513 │ 8.98492 │ -70.6748 │ -79.3135 │ 0.317233  │\n│ 5     │ 154.774 │ 10.3518 │ -70.9226 │ -79.4236 │ 0.28415   │\n│ 6     │ 157.035 │ 8.98492 │ -70.5712 │ -78.9473 │ 0.457535  │\n│ 7     │ 155.528 │ 10.0302 │ -70.712  │ -79.1699 │ 0.366209  │\n⋮\n│ 9993  │ 156.432 │ 9.22613 │ -70.4091 │ -78.8172 │ 0.521071  │\n│ 9994  │ 155.075 │ 10.9146 │ -71.4016 │ -79.8852 │ 0.179093  │\n│ 9995  │ 155.678 │ 7.37688 │ -69.888  │ -78.3375 │ 0.841877  │\n│ 9996  │ 154.472 │ 6.73367 │ -70.2626 │ -78.7812 │ 0.540205  │\n│ 9997  │ 153.417 │ 6.49246 │ -71.0344 │ -79.6165 │ 0.234299  │\n│ 9998  │ 156.884 │ 8.34171 │ -70.3212 │ -78.7053 │ 0.582807  │\n│ 9999  │ 157.94  │ 8.1005  │ -71.1284 │ -79.4581 │ 0.27451   │\n│ 10000 │ 151.457 │ 8.1005  │ -71.4601 │ -80.1674 │ 0.135061  │",
      "text/html": [
       "<table class=\"data-frame\"><thead><tr><th></th><th>mu</th><th>sigma</th><th>ll</th><th>prod</th><th>prob</th></tr><tr><th></th><th>Float64</th><th>Float64</th><th>Float64</th><th>Float64</th><th>Float64</th></tr></thead><tbody><p>10,000 rows × 5 columns</p><tr><th>1</th><td>154.472</td><td>7.29648</td><td>-69.8299</td><td>-78.3485</td><td>0.832661</td></tr><tr><th>2</th><td>156.583</td><td>11.4774</td><td>-72.1281</td><td>-80.5282</td><td>0.0941578</td></tr><tr><th>3</th><td>155.678</td><td>7.69849</td><td>-69.7972</td><td>-78.2467</td><td>0.921855</td></tr><tr><th>4</th><td>152.513</td><td>8.98492</td><td>-70.6748</td><td>-79.3135</td><td>0.317233</td></tr><tr><th>5</th><td>154.774</td><td>10.3518</td><td>-70.9226</td><td>-79.4236</td><td>0.28415</td></tr><tr><th>6</th><td>157.035</td><td>8.98492</td><td>-70.5712</td><td>-78.9473</td><td>0.457535</td></tr><tr><th>7</th><td>155.528</td><td>10.0302</td><td>-70.712</td><td>-79.1699</td><td>0.366209</td></tr><tr><th>8</th><td>152.513</td><td>7.21608</td><td>-70.9047</td><td>-79.5434</td><td>0.252082</td></tr><tr><th>9</th><td>156.131</td><td>7.29648</td><td>-70.101</td><td>-78.5255</td><td>0.697592</td></tr><tr><th>10</th><td>156.583</td><td>9.14573</td><td>-70.4272</td><td>-78.8273</td><td>0.51587</td></tr><tr><th>11</th><td>152.814</td><td>5.76884</td><td>-73.3693</td><td>-81.9889</td><td>0.0218501</td></tr><tr><th>12</th><td>153.869</td><td>8.74372</td><td>-70.0049</td><td>-78.5594</td><td>0.674309</td></tr><tr><th>13</th><td>154.02</td><td>9.06533</td><td>-70.1179</td><td>-78.6634</td><td>0.607759</td></tr><tr><th>14</th><td>157.337</td><td>8.66332</td><td>-70.6548</td><td>-79.0152</td><td>0.42748</td></tr><tr><th>15</th><td>160.804</td><td>10.9146</td><td>-74.3575</td><td>-82.5538</td><td>0.0124206</td></tr><tr><th>16</th><td>152.814</td><td>9.78894</td><td>-70.9294</td><td>-79.549</td><td>0.250665</td></tr><tr><th>17</th><td>156.583</td><td>8.1005</td><td>-70.138</td><td>-78.5381</td><td>0.688871</td></tr><tr><th>18</th><td>157.337</td><td>8.1809</td><td>-70.6131</td><td>-78.9735</td><td>0.445707</td></tr><tr><th>19</th><td>158.995</td><td>9.30653</td><td>-72.137</td><td>-80.4152</td><td>0.105417</td></tr><tr><th>20</th><td>160.201</td><td>13.005</td><td>-75.0429</td><td>-83.2656</td><td>0.0060955</td></tr><tr><th>21</th><td>159.447</td><td>8.90452</td><td>-72.5949</td><td>-80.8519</td><td>0.0681183</td></tr><tr><th>22</th><td>155.377</td><td>6.73367</td><td>-70.2858</td><td>-78.7523</td><td>0.55606</td></tr><tr><th>23</th><td>159.296</td><td>9.86935</td><td>-72.5631</td><td>-80.8271</td><td>0.0698267</td></tr><tr><th>24</th><td>155.226</td><td>13.809</td><td>-74.1513</td><td>-82.6263</td><td>0.0115513</td></tr><tr><th>&vellip;</th><td>&vellip;</td><td>&vellip;</td><td>&vellip;</td><td>&vellip;</td><td>&vellip;</td></tr></tbody></table>"
      ]
     },
     "metadata": {},
     "execution_count": 7
    }
   ],
   "cell_type": "code",
   "source": [
    "samples = post[sample(1:size(post, 1), Weights(post[:prob]), 10000, replace=true), :]"
   ],
   "metadata": {},
   "execution_count": 7
  },
  {
   "outputs": [],
   "cell_type": "markdown",
   "source": [
    "### Snippet 4.23"
   ],
   "metadata": {}
  },
  {
   "outputs": [],
   "cell_type": "markdown",
   "source": [
    "Density of sigma"
   ],
   "metadata": {}
  },
  {
   "outputs": [
    {
     "name": "stdout",
     "output_type": "stream",
     "text": [
      "┌ Warning: `getindex(df::DataFrame, col_ind::ColumnIndex)` is deprecated, use `df[!, col_ind]` instead.\n",
      "│   caller = top-level scope at string:1\n",
      "└ @ Core string:1\n"
     ]
    },
    {
     "output_type": "execute_result",
     "data": {
      "text/plain": "Plot{Plots.GRBackend() n=1}",
      "image/png": "[encoded data removed]",
      "text/html": [
       "<?xml version=\"1.0\" encoding=\"utf-8\"?>\n",
       "<svg xmlns=\"http://www.w3.org/2000/svg\" xmlns:xlink=\"http://www.w3.org/1999/xlink\" width=\"600\" height=\"600\" viewBox=\"0 0 2400 2400\">\n",
       "<defs>\n",
       "  <clipPath id=\"clip2100\">\n",
       "    <rect x=\"0\" y=\"0\" width=\"2400\" height=\"2400\"/>\n",
       "  </clipPath>\n",
       "</defs>\n",
       "<polygon clip-path=\"url(#clip2100)\" points=\"\n",
       "0,2400 2400,2400 2400,0 0,0 \n",
       "  \" fill=\"#ffffff\" fill-rule=\"evenodd\" fill-opacity=\"1\"/>\n",
       "<defs>\n",
       "  <clipPath id=\"clip2101\">\n",
       "    <rect x=\"480\" y=\"240\" width=\"1681\" height=\"1681\"/>\n",
       "  </clipPath>\n",
       "</defs>\n",
       "<polygon clip-path=\"url(#clip2100)\" points=\"\n",
       "153.898,2262.71 2352.76,2262.71 2352.76,47.2441 153.898,47.2441 \n",
       "  \" fill=\"#ffffff\" fill-rule=\"evenodd\" fill-opacity=\"1\"/>\n",
       "<defs>\n",
       "  <clipPath id=\"clip2102\">\n",
       "    <rect x=\"153\" y=\"47\" width=\"2200\" height=\"2216\"/>\n",
       "  </clipPath>\n",
       "</defs>\n",
       "<polyline clip-path=\"url(#clip2102)\" style=\"stroke:#000000; stroke-width:2; stroke-opacity:0.1; fill:none\" points=\"\n",
       "  323.733,2262.71 323.733,47.2441 \n",
       "  \"/>\n",
       "<polyline clip-path=\"url(#clip2102)\" style=\"stroke:#000000; stroke-width:2; stroke-opacity:0.1; fill:none\" points=\"\n",
       "  951.666,2262.71 951.666,47.2441 \n",
       "  \"/>\n",
       "<polyline clip-path=\"url(#clip2102)\" style=\"stroke:#000000; stroke-width:2; stroke-opacity:0.1; fill:none\" points=\"\n",
       "  1579.6,2262.71 1579.6,47.2441 \n",
       "  \"/>\n",
       "<polyline clip-path=\"url(#clip2102)\" style=\"stroke:#000000; stroke-width:2; stroke-opacity:0.1; fill:none\" points=\"\n",
       "  2207.53,2262.71 2207.53,47.2441 \n",
       "  \"/>\n",
       "<polyline clip-path=\"url(#clip2102)\" style=\"stroke:#000000; stroke-width:2; stroke-opacity:0.1; fill:none\" points=\"\n",
       "  153.898,2200.01 2352.76,2200.01 \n",
       "  \"/>\n",
       "<polyline clip-path=\"url(#clip2102)\" style=\"stroke:#000000; stroke-width:2; stroke-opacity:0.1; fill:none\" points=\"\n",
       "  153.898,1485.11 2352.76,1485.11 \n",
       "  \"/>\n",
       "<polyline clip-path=\"url(#clip2102)\" style=\"stroke:#000000; stroke-width:2; stroke-opacity:0.1; fill:none\" points=\"\n",
       "  153.898,770.211 2352.76,770.211 \n",
       "  \"/>\n",
       "<polyline clip-path=\"url(#clip2102)\" style=\"stroke:#000000; stroke-width:2; stroke-opacity:0.1; fill:none\" points=\"\n",
       "  153.898,55.3129 2352.76,55.3129 \n",
       "  \"/>\n",
       "<polyline clip-path=\"url(#clip2100)\" style=\"stroke:#000000; stroke-width:4; stroke-opacity:1; fill:none\" points=\"\n",
       "  153.898,2262.71 2352.76,2262.71 \n",
       "  \"/>\n",
       "<polyline clip-path=\"url(#clip2100)\" style=\"stroke:#000000; stroke-width:4; stroke-opacity:1; fill:none\" points=\"\n",
       "  153.898,2262.71 153.898,47.2441 \n",
       "  \"/>\n",
       "<polyline clip-path=\"url(#clip2100)\" style=\"stroke:#000000; stroke-width:4; stroke-opacity:1; fill:none\" points=\"\n",
       "  323.733,2262.71 323.733,2229.48 \n",
       "  \"/>\n",
       "<polyline clip-path=\"url(#clip2100)\" style=\"stroke:#000000; stroke-width:4; stroke-opacity:1; fill:none\" points=\"\n",
       "  951.666,2262.71 951.666,2229.48 \n",
       "  \"/>\n",
       "<polyline clip-path=\"url(#clip2100)\" style=\"stroke:#000000; stroke-width:4; stroke-opacity:1; fill:none\" points=\"\n",
       "  1579.6,2262.71 1579.6,2229.48 \n",
       "  \"/>\n",
       "<polyline clip-path=\"url(#clip2100)\" style=\"stroke:#000000; stroke-width:4; stroke-opacity:1; fill:none\" points=\"\n",
       "  2207.53,2262.71 2207.53,2229.48 \n",
       "  \"/>\n",
       "<polyline clip-path=\"url(#clip2100)\" style=\"stroke:#000000; stroke-width:4; stroke-opacity:1; fill:none\" points=\"\n",
       "  153.898,2200.01 186.881,2200.01 \n",
       "  \"/>\n",
       "<polyline clip-path=\"url(#clip2100)\" style=\"stroke:#000000; stroke-width:4; stroke-opacity:1; fill:none\" points=\"\n",
       "  153.898,1485.11 186.881,1485.11 \n",
       "  \"/>\n",
       "<polyline clip-path=\"url(#clip2100)\" style=\"stroke:#000000; stroke-width:4; stroke-opacity:1; fill:none\" points=\"\n",
       "  153.898,770.211 186.881,770.211 \n",
       "  \"/>\n",
       "<polyline clip-path=\"url(#clip2100)\" style=\"stroke:#000000; stroke-width:4; stroke-opacity:1; fill:none\" points=\"\n",
       "  153.898,55.3129 186.881,55.3129 \n",
       "  \"/>\n",
       "<g clip-path=\"url(#clip2100)\">\n",
       "<text style=\"fill:#000000; fill-opacity:1; font-family:Arial,Helvetica Neue,Helvetica,sans-serif; font-size:48px; text-anchor:middle;\" transform=\"rotate(0, 323.733, 2316.71)\" x=\"323.733\" y=\"2316.71\">5</text>\n",
       "</g>\n",
       "<g clip-path=\"url(#clip2100)\">\n",
       "<text style=\"fill:#000000; fill-opacity:1; font-family:Arial,Helvetica Neue,Helvetica,sans-serif; font-size:48px; text-anchor:middle;\" transform=\"rotate(0, 951.666, 2316.71)\" x=\"951.666\" y=\"2316.71\">10</text>\n",
       "</g>\n",
       "<g clip-path=\"url(#clip2100)\">\n",
       "<text style=\"fill:#000000; fill-opacity:1; font-family:Arial,Helvetica Neue,Helvetica,sans-serif; font-size:48px; text-anchor:middle;\" transform=\"rotate(0, 1579.6, 2316.71)\" x=\"1579.6\" y=\"2316.71\">15</text>\n",
       "</g>\n",
       "<g clip-path=\"url(#clip2100)\">\n",
       "<text style=\"fill:#000000; fill-opacity:1; font-family:Arial,Helvetica Neue,Helvetica,sans-serif; font-size:48px; text-anchor:middle;\" transform=\"rotate(0, 2207.53, 2316.71)\" x=\"2207.53\" y=\"2316.71\">20</text>\n",
       "</g>\n",
       "<g clip-path=\"url(#clip2100)\">\n",
       "<text style=\"fill:#000000; fill-opacity:1; font-family:Arial,Helvetica Neue,Helvetica,sans-serif; font-size:48px; text-anchor:end;\" transform=\"rotate(0, 129.898, 2217.51)\" x=\"129.898\" y=\"2217.51\">0.0</text>\n",
       "</g>\n",
       "<g clip-path=\"url(#clip2100)\">\n",
       "<text style=\"fill:#000000; fill-opacity:1; font-family:Arial,Helvetica Neue,Helvetica,sans-serif; font-size:48px; text-anchor:end;\" transform=\"rotate(0, 129.898, 1502.61)\" x=\"129.898\" y=\"1502.61\">0.1</text>\n",
       "</g>\n",
       "<g clip-path=\"url(#clip2100)\">\n",
       "<text style=\"fill:#000000; fill-opacity:1; font-family:Arial,Helvetica Neue,Helvetica,sans-serif; font-size:48px; text-anchor:end;\" transform=\"rotate(0, 129.898, 787.711)\" x=\"129.898\" y=\"787.711\">0.2</text>\n",
       "</g>\n",
       "<g clip-path=\"url(#clip2100)\">\n",
       "<text style=\"fill:#000000; fill-opacity:1; font-family:Arial,Helvetica Neue,Helvetica,sans-serif; font-size:48px; text-anchor:end;\" transform=\"rotate(0, 129.898, 72.8129)\" x=\"129.898\" y=\"72.8129\">0.3</text>\n",
       "</g>\n",
       "<polyline clip-path=\"url(#clip2102)\" style=\"stroke:#009af9; stroke-width:4; stroke-opacity:1; fill:none\" points=\"\n",
       "  216.13,2200.01 226.554,2200 236.978,2199.99 247.402,2199.96 257.826,2199.87 268.25,2199.64 278.674,2199.17 289.098,2198.32 299.523,2196.98 309.947,2195.09 \n",
       "  320.371,2192.6 330.795,2189.42 341.219,2185.3 351.643,2179.82 362.067,2172.4 372.491,2162.2 382.915,2148.07 393.339,2128.67 403.763,2102.74 414.188,2069.45 \n",
       "  424.612,2028.54 435.036,1980.32 445.46,1925.6 455.884,1865.37 466.308,1800.34 476.732,1730.6 487.156,1655.79 497.58,1575.68 508.004,1490.6 518.428,1401.47 \n",
       "  528.853,1309.57 539.277,1216.1 549.701,1121.72 560.125,1026.34 570.549,929.675 580.973,832.345 591.397,736.293 601.821,644.063 612.245,557.543 622.669,477.472 \n",
       "  633.093,404.048 643.518,337.74 653.942,279.404 664.366,229.678 674.79,188.402 685.214,154.854 695.638,129.01 706.062,112.84 716.486,109.946 726.91,123.023 \n",
       "  737.334,151.126 747.758,189.428 758.183,231.816 768.607,273.963 779.031,314.503 789.455,354.184 799.879,394.592 810.303,437.602 820.727,485.256 831.151,539.257 \n",
       "  841.575,600.076 851.999,666.481 862.423,735.86 872.848,804.964 883.272,870.595 893.696,930.275 904.12,982.957 914.544,1029.45 924.968,1072.12 935.392,1114.02 \n",
       "  945.816,1157.96 956.24,1206.12 966.664,1260 977.089,1320.19 987.513,1385.81 997.937,1453.82 1008.36,1519.42 1018.78,1577.37 1029.21,1623.84 1039.63,1657.62 \n",
       "  1050.06,1680.46 1060.48,1696.72 1070.91,1712.15 1081.33,1731.79 1091.75,1757.79 1102.18,1788.54 1112.6,1820 1123.03,1848.19 1133.45,1871.36 1143.87,1890.32 \n",
       "  1154.3,1907.14 1164.72,1923.57 1175.15,1940.25 1185.57,1956.98 1195.99,1973.66 1206.42,1990.75 1216.84,2009.06 1227.27,2028.74 1237.69,2048.54 1248.11,2066.15 \n",
       "  1258.54,2079.59 1268.96,2088.56 1279.39,2094.47 1289.81,2099.15 1300.24,2103.52 1310.66,2107.6 1321.08,2111.34 1331.51,2115.33 1341.93,2120.53 1352.36,2127.33 \n",
       "  1362.78,2135.07 1373.2,2142.28 1383.63,2147.55 1394.05,2150.2 1404.48,2150.46 1414.9,2149.32 1425.32,2148.15 1435.75,2148.23 1446.17,2150.27 1456.6,2154.15 \n",
       "  1467.02,2159.05 1477.44,2163.8 1487.87,2167.47 1498.29,2169.67 1508.72,2170.77 1519.14,2171.65 1529.57,2173.18 1539.99,2175.64 1550.41,2178.67 1560.84,2181.54 \n",
       "  1571.26,2183.73 1581.69,2185.1 1592.11,2185.86 1602.53,2186.18 1612.96,2186.06 1623.38,2185.54 1633.81,2184.88 1644.23,2184.62 1654.65,2185.3 1665.08,2187.1 \n",
       "  1675.5,2189.65 1685.93,2192.25 1696.35,2194.25 1706.77,2195.38 1717.2,2195.74 1727.62,2195.66 1738.05,2195.49 1748.47,2195.43 1758.9,2195.53 1769.32,2195.76 \n",
       "  1779.74,2196.11 1790.17,2196.52 1800.59,2196.95 1811.02,2197.35 1821.44,2197.7 1831.86,2198.03 1842.29,2198.38 1852.71,2198.75 1863.14,2199.04 1873.56,2199.17 \n",
       "  1883.98,2199.1 1894.41,2198.89 1904.83,2198.69 1915.26,2198.61 1925.68,2198.74 1936.1,2199.02 1946.53,2199.36 1956.95,2199.64 1967.38,2199.83 1977.8,2199.94 \n",
       "  1988.23,2199.98 1998.65,2200 2009.07,2200 2019.5,2200.01 2029.92,2200.01 2040.35,2200.01 2050.77,2200.01 2061.19,2200.01 2071.62,2200.01 2082.04,2200.01 \n",
       "  2092.47,2200 2102.89,2200 2113.31,2199.98 2123.74,2199.94 2134.16,2199.84 2144.59,2199.65 2155.01,2199.37 2165.43,2199.04 2175.86,2198.75 2186.28,2198.63 \n",
       "  2196.71,2198.72 2207.13,2198.98 2217.56,2199.31 2227.98,2199.6 2238.4,2199.81 2248.83,2199.92 2259.25,2199.98 2269.68,2200 2280.1,2200 2290.52,2200.01 \n",
       "  \n",
       "  \"/>\n",
       "<polygon clip-path=\"url(#clip2100)\" points=\"\n",
       "1989.93,251.724 2280.76,251.724 2280.76,130.764 1989.93,130.764 \n",
       "  \" fill=\"#ffffff\" fill-rule=\"evenodd\" fill-opacity=\"1\"/>\n",
       "<polyline clip-path=\"url(#clip2100)\" style=\"stroke:#000000; stroke-width:4; stroke-opacity:1; fill:none\" points=\"\n",
       "  1989.93,251.724 2280.76,251.724 2280.76,130.764 1989.93,130.764 1989.93,251.724 \n",
       "  \"/>\n",
       "<polyline clip-path=\"url(#clip2100)\" style=\"stroke:#009af9; stroke-width:4; stroke-opacity:1; fill:none\" points=\"\n",
       "  2013.93,191.244 2157.93,191.244 \n",
       "  \"/>\n",
       "<g clip-path=\"url(#clip2100)\">\n",
       "<text style=\"fill:#000000; fill-opacity:1; font-family:Arial,Helvetica Neue,Helvetica,sans-serif; font-size:48px; text-anchor:start;\" transform=\"rotate(0, 2181.93, 208.744)\" x=\"2181.93\" y=\"208.744\">y1</text>\n",
       "</g>\n",
       "</svg>\n"
      ],
      "image/svg+xml": [
       "<?xml version=\"1.0\" encoding=\"utf-8\"?>\n",
       "<svg xmlns=\"http://www.w3.org/2000/svg\" xmlns:xlink=\"http://www.w3.org/1999/xlink\" width=\"600\" height=\"600\" viewBox=\"0 0 2400 2400\">\n",
       "<defs>\n",
       "  <clipPath id=\"clip1800\">\n",
       "    <rect x=\"0\" y=\"0\" width=\"2400\" height=\"2400\"/>\n",
       "  </clipPath>\n",
       "</defs>\n",
       "<polygon clip-path=\"url(#clip1800)\" points=\"\n",
       "0,2400 2400,2400 2400,0 0,0 \n",
       "  \" fill=\"#ffffff\" fill-rule=\"evenodd\" fill-opacity=\"1\"/>\n",
       "<defs>\n",
       "  <clipPath id=\"clip1801\">\n",
       "    <rect x=\"480\" y=\"240\" width=\"1681\" height=\"1681\"/>\n",
       "  </clipPath>\n",
       "</defs>\n",
       "<polygon clip-path=\"url(#clip1800)\" points=\"\n",
       "153.898,2262.71 2352.76,2262.71 2352.76,47.2441 153.898,47.2441 \n",
       "  \" fill=\"#ffffff\" fill-rule=\"evenodd\" fill-opacity=\"1\"/>\n",
       "<defs>\n",
       "  <clipPath id=\"clip1802\">\n",
       "    <rect x=\"153\" y=\"47\" width=\"2200\" height=\"2216\"/>\n",
       "  </clipPath>\n",
       "</defs>\n",
       "<polyline clip-path=\"url(#clip1802)\" style=\"stroke:#000000; stroke-width:2; stroke-opacity:0.1; fill:none\" points=\"\n",
       "  323.733,2262.71 323.733,47.2441 \n",
       "  \"/>\n",
       "<polyline clip-path=\"url(#clip1802)\" style=\"stroke:#000000; stroke-width:2; stroke-opacity:0.1; fill:none\" points=\"\n",
       "  951.666,2262.71 951.666,47.2441 \n",
       "  \"/>\n",
       "<polyline clip-path=\"url(#clip1802)\" style=\"stroke:#000000; stroke-width:2; stroke-opacity:0.1; fill:none\" points=\"\n",
       "  1579.6,2262.71 1579.6,47.2441 \n",
       "  \"/>\n",
       "<polyline clip-path=\"url(#clip1802)\" style=\"stroke:#000000; stroke-width:2; stroke-opacity:0.1; fill:none\" points=\"\n",
       "  2207.53,2262.71 2207.53,47.2441 \n",
       "  \"/>\n",
       "<polyline clip-path=\"url(#clip1802)\" style=\"stroke:#000000; stroke-width:2; stroke-opacity:0.1; fill:none\" points=\"\n",
       "  153.898,2200.01 2352.76,2200.01 \n",
       "  \"/>\n",
       "<polyline clip-path=\"url(#clip1802)\" style=\"stroke:#000000; stroke-width:2; stroke-opacity:0.1; fill:none\" points=\"\n",
       "  153.898,1485.11 2352.76,1485.11 \n",
       "  \"/>\n",
       "<polyline clip-path=\"url(#clip1802)\" style=\"stroke:#000000; stroke-width:2; stroke-opacity:0.1; fill:none\" points=\"\n",
       "  153.898,770.211 2352.76,770.211 \n",
       "  \"/>\n",
       "<polyline clip-path=\"url(#clip1802)\" style=\"stroke:#000000; stroke-width:2; stroke-opacity:0.1; fill:none\" points=\"\n",
       "  153.898,55.3129 2352.76,55.3129 \n",
       "  \"/>\n",
       "<polyline clip-path=\"url(#clip1800)\" style=\"stroke:#000000; stroke-width:4; stroke-opacity:1; fill:none\" points=\"\n",
       "  153.898,2262.71 2352.76,2262.71 \n",
       "  \"/>\n",
       "<polyline clip-path=\"url(#clip1800)\" style=\"stroke:#000000; stroke-width:4; stroke-opacity:1; fill:none\" points=\"\n",
       "  153.898,2262.71 153.898,47.2441 \n",
       "  \"/>\n",
       "<polyline clip-path=\"url(#clip1800)\" style=\"stroke:#000000; stroke-width:4; stroke-opacity:1; fill:none\" points=\"\n",
       "  323.733,2262.71 323.733,2229.48 \n",
       "  \"/>\n",
       "<polyline clip-path=\"url(#clip1800)\" style=\"stroke:#000000; stroke-width:4; stroke-opacity:1; fill:none\" points=\"\n",
       "  951.666,2262.71 951.666,2229.48 \n",
       "  \"/>\n",
       "<polyline clip-path=\"url(#clip1800)\" style=\"stroke:#000000; stroke-width:4; stroke-opacity:1; fill:none\" points=\"\n",
       "  1579.6,2262.71 1579.6,2229.48 \n",
       "  \"/>\n",
       "<polyline clip-path=\"url(#clip1800)\" style=\"stroke:#000000; stroke-width:4; stroke-opacity:1; fill:none\" points=\"\n",
       "  2207.53,2262.71 2207.53,2229.48 \n",
       "  \"/>\n",
       "<polyline clip-path=\"url(#clip1800)\" style=\"stroke:#000000; stroke-width:4; stroke-opacity:1; fill:none\" points=\"\n",
       "  153.898,2200.01 186.881,2200.01 \n",
       "  \"/>\n",
       "<polyline clip-path=\"url(#clip1800)\" style=\"stroke:#000000; stroke-width:4; stroke-opacity:1; fill:none\" points=\"\n",
       "  153.898,1485.11 186.881,1485.11 \n",
       "  \"/>\n",
       "<polyline clip-path=\"url(#clip1800)\" style=\"stroke:#000000; stroke-width:4; stroke-opacity:1; fill:none\" points=\"\n",
       "  153.898,770.211 186.881,770.211 \n",
       "  \"/>\n",
       "<polyline clip-path=\"url(#clip1800)\" style=\"stroke:#000000; stroke-width:4; stroke-opacity:1; fill:none\" points=\"\n",
       "  153.898,55.3129 186.881,55.3129 \n",
       "  \"/>\n",
       "<g clip-path=\"url(#clip1800)\">\n",
       "<text style=\"fill:#000000; fill-opacity:1; font-family:Arial,Helvetica Neue,Helvetica,sans-serif; font-size:48px; text-anchor:middle;\" transform=\"rotate(0, 323.733, 2316.71)\" x=\"323.733\" y=\"2316.71\">5</text>\n",
       "</g>\n",
       "<g clip-path=\"url(#clip1800)\">\n",
       "<text style=\"fill:#000000; fill-opacity:1; font-family:Arial,Helvetica Neue,Helvetica,sans-serif; font-size:48px; text-anchor:middle;\" transform=\"rotate(0, 951.666, 2316.71)\" x=\"951.666\" y=\"2316.71\">10</text>\n",
       "</g>\n",
       "<g clip-path=\"url(#clip1800)\">\n",
       "<text style=\"fill:#000000; fill-opacity:1; font-family:Arial,Helvetica Neue,Helvetica,sans-serif; font-size:48px; text-anchor:middle;\" transform=\"rotate(0, 1579.6, 2316.71)\" x=\"1579.6\" y=\"2316.71\">15</text>\n",
       "</g>\n",
       "<g clip-path=\"url(#clip1800)\">\n",
       "<text style=\"fill:#000000; fill-opacity:1; font-family:Arial,Helvetica Neue,Helvetica,sans-serif; font-size:48px; text-anchor:middle;\" transform=\"rotate(0, 2207.53, 2316.71)\" x=\"2207.53\" y=\"2316.71\">20</text>\n",
       "</g>\n",
       "<g clip-path=\"url(#clip1800)\">\n",
       "<text style=\"fill:#000000; fill-opacity:1; font-family:Arial,Helvetica Neue,Helvetica,sans-serif; font-size:48px; text-anchor:end;\" transform=\"rotate(0, 129.898, 2217.51)\" x=\"129.898\" y=\"2217.51\">0.0</text>\n",
       "</g>\n",
       "<g clip-path=\"url(#clip1800)\">\n",
       "<text style=\"fill:#000000; fill-opacity:1; font-family:Arial,Helvetica Neue,Helvetica,sans-serif; font-size:48px; text-anchor:end;\" transform=\"rotate(0, 129.898, 1502.61)\" x=\"129.898\" y=\"1502.61\">0.1</text>\n",
       "</g>\n",
       "<g clip-path=\"url(#clip1800)\">\n",
       "<text style=\"fill:#000000; fill-opacity:1; font-family:Arial,Helvetica Neue,Helvetica,sans-serif; font-size:48px; text-anchor:end;\" transform=\"rotate(0, 129.898, 787.711)\" x=\"129.898\" y=\"787.711\">0.2</text>\n",
       "</g>\n",
       "<g clip-path=\"url(#clip1800)\">\n",
       "<text style=\"fill:#000000; fill-opacity:1; font-family:Arial,Helvetica Neue,Helvetica,sans-serif; font-size:48px; text-anchor:end;\" transform=\"rotate(0, 129.898, 72.8129)\" x=\"129.898\" y=\"72.8129\">0.3</text>\n",
       "</g>\n",
       "<polyline clip-path=\"url(#clip1802)\" style=\"stroke:#009af9; stroke-width:4; stroke-opacity:1; fill:none\" points=\"\n",
       "  216.13,2200.01 226.554,2200 236.978,2199.99 247.402,2199.96 257.826,2199.87 268.25,2199.64 278.674,2199.17 289.098,2198.32 299.523,2196.98 309.947,2195.09 \n",
       "  320.371,2192.6 330.795,2189.42 341.219,2185.3 351.643,2179.82 362.067,2172.4 372.491,2162.2 382.915,2148.07 393.339,2128.67 403.763,2102.74 414.188,2069.45 \n",
       "  424.612,2028.54 435.036,1980.32 445.46,1925.6 455.884,1865.37 466.308,1800.34 476.732,1730.6 487.156,1655.79 497.58,1575.68 508.004,1490.6 518.428,1401.47 \n",
       "  528.853,1309.57 539.277,1216.1 549.701,1121.72 560.125,1026.34 570.549,929.675 580.973,832.345 591.397,736.293 601.821,644.063 612.245,557.543 622.669,477.472 \n",
       "  633.093,404.048 643.518,337.74 653.942,279.404 664.366,229.678 674.79,188.402 685.214,154.854 695.638,129.01 706.062,112.84 716.486,109.946 726.91,123.023 \n",
       "  737.334,151.126 747.758,189.428 758.183,231.816 768.607,273.963 779.031,314.503 789.455,354.184 799.879,394.592 810.303,437.602 820.727,485.256 831.151,539.257 \n",
       "  841.575,600.076 851.999,666.481 862.423,735.86 872.848,804.964 883.272,870.595 893.696,930.275 904.12,982.957 914.544,1029.45 924.968,1072.12 935.392,1114.02 \n",
       "  945.816,1157.96 956.24,1206.12 966.664,1260 977.089,1320.19 987.513,1385.81 997.937,1453.82 1008.36,1519.42 1018.78,1577.37 1029.21,1623.84 1039.63,1657.62 \n",
       "  1050.06,1680.46 1060.48,1696.72 1070.91,1712.15 1081.33,1731.79 1091.75,1757.79 1102.18,1788.54 1112.6,1820 1123.03,1848.19 1133.45,1871.36 1143.87,1890.32 \n",
       "  1154.3,1907.14 1164.72,1923.57 1175.15,1940.25 1185.57,1956.98 1195.99,1973.66 1206.42,1990.75 1216.84,2009.06 1227.27,2028.74 1237.69,2048.54 1248.11,2066.15 \n",
       "  1258.54,2079.59 1268.96,2088.56 1279.39,2094.47 1289.81,2099.15 1300.24,2103.52 1310.66,2107.6 1321.08,2111.34 1331.51,2115.33 1341.93,2120.53 1352.36,2127.33 \n",
       "  1362.78,2135.07 1373.2,2142.28 1383.63,2147.55 1394.05,2150.2 1404.48,2150.46 1414.9,2149.32 1425.32,2148.15 1435.75,2148.23 1446.17,2150.27 1456.6,2154.15 \n",
       "  1467.02,2159.05 1477.44,2163.8 1487.87,2167.47 1498.29,2169.67 1508.72,2170.77 1519.14,2171.65 1529.57,2173.18 1539.99,2175.64 1550.41,2178.67 1560.84,2181.54 \n",
       "  1571.26,2183.73 1581.69,2185.1 1592.11,2185.86 1602.53,2186.18 1612.96,2186.06 1623.38,2185.54 1633.81,2184.88 1644.23,2184.62 1654.65,2185.3 1665.08,2187.1 \n",
       "  1675.5,2189.65 1685.93,2192.25 1696.35,2194.25 1706.77,2195.38 1717.2,2195.74 1727.62,2195.66 1738.05,2195.49 1748.47,2195.43 1758.9,2195.53 1769.32,2195.76 \n",
       "  1779.74,2196.11 1790.17,2196.52 1800.59,2196.95 1811.02,2197.35 1821.44,2197.7 1831.86,2198.03 1842.29,2198.38 1852.71,2198.75 1863.14,2199.04 1873.56,2199.17 \n",
       "  1883.98,2199.1 1894.41,2198.89 1904.83,2198.69 1915.26,2198.61 1925.68,2198.74 1936.1,2199.02 1946.53,2199.36 1956.95,2199.64 1967.38,2199.83 1977.8,2199.94 \n",
       "  1988.23,2199.98 1998.65,2200 2009.07,2200 2019.5,2200.01 2029.92,2200.01 2040.35,2200.01 2050.77,2200.01 2061.19,2200.01 2071.62,2200.01 2082.04,2200.01 \n",
       "  2092.47,2200 2102.89,2200 2113.31,2199.98 2123.74,2199.94 2134.16,2199.84 2144.59,2199.65 2155.01,2199.37 2165.43,2199.04 2175.86,2198.75 2186.28,2198.63 \n",
       "  2196.71,2198.72 2207.13,2198.98 2217.56,2199.31 2227.98,2199.6 2238.4,2199.81 2248.83,2199.92 2259.25,2199.98 2269.68,2200 2280.1,2200 2290.52,2200.01 \n",
       "  \n",
       "  \"/>\n",
       "<polygon clip-path=\"url(#clip1800)\" points=\"\n",
       "1989.93,251.724 2280.76,251.724 2280.76,130.764 1989.93,130.764 \n",
       "  \" fill=\"#ffffff\" fill-rule=\"evenodd\" fill-opacity=\"1\"/>\n",
       "<polyline clip-path=\"url(#clip1800)\" style=\"stroke:#000000; stroke-width:4; stroke-opacity:1; fill:none\" points=\"\n",
       "  1989.93,251.724 2280.76,251.724 2280.76,130.764 1989.93,130.764 1989.93,251.724 \n",
       "  \"/>\n",
       "<polyline clip-path=\"url(#clip1800)\" style=\"stroke:#009af9; stroke-width:4; stroke-opacity:1; fill:none\" points=\"\n",
       "  2013.93,191.244 2157.93,191.244 \n",
       "  \"/>\n",
       "<g clip-path=\"url(#clip1800)\">\n",
       "<text style=\"fill:#000000; fill-opacity:1; font-family:Arial,Helvetica Neue,Helvetica,sans-serif; font-size:48px; text-anchor:start;\" transform=\"rotate(0, 2181.93, 208.744)\" x=\"2181.93\" y=\"208.744\">y1</text>\n",
       "</g>\n",
       "</svg>\n"
      ]
     },
     "metadata": {},
     "execution_count": 8
    }
   ],
   "cell_type": "code",
   "source": [
    "density(samples[:sigma])"
   ],
   "metadata": {},
   "execution_count": 8
  },
  {
   "outputs": [],
   "cell_type": "markdown",
   "source": [
    "End of `clip-21-23.jl`"
   ],
   "metadata": {}
  },
  {
   "outputs": [],
   "cell_type": "markdown",
   "source": [
    "*This notebook was generated using [Literate.jl](https://github.com/fredrikekre/Literate.jl).*"
   ],
   "metadata": {}
  }
 ],
 "nbformat_minor": 3,
 "metadata": {
  "language_info": {
   "file_extension": ".jl",
   "mimetype": "application/julia",
   "name": "julia",
   "version": "1.3.0-DEV.557"
  },
  "kernelspec": {
   "name": "julia-1.3",
   "display_name": "Julia 1.3.0-DEV.557",
   "language": "julia"
  }
 },
 "nbformat": 4
}
