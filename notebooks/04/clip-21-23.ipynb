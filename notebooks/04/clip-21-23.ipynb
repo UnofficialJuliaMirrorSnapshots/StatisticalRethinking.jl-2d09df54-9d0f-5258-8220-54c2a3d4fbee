{
 "cells": [
  {
   "outputs": [],
   "cell_type": "markdown",
   "source": [
    "Load Julia packages (libraries) needed  for the snippets in chapter 0"
   ],
   "metadata": {}
  },
  {
   "outputs": [],
   "cell_type": "code",
   "source": [
    "using StatisticalRethinking, CmdStan\n",
    "gr(size=(500,500));"
   ],
   "metadata": {},
   "execution_count": 1
  },
  {
   "outputs": [],
   "cell_type": "markdown",
   "source": [
    "CmdStan uses a tmp directory to store the output of cmdstan"
   ],
   "metadata": {}
  },
  {
   "outputs": [],
   "cell_type": "code",
   "source": [
    "ProjDir = rel_path(\"..\", \"scripts\", \"04\")\n",
    "cd(ProjDir)"
   ],
   "metadata": {},
   "execution_count": 2
  },
  {
   "outputs": [],
   "cell_type": "markdown",
   "source": [
    "CmdStan uses a tmp directory to store the output of cmdstan"
   ],
   "metadata": {}
  },
  {
   "outputs": [],
   "cell_type": "code",
   "source": [
    "ProjDir = rel_path(\"..\", \"scripts\", \"04\")\n",
    "cd(ProjDir)"
   ],
   "metadata": {},
   "execution_count": 3
  },
  {
   "outputs": [
    {
     "output_type": "execute_result",
     "data": {
      "text/plain": "5×4 DataFrame\n│ Row │ height  │ weight  │ age     │ male  │\n│     │ \u001b[90mFloat64\u001b[39m │ \u001b[90mFloat64\u001b[39m │ \u001b[90mFloat64\u001b[39m │ \u001b[90mInt64\u001b[39m │\n├─────┼─────────┼─────────┼─────────┼───────┤\n│ 1   │ 151.765 │ 47.8256 │ 63.0    │ 1     │\n│ 2   │ 139.7   │ 36.4858 │ 63.0    │ 0     │\n│ 3   │ 136.525 │ 31.8648 │ 65.0    │ 0     │\n│ 4   │ 156.845 │ 53.0419 │ 41.0    │ 1     │\n│ 5   │ 145.415 │ 41.2769 │ 51.0    │ 0     │",
      "text/html": [
       "<table class=\"data-frame\"><thead><tr><th></th><th>height</th><th>weight</th><th>age</th><th>male</th></tr><tr><th></th><th>Float64</th><th>Float64</th><th>Float64</th><th>Int64</th></tr></thead><tbody><p>5 rows × 4 columns</p><tr><th>1</th><td>151.765</td><td>47.8256</td><td>63.0</td><td>1</td></tr><tr><th>2</th><td>139.7</td><td>36.4858</td><td>63.0</td><td>0</td></tr><tr><th>3</th><td>136.525</td><td>31.8648</td><td>65.0</td><td>0</td></tr><tr><th>4</th><td>156.845</td><td>53.0419</td><td>41.0</td><td>1</td></tr><tr><th>5</th><td>145.415</td><td>41.2769</td><td>51.0</td><td>0</td></tr></tbody></table>"
      ]
     },
     "metadata": {},
     "execution_count": 4
    }
   ],
   "cell_type": "code",
   "source": [
    "howell1 = CSV.read(rel_path(\"..\", \"data\", \"Howell1.csv\"), delim=';')\n",
    "df = convert(DataFrame, howell1);\n",
    "df2 = filter(row -> row[:age] >= 18, df);\n",
    "first(df2, 5)"
   ],
   "metadata": {},
   "execution_count": 4
  },
  {
   "outputs": [],
   "cell_type": "markdown",
   "source": [
    "### Snippet 4.21"
   ],
   "metadata": {}
  },
  {
   "outputs": [],
   "cell_type": "markdown",
   "source": [
    "Sample 20 random heights"
   ],
   "metadata": {}
  },
  {
   "outputs": [],
   "cell_type": "code",
   "source": [
    "n = size(df2, 1)\n",
    "selected_ind = sample(1:n, 20, replace=false);\n",
    "df3 = df2[selected_ind, :];"
   ],
   "metadata": {},
   "execution_count": 5
  },
  {
   "outputs": [],
   "cell_type": "markdown",
   "source": [
    "### Snippet 4.22"
   ],
   "metadata": {}
  },
  {
   "outputs": [],
   "cell_type": "markdown",
   "source": [
    "Generate approximate probabilities"
   ],
   "metadata": {}
  },
  {
   "outputs": [
    {
     "output_type": "execute_result",
     "data": {
      "text/plain": "10×5 DataFrame\n│ Row │ mu      │ sigma   │ ll       │ prod     │ prob        │\n│     │ \u001b[90mFloat64\u001b[39m │ \u001b[90mFloat64\u001b[39m │ \u001b[90mFloat64\u001b[39m  │ \u001b[90mFloat64\u001b[39m  │ \u001b[90mFloat64\u001b[39m     │\n├─────┼─────────┼─────────┼──────────┼──────────┼─────────────┤\n│ 1   │ 140.0   │ 4.0     │ -184.785 │ -194.417 │ 4.3818e-52  │\n│ 2   │ 140.151 │ 4.0     │ -182.331 │ -191.949 │ 5.17208e-51 │\n│ 3   │ 140.302 │ 4.0     │ -179.906 │ -189.509 │ 5.93355e-50 │\n│ 4   │ 140.452 │ 4.0     │ -177.508 │ -187.097 │ 6.61611e-49 │\n│ 5   │ 140.603 │ 4.0     │ -175.139 │ -184.714 │ 7.17014e-48 │\n│ 6   │ 140.754 │ 4.0     │ -172.799 │ -182.36  │ 7.5525e-47  │\n│ 7   │ 140.905 │ 4.0     │ -170.487 │ -180.034 │ 7.732e-46   │\n│ 8   │ 141.055 │ 4.0     │ -168.203 │ -177.736 │ 7.69361e-45 │\n│ 9   │ 141.206 │ 4.0     │ -165.948 │ -175.467 │ 7.44058e-44 │\n│ 10  │ 141.357 │ 4.0     │ -163.721 │ -173.226 │ 6.99392e-43 │",
      "text/html": [
       "<table class=\"data-frame\"><thead><tr><th></th><th>mu</th><th>sigma</th><th>ll</th><th>prod</th><th>prob</th></tr><tr><th></th><th>Float64</th><th>Float64</th><th>Float64</th><th>Float64</th><th>Float64</th></tr></thead><tbody><p>10 rows × 5 columns</p><tr><th>1</th><td>140.0</td><td>4.0</td><td>-184.785</td><td>-194.417</td><td>4.3818e-52</td></tr><tr><th>2</th><td>140.151</td><td>4.0</td><td>-182.331</td><td>-191.949</td><td>5.17208e-51</td></tr><tr><th>3</th><td>140.302</td><td>4.0</td><td>-179.906</td><td>-189.509</td><td>5.93355e-50</td></tr><tr><th>4</th><td>140.452</td><td>4.0</td><td>-177.508</td><td>-187.097</td><td>6.61611e-49</td></tr><tr><th>5</th><td>140.603</td><td>4.0</td><td>-175.139</td><td>-184.714</td><td>7.17014e-48</td></tr><tr><th>6</th><td>140.754</td><td>4.0</td><td>-172.799</td><td>-182.36</td><td>7.5525e-47</td></tr><tr><th>7</th><td>140.905</td><td>4.0</td><td>-170.487</td><td>-180.034</td><td>7.732e-46</td></tr><tr><th>8</th><td>141.055</td><td>4.0</td><td>-168.203</td><td>-177.736</td><td>7.69361e-45</td></tr><tr><th>9</th><td>141.206</td><td>4.0</td><td>-165.948</td><td>-175.467</td><td>7.44058e-44</td></tr><tr><th>10</th><td>141.357</td><td>4.0</td><td>-163.721</td><td>-173.226</td><td>6.99392e-43</td></tr></tbody></table>"
      ]
     },
     "metadata": {},
     "execution_count": 6
    }
   ],
   "cell_type": "code",
   "source": [
    "struct Post\n",
    "  mu::Float64\n",
    "  sigma::Float64\n",
    "  ll:: Float64\n",
    "  prod::Float64\n",
    "  prob::Float64\n",
    "end\n",
    "\n",
    "mu_list = repeat(range(140, 170, length=200), 200);\n",
    "sigma_list = repeat(range(4, 20, length=200), inner=200);\n",
    "\n",
    "ll = zeros(40000);\n",
    "for i in 1:40000\n",
    "    d1 = Normal(mu_list[i], sigma_list[i])\n",
    "    ll[i] = sum(log.(pdf.(d1, df3[:height])))\n",
    "end\n",
    "\n",
    "d2 = Normal(178.0, 20.0)\n",
    "d3 = Uniform(0, 50)\n",
    "prod = ll + log.(pdf.(d2, mu_list)) + log.(pdf.(d3, sigma_list))\n",
    "prob = exp.(prod .- maximum(prod))\n",
    "post = DataFrame(mu=mu_list, sigma=sigma_list, ll=ll, prod=prod, prob=prob)\n",
    "first(post, 10)"
   ],
   "metadata": {},
   "execution_count": 6
  },
  {
   "outputs": [],
   "cell_type": "markdown",
   "source": [
    "Sample post"
   ],
   "metadata": {}
  },
  {
   "outputs": [
    {
     "output_type": "execute_result",
     "data": {
      "text/plain": "10000×5 DataFrame\n│ Row   │ mu      │ sigma   │ ll       │ prod     │ prob     │\n│       │ \u001b[90mFloat64\u001b[39m │ \u001b[90mFloat64\u001b[39m │ \u001b[90mFloat64\u001b[39m  │ \u001b[90mFloat64\u001b[39m  │ \u001b[90mFloat64\u001b[39m  │\n├───────┼─────────┼─────────┼──────────┼──────────┼──────────┤\n│ 1     │ 153.417 │ 6.49246 │ -67.753  │ -76.3351 │ 0.839426 │\n│ 2     │ 154.322 │ 6.33166 │ -68.2146 │ -76.7421 │ 0.55878  │\n│ 3     │ 151.457 │ 7.05528 │ -68.1042 │ -76.8115 │ 0.521295 │\n│ 4     │ 153.116 │ 7.53769 │ -67.6334 │ -76.2341 │ 0.928639 │\n│ 5     │ 153.417 │ 8.0201  │ -67.8565 │ -76.4386 │ 0.756953 │\n│ 6     │ 154.925 │ 7.05528 │ -68.233  │ -76.7253 │ 0.568252 │\n│ 7     │ 156.432 │ 9.22613 │ -70.0365 │ -78.4447 │ 0.101818 │\n⋮\n│ 9993  │ 151.457 │ 9.22613 │ -69.0474 │ -77.7547 │ 0.202988 │\n│ 9994  │ 154.774 │ 9.70854 │ -69.4752 │ -77.9762 │ 0.162661 │\n│ 9995  │ 153.568 │ 7.29648 │ -67.6195 │ -76.1923 │ 0.968281 │\n│ 9996  │ 152.663 │ 7.77889 │ -67.7539 │ -76.383  │ 0.800167 │\n│ 9997  │ 154.322 │ 5.84925 │ -68.8494 │ -77.3769 │ 0.296173 │\n│ 9998  │ 152.513 │ 6.65327 │ -67.7258 │ -76.3645 │ 0.815144 │\n│ 9999  │ 155.678 │ 10.9146 │ -70.9634 │ -79.4129 │ 0.038667 │\n│ 10000 │ 153.719 │ 6.17085 │ -68.0906 │ -76.6542 │ 0.610097 │",
      "text/html": [
       "<table class=\"data-frame\"><thead><tr><th></th><th>mu</th><th>sigma</th><th>ll</th><th>prod</th><th>prob</th></tr><tr><th></th><th>Float64</th><th>Float64</th><th>Float64</th><th>Float64</th><th>Float64</th></tr></thead><tbody><p>10,000 rows × 5 columns</p><tr><th>1</th><td>153.417</td><td>6.49246</td><td>-67.753</td><td>-76.3351</td><td>0.839426</td></tr><tr><th>2</th><td>154.322</td><td>6.33166</td><td>-68.2146</td><td>-76.7421</td><td>0.55878</td></tr><tr><th>3</th><td>151.457</td><td>7.05528</td><td>-68.1042</td><td>-76.8115</td><td>0.521295</td></tr><tr><th>4</th><td>153.116</td><td>7.53769</td><td>-67.6334</td><td>-76.2341</td><td>0.928639</td></tr><tr><th>5</th><td>153.417</td><td>8.0201</td><td>-67.8565</td><td>-76.4386</td><td>0.756953</td></tr><tr><th>6</th><td>154.925</td><td>7.05528</td><td>-68.233</td><td>-76.7253</td><td>0.568252</td></tr><tr><th>7</th><td>156.432</td><td>9.22613</td><td>-70.0365</td><td>-78.4447</td><td>0.101818</td></tr><tr><th>8</th><td>149.648</td><td>7.69849</td><td>-69.698</td><td>-78.5295</td><td>0.0935387</td></tr><tr><th>9</th><td>155.226</td><td>9.62814</td><td>-69.5889</td><td>-78.0639</td><td>0.148997</td></tr><tr><th>10</th><td>150.704</td><td>6.41206</td><td>-69.1761</td><td>-77.9342</td><td>0.169642</td></tr><tr><th>11</th><td>151.005</td><td>7.77889</td><td>-68.4469</td><td>-77.1845</td><td>0.359018</td></tr><tr><th>12</th><td>152.965</td><td>8.1809</td><td>-67.9359</td><td>-76.546</td><td>0.679826</td></tr><tr><th>13</th><td>153.568</td><td>8.42211</td><td>-68.1209</td><td>-76.6938</td><td>0.586436</td></tr><tr><th>14</th><td>153.568</td><td>7.77889</td><td>-67.759</td><td>-76.3319</td><td>0.842174</td></tr><tr><th>15</th><td>152.513</td><td>6.01005</td><td>-68.2731</td><td>-76.9118</td><td>0.471555</td></tr><tr><th>16</th><td>154.774</td><td>7.9397</td><td>-68.2437</td><td>-76.7447</td><td>0.557341</td></tr><tr><th>17</th><td>153.116</td><td>8.0201</td><td>-67.8407</td><td>-76.4415</td><td>0.754754</td></tr><tr><th>18</th><td>153.719</td><td>7.61809</td><td>-67.7259</td><td>-76.2895</td><td>0.878596</td></tr><tr><th>19</th><td>153.719</td><td>9.38693</td><td>-68.9194</td><td>-77.483</td><td>0.266354</td></tr><tr><th>20</th><td>149.497</td><td>10.4322</td><td>-71.0917</td><td>-79.9339</td><td>0.0229642</td></tr><tr><th>21</th><td>154.472</td><td>6.41206</td><td>-68.2401</td><td>-76.7587</td><td>0.54958</td></tr><tr><th>22</th><td>154.171</td><td>5.92965</td><td>-68.6161</td><td>-77.1526</td><td>0.370658</td></tr><tr><th>23</th><td>151.91</td><td>6.57286</td><td>-68.0121</td><td>-76.6897</td><td>0.58887</td></tr><tr><th>24</th><td>152.965</td><td>8.1809</td><td>-67.9359</td><td>-76.546</td><td>0.679826</td></tr><tr><th>&vellip;</th><td>&vellip;</td><td>&vellip;</td><td>&vellip;</td><td>&vellip;</td><td>&vellip;</td></tr></tbody></table>"
      ]
     },
     "metadata": {},
     "execution_count": 7
    }
   ],
   "cell_type": "code",
   "source": [
    "samples = post[sample(1:size(post, 1), Weights(post[:prob]), 10000, replace=true), :]"
   ],
   "metadata": {},
   "execution_count": 7
  },
  {
   "outputs": [],
   "cell_type": "markdown",
   "source": [
    "### Snippet 4.23"
   ],
   "metadata": {}
  },
  {
   "outputs": [],
   "cell_type": "markdown",
   "source": [
    "Density of sigma"
   ],
   "metadata": {}
  },
  {
   "outputs": [
    {
     "output_type": "execute_result",
     "data": {
      "text/plain": "Plot{Plots.GRBackend() n=1}",
      "image/png": "[encoded data removed]",
      "text/html": [
       "<?xml version=\"1.0\" encoding=\"utf-8\"?>\n",
       "<svg xmlns=\"http://www.w3.org/2000/svg\" xmlns:xlink=\"http://www.w3.org/1999/xlink\" width=\"500\" height=\"500\" viewBox=\"0 0 2000 2000\">\n",
       "<defs>\n",
       "  <clipPath id=\"clip4100\">\n",
       "    <rect x=\"0\" y=\"0\" width=\"2000\" height=\"2000\"/>\n",
       "  </clipPath>\n",
       "</defs>\n",
       "<polygon clip-path=\"url(#clip4100)\" points=\"\n",
       "0,2000 2000,2000 2000,0 0,0 \n",
       "  \" fill=\"#ffffff\" fill-rule=\"evenodd\" fill-opacity=\"1\"/>\n",
       "<defs>\n",
       "  <clipPath id=\"clip4101\">\n",
       "    <rect x=\"400\" y=\"200\" width=\"1401\" height=\"1401\"/>\n",
       "  </clipPath>\n",
       "</defs>\n",
       "<polygon clip-path=\"url(#clip4100)\" points=\"\n",
       "149.898,1866.71 1952.76,1866.71 1952.76,47.2441 149.898,47.2441 \n",
       "  \" fill=\"#ffffff\" fill-rule=\"evenodd\" fill-opacity=\"1\"/>\n",
       "<defs>\n",
       "  <clipPath id=\"clip4102\">\n",
       "    <rect x=\"149\" y=\"47\" width=\"1804\" height=\"1820\"/>\n",
       "  </clipPath>\n",
       "</defs>\n",
       "<polyline clip-path=\"url(#clip4102)\" style=\"stroke:#000000; stroke-width:2; stroke-opacity:0.1; fill:none\" points=\"\n",
       "  456.325,1866.71 456.325,47.2441 \n",
       "  \"/>\n",
       "<polyline clip-path=\"url(#clip4102)\" style=\"stroke:#000000; stroke-width:2; stroke-opacity:0.1; fill:none\" points=\"\n",
       "  782.211,1866.71 782.211,47.2441 \n",
       "  \"/>\n",
       "<polyline clip-path=\"url(#clip4102)\" style=\"stroke:#000000; stroke-width:2; stroke-opacity:0.1; fill:none\" points=\"\n",
       "  1108.1,1866.71 1108.1,47.2441 \n",
       "  \"/>\n",
       "<polyline clip-path=\"url(#clip4102)\" style=\"stroke:#000000; stroke-width:2; stroke-opacity:0.1; fill:none\" points=\"\n",
       "  1433.98,1866.71 1433.98,47.2441 \n",
       "  \"/>\n",
       "<polyline clip-path=\"url(#clip4102)\" style=\"stroke:#000000; stroke-width:2; stroke-opacity:0.1; fill:none\" points=\"\n",
       "  1759.87,1866.71 1759.87,47.2441 \n",
       "  \"/>\n",
       "<polyline clip-path=\"url(#clip4102)\" style=\"stroke:#000000; stroke-width:2; stroke-opacity:0.1; fill:none\" points=\"\n",
       "  149.898,1815.21 1952.76,1815.21 \n",
       "  \"/>\n",
       "<polyline clip-path=\"url(#clip4102)\" style=\"stroke:#000000; stroke-width:2; stroke-opacity:0.1; fill:none\" points=\"\n",
       "  149.898,1276.69 1952.76,1276.69 \n",
       "  \"/>\n",
       "<polyline clip-path=\"url(#clip4102)\" style=\"stroke:#000000; stroke-width:2; stroke-opacity:0.1; fill:none\" points=\"\n",
       "  149.898,738.172 1952.76,738.172 \n",
       "  \"/>\n",
       "<polyline clip-path=\"url(#clip4102)\" style=\"stroke:#000000; stroke-width:2; stroke-opacity:0.1; fill:none\" points=\"\n",
       "  149.898,199.652 1952.76,199.652 \n",
       "  \"/>\n",
       "<polyline clip-path=\"url(#clip4100)\" style=\"stroke:#000000; stroke-width:4; stroke-opacity:1; fill:none\" points=\"\n",
       "  149.898,1866.71 1952.76,1866.71 \n",
       "  \"/>\n",
       "<polyline clip-path=\"url(#clip4100)\" style=\"stroke:#000000; stroke-width:4; stroke-opacity:1; fill:none\" points=\"\n",
       "  149.898,1866.71 149.898,47.2441 \n",
       "  \"/>\n",
       "<polyline clip-path=\"url(#clip4100)\" style=\"stroke:#000000; stroke-width:4; stroke-opacity:1; fill:none\" points=\"\n",
       "  456.325,1866.71 456.325,1839.42 \n",
       "  \"/>\n",
       "<polyline clip-path=\"url(#clip4100)\" style=\"stroke:#000000; stroke-width:4; stroke-opacity:1; fill:none\" points=\"\n",
       "  782.211,1866.71 782.211,1839.42 \n",
       "  \"/>\n",
       "<polyline clip-path=\"url(#clip4100)\" style=\"stroke:#000000; stroke-width:4; stroke-opacity:1; fill:none\" points=\"\n",
       "  1108.1,1866.71 1108.1,1839.42 \n",
       "  \"/>\n",
       "<polyline clip-path=\"url(#clip4100)\" style=\"stroke:#000000; stroke-width:4; stroke-opacity:1; fill:none\" points=\"\n",
       "  1433.98,1866.71 1433.98,1839.42 \n",
       "  \"/>\n",
       "<polyline clip-path=\"url(#clip4100)\" style=\"stroke:#000000; stroke-width:4; stroke-opacity:1; fill:none\" points=\"\n",
       "  1759.87,1866.71 1759.87,1839.42 \n",
       "  \"/>\n",
       "<polyline clip-path=\"url(#clip4100)\" style=\"stroke:#000000; stroke-width:4; stroke-opacity:1; fill:none\" points=\"\n",
       "  149.898,1815.21 176.941,1815.21 \n",
       "  \"/>\n",
       "<polyline clip-path=\"url(#clip4100)\" style=\"stroke:#000000; stroke-width:4; stroke-opacity:1; fill:none\" points=\"\n",
       "  149.898,1276.69 176.941,1276.69 \n",
       "  \"/>\n",
       "<polyline clip-path=\"url(#clip4100)\" style=\"stroke:#000000; stroke-width:4; stroke-opacity:1; fill:none\" points=\"\n",
       "  149.898,738.172 176.941,738.172 \n",
       "  \"/>\n",
       "<polyline clip-path=\"url(#clip4100)\" style=\"stroke:#000000; stroke-width:4; stroke-opacity:1; fill:none\" points=\"\n",
       "  149.898,199.652 176.941,199.652 \n",
       "  \"/>\n",
       "<g clip-path=\"url(#clip4100)\">\n",
       "<text style=\"fill:#000000; fill-opacity:1; font-family:Arial,Helvetica Neue,Helvetica,sans-serif; font-size:48px; text-anchor:middle;\" transform=\"rotate(0, 456.325, 1918.71)\" x=\"456.325\" y=\"1918.71\">6</text>\n",
       "</g>\n",
       "<g clip-path=\"url(#clip4100)\">\n",
       "<text style=\"fill:#000000; fill-opacity:1; font-family:Arial,Helvetica Neue,Helvetica,sans-serif; font-size:48px; text-anchor:middle;\" transform=\"rotate(0, 782.211, 1918.71)\" x=\"782.211\" y=\"1918.71\">9</text>\n",
       "</g>\n",
       "<g clip-path=\"url(#clip4100)\">\n",
       "<text style=\"fill:#000000; fill-opacity:1; font-family:Arial,Helvetica Neue,Helvetica,sans-serif; font-size:48px; text-anchor:middle;\" transform=\"rotate(0, 1108.1, 1918.71)\" x=\"1108.1\" y=\"1918.71\">12</text>\n",
       "</g>\n",
       "<g clip-path=\"url(#clip4100)\">\n",
       "<text style=\"fill:#000000; fill-opacity:1; font-family:Arial,Helvetica Neue,Helvetica,sans-serif; font-size:48px; text-anchor:middle;\" transform=\"rotate(0, 1433.98, 1918.71)\" x=\"1433.98\" y=\"1918.71\">15</text>\n",
       "</g>\n",
       "<g clip-path=\"url(#clip4100)\">\n",
       "<text style=\"fill:#000000; fill-opacity:1; font-family:Arial,Helvetica Neue,Helvetica,sans-serif; font-size:48px; text-anchor:middle;\" transform=\"rotate(0, 1759.87, 1918.71)\" x=\"1759.87\" y=\"1918.71\">18</text>\n",
       "</g>\n",
       "<g clip-path=\"url(#clip4100)\">\n",
       "<text style=\"fill:#000000; fill-opacity:1; font-family:Arial,Helvetica Neue,Helvetica,sans-serif; font-size:48px; text-anchor:end;\" transform=\"rotate(0, 129.898, 1832.71)\" x=\"129.898\" y=\"1832.71\">0.0</text>\n",
       "</g>\n",
       "<g clip-path=\"url(#clip4100)\">\n",
       "<text style=\"fill:#000000; fill-opacity:1; font-family:Arial,Helvetica Neue,Helvetica,sans-serif; font-size:48px; text-anchor:end;\" transform=\"rotate(0, 129.898, 1294.19)\" x=\"129.898\" y=\"1294.19\">0.1</text>\n",
       "</g>\n",
       "<g clip-path=\"url(#clip4100)\">\n",
       "<text style=\"fill:#000000; fill-opacity:1; font-family:Arial,Helvetica Neue,Helvetica,sans-serif; font-size:48px; text-anchor:end;\" transform=\"rotate(0, 129.898, 755.672)\" x=\"129.898\" y=\"755.672\">0.2</text>\n",
       "</g>\n",
       "<g clip-path=\"url(#clip4100)\">\n",
       "<text style=\"fill:#000000; fill-opacity:1; font-family:Arial,Helvetica Neue,Helvetica,sans-serif; font-size:48px; text-anchor:end;\" transform=\"rotate(0, 129.898, 217.152)\" x=\"129.898\" y=\"217.152\">0.3</text>\n",
       "</g>\n",
       "<polyline clip-path=\"url(#clip4102)\" style=\"stroke:#009af9; stroke-width:4; stroke-opacity:1; fill:none\" points=\"\n",
       "  200.922,1815.21 209.469,1815.21 218.016,1815.2 226.563,1815.17 235.109,1815.09 243.656,1814.91 252.203,1814.52 260.75,1813.85 269.297,1812.8 277.843,1811.28 \n",
       "  286.39,1809.24 294.937,1806.62 303.484,1803.28 312.03,1798.98 320.577,1793.19 329.124,1785.01 337.671,1773.26 346.218,1756.69 354.764,1734.39 363.311,1706.12 \n",
       "  371.858,1672.23 380.405,1632.98 388.951,1587.96 397.498,1536.33 406.045,1477.67 414.592,1412.58 423.139,1342.19 431.685,1267.11 440.232,1186.71 448.779,1099.62 \n",
       "  457.326,1005.06 465.872,904.446 474.419,802.054 482.966,704.165 491.513,616.72 500.06,542.768 508.606,481.257 517.153,427.971 525.7,378.298 534.247,330.31 \n",
       "  542.793,286.031 551.34,249.708 559.887,224.258 568.434,208.545 576.981,197.427 585.527,184.384 594.074,165.056 602.621,139.876 611.168,114.674 619.715,98.7384 \n",
       "  628.261,100.766 636.808,124.468 645.355,166.585 653.902,218.952 662.448,273.31 670.995,325.331 679.542,375.188 688.089,425.156 696.636,476.885 705.182,530.423 \n",
       "  713.729,584.953 722.276,639.94 730.823,695.585 739.369,752.282 747.916,809.636 756.463,866.026 765.01,919.398 773.557,968.677 782.103,1014.39 790.65,1057.91 \n",
       "  799.197,1100.28 807.744,1141.91 816.29,1183.02 824.837,1223.86 833.384,1264.28 841.931,1303.2 850.478,1338.88 859.024,1369.71 867.571,1395.1 876.118,1415.82 \n",
       "  884.665,1433.66 893.211,1450.65 901.758,1468.43 910.305,1487.89 918.852,1509.06 927.399,1531.19 935.945,1553.21 944.492,1574.54 953.039,1595.2 961.586,1615.12 \n",
       "  970.133,1633.44 978.679,1648.89 987.226,1660.89 995.773,1670.21 1004.32,1678.58 1012.87,1687.62 1021.41,1697.9 1029.96,1708.72 1038.51,1718.6 1047.05,1726.23 \n",
       "  1055.6,1731.12 1064.15,1733.77 1072.69,1735.3 1081.24,1736.98 1089.79,1739.74 1098.33,1744 1106.88,1749.58 1115.43,1755.89 1123.97,1762.2 1132.52,1767.93 \n",
       "  1141.07,1772.81 1149.61,1776.87 1158.16,1780.32 1166.71,1783.36 1175.26,1785.97 1183.8,1787.86 1192.35,1788.7 1200.9,1788.54 1209.44,1788.05 1217.99,1788.2 \n",
       "  1226.54,1789.76 1235.08,1792.8 1243.63,1796.76 1252.18,1800.78 1260.72,1804.12 1269.27,1806.42 1277.82,1807.75 1286.36,1808.49 1294.91,1809.07 1303.46,1809.7 \n",
       "  1312,1810.31 1320.55,1810.67 1329.1,1810.66 1337.64,1810.36 1346.19,1809.98 1354.74,1809.72 1363.28,1809.65 1371.83,1809.79 1380.38,1810.13 1388.92,1810.64 \n",
       "  1397.47,1811.32 1406.02,1812.12 1414.57,1812.97 1423.11,1813.72 1431.66,1814.24 1440.21,1814.43 1448.75,1814.28 1457.3,1813.87 1465.85,1813.36 1474.39,1812.96 \n",
       "  1482.94,1812.83 1491.49,1812.97 1500.03,1813.24 1508.58,1813.5 1517.13,1813.7 1525.67,1813.91 1534.22,1814.17 1542.77,1814.48 1551.31,1814.76 1559.86,1814.98 \n",
       "  1568.41,1815.11 1576.95,1815.18 1585.5,1815.2 1594.05,1815.21 1602.59,1815.21 1611.14,1815.21 1619.69,1815.21 1628.23,1815.21 1636.78,1815.21 1645.33,1815.21 \n",
       "  1653.87,1815.21 1662.42,1815.21 1670.97,1815.21 1679.52,1815.21 1688.06,1815.21 1696.61,1815.21 1705.16,1815.21 1713.7,1815.21 1722.25,1815.21 1730.8,1815.21 \n",
       "  1739.34,1815.21 1747.89,1815.21 1756.44,1815.2 1764.98,1815.18 1773.53,1815.12 1782.08,1815 1790.62,1814.8 1799.17,1814.53 1807.72,1814.27 1816.26,1814.11 \n",
       "  1824.81,1814.13 1833.36,1814.31 1841.9,1814.57 1850.45,1814.83 1859,1815.02 1867.54,1815.13 1876.09,1815.18 1884.64,1815.2 1893.18,1815.21 1901.73,1815.21 \n",
       "  \n",
       "  \"/>\n",
       "<polygon clip-path=\"url(#clip4100)\" points=\"\n",
       "1641.93,227.724 1892.76,227.724 1892.76,106.764 1641.93,106.764 \n",
       "  \" fill=\"#ffffff\" fill-rule=\"evenodd\" fill-opacity=\"1\"/>\n",
       "<polyline clip-path=\"url(#clip4100)\" style=\"stroke:#000000; stroke-width:4; stroke-opacity:1; fill:none\" points=\"\n",
       "  1641.93,227.724 1892.76,227.724 1892.76,106.764 1641.93,106.764 1641.93,227.724 \n",
       "  \"/>\n",
       "<polyline clip-path=\"url(#clip4100)\" style=\"stroke:#009af9; stroke-width:4; stroke-opacity:1; fill:none\" points=\"\n",
       "  1661.93,167.244 1781.93,167.244 \n",
       "  \"/>\n",
       "<g clip-path=\"url(#clip4100)\">\n",
       "<text style=\"fill:#000000; fill-opacity:1; font-family:Arial,Helvetica Neue,Helvetica,sans-serif; font-size:48px; text-anchor:start;\" transform=\"rotate(0, 1801.93, 184.744)\" x=\"1801.93\" y=\"184.744\">y1</text>\n",
       "</g>\n",
       "</svg>\n"
      ],
      "image/svg+xml": [
       "<?xml version=\"1.0\" encoding=\"utf-8\"?>\n",
       "<svg xmlns=\"http://www.w3.org/2000/svg\" xmlns:xlink=\"http://www.w3.org/1999/xlink\" width=\"500\" height=\"500\" viewBox=\"0 0 2000 2000\">\n",
       "<defs>\n",
       "  <clipPath id=\"clip3800\">\n",
       "    <rect x=\"0\" y=\"0\" width=\"2000\" height=\"2000\"/>\n",
       "  </clipPath>\n",
       "</defs>\n",
       "<polygon clip-path=\"url(#clip3800)\" points=\"\n",
       "0,2000 2000,2000 2000,0 0,0 \n",
       "  \" fill=\"#ffffff\" fill-rule=\"evenodd\" fill-opacity=\"1\"/>\n",
       "<defs>\n",
       "  <clipPath id=\"clip3801\">\n",
       "    <rect x=\"400\" y=\"200\" width=\"1401\" height=\"1401\"/>\n",
       "  </clipPath>\n",
       "</defs>\n",
       "<polygon clip-path=\"url(#clip3800)\" points=\"\n",
       "149.898,1866.71 1952.76,1866.71 1952.76,47.2441 149.898,47.2441 \n",
       "  \" fill=\"#ffffff\" fill-rule=\"evenodd\" fill-opacity=\"1\"/>\n",
       "<defs>\n",
       "  <clipPath id=\"clip3802\">\n",
       "    <rect x=\"149\" y=\"47\" width=\"1804\" height=\"1820\"/>\n",
       "  </clipPath>\n",
       "</defs>\n",
       "<polyline clip-path=\"url(#clip3802)\" style=\"stroke:#000000; stroke-width:2; stroke-opacity:0.1; fill:none\" points=\"\n",
       "  456.325,1866.71 456.325,47.2441 \n",
       "  \"/>\n",
       "<polyline clip-path=\"url(#clip3802)\" style=\"stroke:#000000; stroke-width:2; stroke-opacity:0.1; fill:none\" points=\"\n",
       "  782.211,1866.71 782.211,47.2441 \n",
       "  \"/>\n",
       "<polyline clip-path=\"url(#clip3802)\" style=\"stroke:#000000; stroke-width:2; stroke-opacity:0.1; fill:none\" points=\"\n",
       "  1108.1,1866.71 1108.1,47.2441 \n",
       "  \"/>\n",
       "<polyline clip-path=\"url(#clip3802)\" style=\"stroke:#000000; stroke-width:2; stroke-opacity:0.1; fill:none\" points=\"\n",
       "  1433.98,1866.71 1433.98,47.2441 \n",
       "  \"/>\n",
       "<polyline clip-path=\"url(#clip3802)\" style=\"stroke:#000000; stroke-width:2; stroke-opacity:0.1; fill:none\" points=\"\n",
       "  1759.87,1866.71 1759.87,47.2441 \n",
       "  \"/>\n",
       "<polyline clip-path=\"url(#clip3802)\" style=\"stroke:#000000; stroke-width:2; stroke-opacity:0.1; fill:none\" points=\"\n",
       "  149.898,1815.21 1952.76,1815.21 \n",
       "  \"/>\n",
       "<polyline clip-path=\"url(#clip3802)\" style=\"stroke:#000000; stroke-width:2; stroke-opacity:0.1; fill:none\" points=\"\n",
       "  149.898,1276.69 1952.76,1276.69 \n",
       "  \"/>\n",
       "<polyline clip-path=\"url(#clip3802)\" style=\"stroke:#000000; stroke-width:2; stroke-opacity:0.1; fill:none\" points=\"\n",
       "  149.898,738.172 1952.76,738.172 \n",
       "  \"/>\n",
       "<polyline clip-path=\"url(#clip3802)\" style=\"stroke:#000000; stroke-width:2; stroke-opacity:0.1; fill:none\" points=\"\n",
       "  149.898,199.652 1952.76,199.652 \n",
       "  \"/>\n",
       "<polyline clip-path=\"url(#clip3800)\" style=\"stroke:#000000; stroke-width:4; stroke-opacity:1; fill:none\" points=\"\n",
       "  149.898,1866.71 1952.76,1866.71 \n",
       "  \"/>\n",
       "<polyline clip-path=\"url(#clip3800)\" style=\"stroke:#000000; stroke-width:4; stroke-opacity:1; fill:none\" points=\"\n",
       "  149.898,1866.71 149.898,47.2441 \n",
       "  \"/>\n",
       "<polyline clip-path=\"url(#clip3800)\" style=\"stroke:#000000; stroke-width:4; stroke-opacity:1; fill:none\" points=\"\n",
       "  456.325,1866.71 456.325,1839.42 \n",
       "  \"/>\n",
       "<polyline clip-path=\"url(#clip3800)\" style=\"stroke:#000000; stroke-width:4; stroke-opacity:1; fill:none\" points=\"\n",
       "  782.211,1866.71 782.211,1839.42 \n",
       "  \"/>\n",
       "<polyline clip-path=\"url(#clip3800)\" style=\"stroke:#000000; stroke-width:4; stroke-opacity:1; fill:none\" points=\"\n",
       "  1108.1,1866.71 1108.1,1839.42 \n",
       "  \"/>\n",
       "<polyline clip-path=\"url(#clip3800)\" style=\"stroke:#000000; stroke-width:4; stroke-opacity:1; fill:none\" points=\"\n",
       "  1433.98,1866.71 1433.98,1839.42 \n",
       "  \"/>\n",
       "<polyline clip-path=\"url(#clip3800)\" style=\"stroke:#000000; stroke-width:4; stroke-opacity:1; fill:none\" points=\"\n",
       "  1759.87,1866.71 1759.87,1839.42 \n",
       "  \"/>\n",
       "<polyline clip-path=\"url(#clip3800)\" style=\"stroke:#000000; stroke-width:4; stroke-opacity:1; fill:none\" points=\"\n",
       "  149.898,1815.21 176.941,1815.21 \n",
       "  \"/>\n",
       "<polyline clip-path=\"url(#clip3800)\" style=\"stroke:#000000; stroke-width:4; stroke-opacity:1; fill:none\" points=\"\n",
       "  149.898,1276.69 176.941,1276.69 \n",
       "  \"/>\n",
       "<polyline clip-path=\"url(#clip3800)\" style=\"stroke:#000000; stroke-width:4; stroke-opacity:1; fill:none\" points=\"\n",
       "  149.898,738.172 176.941,738.172 \n",
       "  \"/>\n",
       "<polyline clip-path=\"url(#clip3800)\" style=\"stroke:#000000; stroke-width:4; stroke-opacity:1; fill:none\" points=\"\n",
       "  149.898,199.652 176.941,199.652 \n",
       "  \"/>\n",
       "<g clip-path=\"url(#clip3800)\">\n",
       "<text style=\"fill:#000000; fill-opacity:1; font-family:Arial,Helvetica Neue,Helvetica,sans-serif; font-size:48px; text-anchor:middle;\" transform=\"rotate(0, 456.325, 1918.71)\" x=\"456.325\" y=\"1918.71\">6</text>\n",
       "</g>\n",
       "<g clip-path=\"url(#clip3800)\">\n",
       "<text style=\"fill:#000000; fill-opacity:1; font-family:Arial,Helvetica Neue,Helvetica,sans-serif; font-size:48px; text-anchor:middle;\" transform=\"rotate(0, 782.211, 1918.71)\" x=\"782.211\" y=\"1918.71\">9</text>\n",
       "</g>\n",
       "<g clip-path=\"url(#clip3800)\">\n",
       "<text style=\"fill:#000000; fill-opacity:1; font-family:Arial,Helvetica Neue,Helvetica,sans-serif; font-size:48px; text-anchor:middle;\" transform=\"rotate(0, 1108.1, 1918.71)\" x=\"1108.1\" y=\"1918.71\">12</text>\n",
       "</g>\n",
       "<g clip-path=\"url(#clip3800)\">\n",
       "<text style=\"fill:#000000; fill-opacity:1; font-family:Arial,Helvetica Neue,Helvetica,sans-serif; font-size:48px; text-anchor:middle;\" transform=\"rotate(0, 1433.98, 1918.71)\" x=\"1433.98\" y=\"1918.71\">15</text>\n",
       "</g>\n",
       "<g clip-path=\"url(#clip3800)\">\n",
       "<text style=\"fill:#000000; fill-opacity:1; font-family:Arial,Helvetica Neue,Helvetica,sans-serif; font-size:48px; text-anchor:middle;\" transform=\"rotate(0, 1759.87, 1918.71)\" x=\"1759.87\" y=\"1918.71\">18</text>\n",
       "</g>\n",
       "<g clip-path=\"url(#clip3800)\">\n",
       "<text style=\"fill:#000000; fill-opacity:1; font-family:Arial,Helvetica Neue,Helvetica,sans-serif; font-size:48px; text-anchor:end;\" transform=\"rotate(0, 129.898, 1832.71)\" x=\"129.898\" y=\"1832.71\">0.0</text>\n",
       "</g>\n",
       "<g clip-path=\"url(#clip3800)\">\n",
       "<text style=\"fill:#000000; fill-opacity:1; font-family:Arial,Helvetica Neue,Helvetica,sans-serif; font-size:48px; text-anchor:end;\" transform=\"rotate(0, 129.898, 1294.19)\" x=\"129.898\" y=\"1294.19\">0.1</text>\n",
       "</g>\n",
       "<g clip-path=\"url(#clip3800)\">\n",
       "<text style=\"fill:#000000; fill-opacity:1; font-family:Arial,Helvetica Neue,Helvetica,sans-serif; font-size:48px; text-anchor:end;\" transform=\"rotate(0, 129.898, 755.672)\" x=\"129.898\" y=\"755.672\">0.2</text>\n",
       "</g>\n",
       "<g clip-path=\"url(#clip3800)\">\n",
       "<text style=\"fill:#000000; fill-opacity:1; font-family:Arial,Helvetica Neue,Helvetica,sans-serif; font-size:48px; text-anchor:end;\" transform=\"rotate(0, 129.898, 217.152)\" x=\"129.898\" y=\"217.152\">0.3</text>\n",
       "</g>\n",
       "<polyline clip-path=\"url(#clip3802)\" style=\"stroke:#009af9; stroke-width:4; stroke-opacity:1; fill:none\" points=\"\n",
       "  200.922,1815.21 209.469,1815.21 218.016,1815.2 226.563,1815.17 235.109,1815.09 243.656,1814.91 252.203,1814.52 260.75,1813.85 269.297,1812.8 277.843,1811.28 \n",
       "  286.39,1809.24 294.937,1806.62 303.484,1803.28 312.03,1798.98 320.577,1793.19 329.124,1785.01 337.671,1773.26 346.218,1756.69 354.764,1734.39 363.311,1706.12 \n",
       "  371.858,1672.23 380.405,1632.98 388.951,1587.96 397.498,1536.33 406.045,1477.67 414.592,1412.58 423.139,1342.19 431.685,1267.11 440.232,1186.71 448.779,1099.62 \n",
       "  457.326,1005.06 465.872,904.446 474.419,802.054 482.966,704.165 491.513,616.72 500.06,542.768 508.606,481.257 517.153,427.971 525.7,378.298 534.247,330.31 \n",
       "  542.793,286.031 551.34,249.708 559.887,224.258 568.434,208.545 576.981,197.427 585.527,184.384 594.074,165.056 602.621,139.876 611.168,114.674 619.715,98.7384 \n",
       "  628.261,100.766 636.808,124.468 645.355,166.585 653.902,218.952 662.448,273.31 670.995,325.331 679.542,375.188 688.089,425.156 696.636,476.885 705.182,530.423 \n",
       "  713.729,584.953 722.276,639.94 730.823,695.585 739.369,752.282 747.916,809.636 756.463,866.026 765.01,919.398 773.557,968.677 782.103,1014.39 790.65,1057.91 \n",
       "  799.197,1100.28 807.744,1141.91 816.29,1183.02 824.837,1223.86 833.384,1264.28 841.931,1303.2 850.478,1338.88 859.024,1369.71 867.571,1395.1 876.118,1415.82 \n",
       "  884.665,1433.66 893.211,1450.65 901.758,1468.43 910.305,1487.89 918.852,1509.06 927.399,1531.19 935.945,1553.21 944.492,1574.54 953.039,1595.2 961.586,1615.12 \n",
       "  970.133,1633.44 978.679,1648.89 987.226,1660.89 995.773,1670.21 1004.32,1678.58 1012.87,1687.62 1021.41,1697.9 1029.96,1708.72 1038.51,1718.6 1047.05,1726.23 \n",
       "  1055.6,1731.12 1064.15,1733.77 1072.69,1735.3 1081.24,1736.98 1089.79,1739.74 1098.33,1744 1106.88,1749.58 1115.43,1755.89 1123.97,1762.2 1132.52,1767.93 \n",
       "  1141.07,1772.81 1149.61,1776.87 1158.16,1780.32 1166.71,1783.36 1175.26,1785.97 1183.8,1787.86 1192.35,1788.7 1200.9,1788.54 1209.44,1788.05 1217.99,1788.2 \n",
       "  1226.54,1789.76 1235.08,1792.8 1243.63,1796.76 1252.18,1800.78 1260.72,1804.12 1269.27,1806.42 1277.82,1807.75 1286.36,1808.49 1294.91,1809.07 1303.46,1809.7 \n",
       "  1312,1810.31 1320.55,1810.67 1329.1,1810.66 1337.64,1810.36 1346.19,1809.98 1354.74,1809.72 1363.28,1809.65 1371.83,1809.79 1380.38,1810.13 1388.92,1810.64 \n",
       "  1397.47,1811.32 1406.02,1812.12 1414.57,1812.97 1423.11,1813.72 1431.66,1814.24 1440.21,1814.43 1448.75,1814.28 1457.3,1813.87 1465.85,1813.36 1474.39,1812.96 \n",
       "  1482.94,1812.83 1491.49,1812.97 1500.03,1813.24 1508.58,1813.5 1517.13,1813.7 1525.67,1813.91 1534.22,1814.17 1542.77,1814.48 1551.31,1814.76 1559.86,1814.98 \n",
       "  1568.41,1815.11 1576.95,1815.18 1585.5,1815.2 1594.05,1815.21 1602.59,1815.21 1611.14,1815.21 1619.69,1815.21 1628.23,1815.21 1636.78,1815.21 1645.33,1815.21 \n",
       "  1653.87,1815.21 1662.42,1815.21 1670.97,1815.21 1679.52,1815.21 1688.06,1815.21 1696.61,1815.21 1705.16,1815.21 1713.7,1815.21 1722.25,1815.21 1730.8,1815.21 \n",
       "  1739.34,1815.21 1747.89,1815.21 1756.44,1815.2 1764.98,1815.18 1773.53,1815.12 1782.08,1815 1790.62,1814.8 1799.17,1814.53 1807.72,1814.27 1816.26,1814.11 \n",
       "  1824.81,1814.13 1833.36,1814.31 1841.9,1814.57 1850.45,1814.83 1859,1815.02 1867.54,1815.13 1876.09,1815.18 1884.64,1815.2 1893.18,1815.21 1901.73,1815.21 \n",
       "  \n",
       "  \"/>\n",
       "<polygon clip-path=\"url(#clip3800)\" points=\"\n",
       "1641.93,227.724 1892.76,227.724 1892.76,106.764 1641.93,106.764 \n",
       "  \" fill=\"#ffffff\" fill-rule=\"evenodd\" fill-opacity=\"1\"/>\n",
       "<polyline clip-path=\"url(#clip3800)\" style=\"stroke:#000000; stroke-width:4; stroke-opacity:1; fill:none\" points=\"\n",
       "  1641.93,227.724 1892.76,227.724 1892.76,106.764 1641.93,106.764 1641.93,227.724 \n",
       "  \"/>\n",
       "<polyline clip-path=\"url(#clip3800)\" style=\"stroke:#009af9; stroke-width:4; stroke-opacity:1; fill:none\" points=\"\n",
       "  1661.93,167.244 1781.93,167.244 \n",
       "  \"/>\n",
       "<g clip-path=\"url(#clip3800)\">\n",
       "<text style=\"fill:#000000; fill-opacity:1; font-family:Arial,Helvetica Neue,Helvetica,sans-serif; font-size:48px; text-anchor:start;\" transform=\"rotate(0, 1801.93, 184.744)\" x=\"1801.93\" y=\"184.744\">y1</text>\n",
       "</g>\n",
       "</svg>\n"
      ]
     },
     "metadata": {},
     "execution_count": 8
    }
   ],
   "cell_type": "code",
   "source": [
    "density(samples[:sigma])"
   ],
   "metadata": {},
   "execution_count": 8
  },
  {
   "outputs": [],
   "cell_type": "markdown",
   "source": [
    "End of `clip-21-23.jl`"
   ],
   "metadata": {}
  },
  {
   "outputs": [],
   "cell_type": "markdown",
   "source": [
    "*This notebook was generated using [Literate.jl](https://github.com/fredrikekre/Literate.jl).*"
   ],
   "metadata": {}
  }
 ],
 "nbformat_minor": 3,
 "metadata": {
  "language_info": {
   "file_extension": ".jl",
   "mimetype": "application/julia",
   "name": "julia",
   "version": "1.3.0-DEV.377"
  },
  "kernelspec": {
   "name": "julia-1.3",
   "display_name": "Julia 1.3.0-DEV.377",
   "language": "julia"
  }
 },
 "nbformat": 4
}
