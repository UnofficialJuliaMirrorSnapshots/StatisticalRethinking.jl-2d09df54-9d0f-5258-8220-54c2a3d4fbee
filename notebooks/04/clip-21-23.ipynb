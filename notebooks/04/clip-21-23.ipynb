{
 "cells": [
  {
   "outputs": [],
   "cell_type": "markdown",
   "source": [
    "Load Julia packages (libraries) needed  for the snippets in chapter 0"
   ],
   "metadata": {}
  },
  {
   "outputs": [],
   "cell_type": "code",
   "source": [
    "using StatisticalRethinking, CmdStan\n",
    "gr(size=(500,500));"
   ],
   "metadata": {},
   "execution_count": 1
  },
  {
   "outputs": [],
   "cell_type": "markdown",
   "source": [
    "CmdStan uses a tmp directory to store the output of cmdstan"
   ],
   "metadata": {}
  },
  {
   "outputs": [],
   "cell_type": "code",
   "source": [
    "ProjDir = rel_path(\"..\", \"scripts\", \"04\")\n",
    "cd(ProjDir)"
   ],
   "metadata": {},
   "execution_count": 2
  },
  {
   "outputs": [],
   "cell_type": "markdown",
   "source": [
    "CmdStan uses a tmp directory to store the output of cmdstan"
   ],
   "metadata": {}
  },
  {
   "outputs": [],
   "cell_type": "code",
   "source": [
    "ProjDir = rel_path(\"..\", \"scripts\", \"04\")\n",
    "cd(ProjDir)"
   ],
   "metadata": {},
   "execution_count": 3
  },
  {
   "outputs": [
    {
     "output_type": "execute_result",
     "data": {
      "text/plain": "5×4 DataFrame\n│ Row │ height  │ weight  │ age     │ male  │\n│     │ \u001b[90mFloat64\u001b[39m │ \u001b[90mFloat64\u001b[39m │ \u001b[90mFloat64\u001b[39m │ \u001b[90mInt64\u001b[39m │\n├─────┼─────────┼─────────┼─────────┼───────┤\n│ 1   │ 151.765 │ 47.8256 │ 63.0    │ 1     │\n│ 2   │ 139.7   │ 36.4858 │ 63.0    │ 0     │\n│ 3   │ 136.525 │ 31.8648 │ 65.0    │ 0     │\n│ 4   │ 156.845 │ 53.0419 │ 41.0    │ 1     │\n│ 5   │ 145.415 │ 41.2769 │ 51.0    │ 0     │",
      "text/html": [
       "<table class=\"data-frame\"><thead><tr><th></th><th>height</th><th>weight</th><th>age</th><th>male</th></tr><tr><th></th><th>Float64</th><th>Float64</th><th>Float64</th><th>Int64</th></tr></thead><tbody><p>5 rows × 4 columns</p><tr><th>1</th><td>151.765</td><td>47.8256</td><td>63.0</td><td>1</td></tr><tr><th>2</th><td>139.7</td><td>36.4858</td><td>63.0</td><td>0</td></tr><tr><th>3</th><td>136.525</td><td>31.8648</td><td>65.0</td><td>0</td></tr><tr><th>4</th><td>156.845</td><td>53.0419</td><td>41.0</td><td>1</td></tr><tr><th>5</th><td>145.415</td><td>41.2769</td><td>51.0</td><td>0</td></tr></tbody></table>"
      ]
     },
     "metadata": {},
     "execution_count": 4
    }
   ],
   "cell_type": "code",
   "source": [
    "howell1 = CSV.read(rel_path(\"..\", \"data\", \"Howell1.csv\"), delim=';')\n",
    "df = convert(DataFrame, howell1);\n",
    "df2 = filter(row -> row[:age] >= 18, df);\n",
    "first(df2, 5)"
   ],
   "metadata": {},
   "execution_count": 4
  },
  {
   "outputs": [],
   "cell_type": "markdown",
   "source": [
    "### Snippet 4.21"
   ],
   "metadata": {}
  },
  {
   "outputs": [],
   "cell_type": "markdown",
   "source": [
    "Sample 20 random heights"
   ],
   "metadata": {}
  },
  {
   "outputs": [],
   "cell_type": "code",
   "source": [
    "n = size(df2, 1)\n",
    "selected_ind = sample(1:n, 20, replace=false);\n",
    "df3 = df2[selected_ind, :];"
   ],
   "metadata": {},
   "execution_count": 5
  },
  {
   "outputs": [],
   "cell_type": "markdown",
   "source": [
    "### Snippet 4.22"
   ],
   "metadata": {}
  },
  {
   "outputs": [],
   "cell_type": "markdown",
   "source": [
    "Generate approximate probabilities"
   ],
   "metadata": {}
  },
  {
   "outputs": [
    {
     "output_type": "execute_result",
     "data": {
      "text/plain": "10×5 DataFrame\n│ Row │ mu      │ sigma   │ ll       │ prod     │ prob        │\n│     │ \u001b[90mFloat64\u001b[39m │ \u001b[90mFloat64\u001b[39m │ \u001b[90mFloat64\u001b[39m  │ \u001b[90mFloat64\u001b[39m  │ \u001b[90mFloat64\u001b[39m     │\n├─────┼─────────┼─────────┼──────────┼──────────┼─────────────┤\n│ 1   │ 140.0   │ 4.0     │ -152.243 │ -161.874 │ 4.0208e-37  │\n│ 2   │ 140.151 │ 4.0     │ -150.281 │ -159.898 │ 2.90018e-36 │\n│ 3   │ 140.302 │ 4.0     │ -148.348 │ -157.951 │ 2.03317e-35 │\n│ 4   │ 140.452 │ 4.0     │ -146.443 │ -156.032 │ 1.38536e-34 │\n│ 5   │ 140.603 │ 4.0     │ -144.567 │ -154.142 │ 9.17459e-34 │\n│ 6   │ 140.754 │ 4.0     │ -142.719 │ -152.28  │ 5.9054e-33  │\n│ 7   │ 140.905 │ 4.0     │ -140.899 │ -150.446 │ 3.69445e-32 │\n│ 8   │ 141.055 │ 4.0     │ -139.108 │ -148.641 │ 2.2464e-31  │\n│ 9   │ 141.206 │ 4.0     │ -137.345 │ -146.864 │ 1.32759e-30 │\n│ 10  │ 141.357 │ 4.0     │ -135.611 │ -145.116 │ 7.62566e-30 │",
      "text/html": [
       "<table class=\"data-frame\"><thead><tr><th></th><th>mu</th><th>sigma</th><th>ll</th><th>prod</th><th>prob</th></tr><tr><th></th><th>Float64</th><th>Float64</th><th>Float64</th><th>Float64</th><th>Float64</th></tr></thead><tbody><p>10 rows × 5 columns</p><tr><th>1</th><td>140.0</td><td>4.0</td><td>-152.243</td><td>-161.874</td><td>4.0208e-37</td></tr><tr><th>2</th><td>140.151</td><td>4.0</td><td>-150.281</td><td>-159.898</td><td>2.90018e-36</td></tr><tr><th>3</th><td>140.302</td><td>4.0</td><td>-148.348</td><td>-157.951</td><td>2.03317e-35</td></tr><tr><th>4</th><td>140.452</td><td>4.0</td><td>-146.443</td><td>-156.032</td><td>1.38536e-34</td></tr><tr><th>5</th><td>140.603</td><td>4.0</td><td>-144.567</td><td>-154.142</td><td>9.17459e-34</td></tr><tr><th>6</th><td>140.754</td><td>4.0</td><td>-142.719</td><td>-152.28</td><td>5.9054e-33</td></tr><tr><th>7</th><td>140.905</td><td>4.0</td><td>-140.899</td><td>-150.446</td><td>3.69445e-32</td></tr><tr><th>8</th><td>141.055</td><td>4.0</td><td>-139.108</td><td>-148.641</td><td>2.2464e-31</td></tr><tr><th>9</th><td>141.206</td><td>4.0</td><td>-137.345</td><td>-146.864</td><td>1.32759e-30</td></tr><tr><th>10</th><td>141.357</td><td>4.0</td><td>-135.611</td><td>-145.116</td><td>7.62566e-30</td></tr></tbody></table>"
      ]
     },
     "metadata": {},
     "execution_count": 6
    }
   ],
   "cell_type": "code",
   "source": [
    "struct Post\n",
    "  mu::Float64\n",
    "  sigma::Float64\n",
    "  ll:: Float64\n",
    "  prod::Float64\n",
    "  prob::Float64\n",
    "end\n",
    "\n",
    "mu_list = repeat(range(140, 170, length=200), 200);\n",
    "sigma_list = repeat(range(4, 20, length=200), inner=200);\n",
    "\n",
    "ll = zeros(40000);\n",
    "for i in 1:40000\n",
    "    d1 = Normal(mu_list[i], sigma_list[i])\n",
    "    ll[i] = sum(log.(pdf.(d1, df3[:height])))\n",
    "end\n",
    "\n",
    "d2 = Normal(178.0, 20.0)\n",
    "d3 = Uniform(0, 50)\n",
    "prod = ll + log.(pdf.(d2, mu_list)) + log.(pdf.(d3, sigma_list))\n",
    "prob = exp.(prod .- maximum(prod))\n",
    "post = DataFrame(mu=mu_list, sigma=sigma_list, ll=ll, prod=prod, prob=prob)\n",
    "first(post, 10)"
   ],
   "metadata": {},
   "execution_count": 6
  },
  {
   "outputs": [],
   "cell_type": "markdown",
   "source": [
    "Sample post"
   ],
   "metadata": {}
  },
  {
   "outputs": [
    {
     "output_type": "execute_result",
     "data": {
      "text/plain": "10000×5 DataFrame\n│ Row   │ mu      │ sigma   │ ll       │ prod     │ prob       │\n│       │ \u001b[90mFloat64\u001b[39m │ \u001b[90mFloat64\u001b[39m │ \u001b[90mFloat64\u001b[39m  │ \u001b[90mFloat64\u001b[39m  │ \u001b[90mFloat64\u001b[39m    │\n├───────┼─────────┼─────────┼──────────┼──────────┼────────────┤\n│ 1     │ 150.402 │ 7.8593  │ -69.3095 │ -78.0883 │ 0.982072   │\n│ 2     │ 146.784 │ 12.8442 │ -73.8971 │ -82.9418 │ 0.00766069 │\n│ 3     │ 151.608 │ 8.58291 │ -69.6752 │ -78.3726 │ 0.73903    │\n│ 4     │ 152.663 │ 9.30653 │ -70.4557 │ -79.0848 │ 0.362534   │\n│ 5     │ 149.95  │ 11.6382 │ -71.9073 │ -80.7175 │ 0.0708397  │\n│ 6     │ 149.648 │ 8.82412 │ -69.7098 │ -78.5413 │ 0.624323   │\n│ 7     │ 151.156 │ 8.0201  │ -69.3986 │ -78.126  │ 0.945687   │\n⋮\n│ 9993  │ 150.402 │ 9.06533 │ -69.7563 │ -78.535  │ 0.628244   │\n│ 9994  │ 146.03  │ 6.97487 │ -73.6146 │ -82.7189 │ 0.00957428 │\n│ 9995  │ 148.442 │ 7.69849 │ -70.0082 │ -78.927  │ 0.424514   │\n│ 9996  │ 149.196 │ 9.46734 │ -70.2028 │ -79.0666 │ 0.369202   │\n│ 9997  │ 149.497 │ 8.58291 │ -69.6363 │ -78.4785 │ 0.664767   │\n│ 9998  │ 148.141 │ 8.42211 │ -70.2138 │ -79.155  │ 0.337972   │\n│ 9999  │ 150.553 │ 8.66332 │ -69.5409 │ -78.3093 │ 0.787354   │\n│ 10000 │ 149.95  │ 7.37688 │ -69.4037 │ -78.2139 │ 0.866142   │",
      "text/html": [
       "<table class=\"data-frame\"><thead><tr><th></th><th>mu</th><th>sigma</th><th>ll</th><th>prod</th><th>prob</th></tr><tr><th></th><th>Float64</th><th>Float64</th><th>Float64</th><th>Float64</th><th>Float64</th></tr></thead><tbody><p>10,000 rows × 5 columns</p><tr><th>1</th><td>150.402</td><td>7.8593</td><td>-69.3095</td><td>-78.0883</td><td>0.982072</td></tr><tr><th>2</th><td>146.784</td><td>12.8442</td><td>-73.8971</td><td>-82.9418</td><td>0.00766069</td></tr><tr><th>3</th><td>151.608</td><td>8.58291</td><td>-69.6752</td><td>-78.3726</td><td>0.73903</td></tr><tr><th>4</th><td>152.663</td><td>9.30653</td><td>-70.4557</td><td>-79.0848</td><td>0.362534</td></tr><tr><th>5</th><td>149.95</td><td>11.6382</td><td>-71.9073</td><td>-80.7175</td><td>0.0708397</td></tr><tr><th>6</th><td>149.648</td><td>8.82412</td><td>-69.7098</td><td>-78.5413</td><td>0.624323</td></tr><tr><th>7</th><td>151.156</td><td>8.0201</td><td>-69.3986</td><td>-78.126</td><td>0.945687</td></tr><tr><th>8</th><td>153.417</td><td>8.1809</td><td>-70.6479</td><td>-79.23</td><td>0.313553</td></tr><tr><th>9</th><td>151.608</td><td>8.0201</td><td>-69.5247</td><td>-78.2221</td><td>0.859076</td></tr><tr><th>10</th><td>150.704</td><td>10.4322</td><td>-70.784</td><td>-79.5421</td><td>0.229491</td></tr><tr><th>11</th><td>149.045</td><td>11.7186</td><td>-72.1143</td><td>-80.989</td><td>0.0539986</td></tr><tr><th>12</th><td>149.045</td><td>6.89447</td><td>-70.0284</td><td>-78.9031</td><td>0.434788</td></tr><tr><th>13</th><td>150.854</td><td>8.50251</td><td>-69.4891</td><td>-78.2369</td><td>0.846429</td></tr><tr><th>14</th><td>153.869</td><td>10.593</td><td>-71.9406</td><td>-80.4951</td><td>0.0884827</td></tr><tr><th>15</th><td>146.332</td><td>8.42211</td><td>-71.8709</td><td>-80.9512</td><td>0.0560787</td></tr><tr><th>16</th><td>151.457</td><td>7.9397</td><td>-69.4666</td><td>-78.174</td><td>0.901438</td></tr><tr><th>17</th><td>148.894</td><td>9.62814</td><td>-70.4058</td><td>-79.2915</td><td>0.294856</td></tr><tr><th>18</th><td>155.075</td><td>8.1005</td><td>-72.5556</td><td>-81.0393</td><td>0.051351</td></tr><tr><th>19</th><td>149.497</td><td>9.94975</td><td>-70.4777</td><td>-79.3199</td><td>0.286583</td></tr><tr><th>20</th><td>151.91</td><td>7.53769</td><td>-69.6751</td><td>-78.3526</td><td>0.753937</td></tr><tr><th>21</th><td>151.91</td><td>9.22613</td><td>-70.0937</td><td>-78.7713</td><td>0.49603</td></tr><tr><th>22</th><td>149.347</td><td>7.61809</td><td>-69.5319</td><td>-78.3848</td><td>0.730053</td></tr><tr><th>23</th><td>152.513</td><td>10.6734</td><td>-71.3518</td><td>-79.9905</td><td>0.146562</td></tr><tr><th>24</th><td>150.402</td><td>8.1809</td><td>-69.3642</td><td>-78.143</td><td>0.9298</td></tr><tr><th>&vellip;</th><td>&vellip;</td><td>&vellip;</td><td>&vellip;</td><td>&vellip;</td><td>&vellip;</td></tr></tbody></table>"
      ]
     },
     "metadata": {},
     "execution_count": 7
    }
   ],
   "cell_type": "code",
   "source": [
    "samples = post[sample(1:size(post, 1), Weights(post[:prob]), 10000, replace=true), :]"
   ],
   "metadata": {},
   "execution_count": 7
  },
  {
   "outputs": [],
   "cell_type": "markdown",
   "source": [
    "### Snippet 4.23"
   ],
   "metadata": {}
  },
  {
   "outputs": [],
   "cell_type": "markdown",
   "source": [
    "Density of sigma"
   ],
   "metadata": {}
  },
  {
   "outputs": [
    {
     "output_type": "execute_result",
     "data": {
      "text/plain": "Plot{Plots.GRBackend() n=1}",
      "image/png": "[encoded data removed]",
      "text/html": [
       "<?xml version=\"1.0\" encoding=\"utf-8\"?>\n",
       "<svg xmlns=\"http://www.w3.org/2000/svg\" xmlns:xlink=\"http://www.w3.org/1999/xlink\" width=\"500\" height=\"500\" viewBox=\"0 0 2000 2000\">\n",
       "<defs>\n",
       "  <clipPath id=\"clip4200\">\n",
       "    <rect x=\"0\" y=\"0\" width=\"2000\" height=\"2000\"/>\n",
       "  </clipPath>\n",
       "</defs>\n",
       "<polygon clip-path=\"url(#clip4200)\" points=\"\n",
       "0,2000 2000,2000 2000,0 0,0 \n",
       "  \" fill=\"#ffffff\" fill-rule=\"evenodd\" fill-opacity=\"1\"/>\n",
       "<defs>\n",
       "  <clipPath id=\"clip4201\">\n",
       "    <rect x=\"400\" y=\"200\" width=\"1401\" height=\"1401\"/>\n",
       "  </clipPath>\n",
       "</defs>\n",
       "<polygon clip-path=\"url(#clip4200)\" points=\"\n",
       "161.394,1886.71 1921.26,1886.71 1921.26,47.2441 161.394,47.2441 \n",
       "  \" fill=\"#ffffff\" fill-rule=\"evenodd\" fill-opacity=\"1\"/>\n",
       "<defs>\n",
       "  <clipPath id=\"clip4202\">\n",
       "    <rect x=\"161\" y=\"47\" width=\"1761\" height=\"1840\"/>\n",
       "  </clipPath>\n",
       "</defs>\n",
       "<polyline clip-path=\"url(#clip4202)\" style=\"stroke:#000000; stroke-width:2; stroke-opacity:0.1; fill:none\" points=\"\n",
       "  431.396,1886.71 431.396,47.2441 \n",
       "  \"/>\n",
       "<polyline clip-path=\"url(#clip4202)\" style=\"stroke:#000000; stroke-width:2; stroke-opacity:0.1; fill:none\" points=\"\n",
       "  763.025,1886.71 763.025,47.2441 \n",
       "  \"/>\n",
       "<polyline clip-path=\"url(#clip4202)\" style=\"stroke:#000000; stroke-width:2; stroke-opacity:0.1; fill:none\" points=\"\n",
       "  1094.65,1886.71 1094.65,47.2441 \n",
       "  \"/>\n",
       "<polyline clip-path=\"url(#clip4202)\" style=\"stroke:#000000; stroke-width:2; stroke-opacity:0.1; fill:none\" points=\"\n",
       "  1426.28,1886.71 1426.28,47.2441 \n",
       "  \"/>\n",
       "<polyline clip-path=\"url(#clip4202)\" style=\"stroke:#000000; stroke-width:2; stroke-opacity:0.1; fill:none\" points=\"\n",
       "  1757.91,1886.71 1757.91,47.2441 \n",
       "  \"/>\n",
       "<polyline clip-path=\"url(#clip4202)\" style=\"stroke:#000000; stroke-width:2; stroke-opacity:0.1; fill:none\" points=\"\n",
       "  161.394,1834.65 1921.26,1834.65 \n",
       "  \"/>\n",
       "<polyline clip-path=\"url(#clip4202)\" style=\"stroke:#000000; stroke-width:2; stroke-opacity:0.1; fill:none\" points=\"\n",
       "  161.394,1257.37 1921.26,1257.37 \n",
       "  \"/>\n",
       "<polyline clip-path=\"url(#clip4202)\" style=\"stroke:#000000; stroke-width:2; stroke-opacity:0.1; fill:none\" points=\"\n",
       "  161.394,680.094 1921.26,680.094 \n",
       "  \"/>\n",
       "<polyline clip-path=\"url(#clip4202)\" style=\"stroke:#000000; stroke-width:2; stroke-opacity:0.1; fill:none\" points=\"\n",
       "  161.394,102.816 1921.26,102.816 \n",
       "  \"/>\n",
       "<polyline clip-path=\"url(#clip4200)\" style=\"stroke:#000000; stroke-width:4; stroke-opacity:1; fill:none\" points=\"\n",
       "  161.394,1886.71 1921.26,1886.71 \n",
       "  \"/>\n",
       "<polyline clip-path=\"url(#clip4200)\" style=\"stroke:#000000; stroke-width:4; stroke-opacity:1; fill:none\" points=\"\n",
       "  161.394,1886.71 161.394,47.2441 \n",
       "  \"/>\n",
       "<polyline clip-path=\"url(#clip4200)\" style=\"stroke:#000000; stroke-width:4; stroke-opacity:1; fill:none\" points=\"\n",
       "  431.396,1886.71 431.396,1859.12 \n",
       "  \"/>\n",
       "<polyline clip-path=\"url(#clip4200)\" style=\"stroke:#000000; stroke-width:4; stroke-opacity:1; fill:none\" points=\"\n",
       "  763.025,1886.71 763.025,1859.12 \n",
       "  \"/>\n",
       "<polyline clip-path=\"url(#clip4200)\" style=\"stroke:#000000; stroke-width:4; stroke-opacity:1; fill:none\" points=\"\n",
       "  1094.65,1886.71 1094.65,1859.12 \n",
       "  \"/>\n",
       "<polyline clip-path=\"url(#clip4200)\" style=\"stroke:#000000; stroke-width:4; stroke-opacity:1; fill:none\" points=\"\n",
       "  1426.28,1886.71 1426.28,1859.12 \n",
       "  \"/>\n",
       "<polyline clip-path=\"url(#clip4200)\" style=\"stroke:#000000; stroke-width:4; stroke-opacity:1; fill:none\" points=\"\n",
       "  1757.91,1886.71 1757.91,1859.12 \n",
       "  \"/>\n",
       "<polyline clip-path=\"url(#clip4200)\" style=\"stroke:#000000; stroke-width:4; stroke-opacity:1; fill:none\" points=\"\n",
       "  161.394,1834.65 187.792,1834.65 \n",
       "  \"/>\n",
       "<polyline clip-path=\"url(#clip4200)\" style=\"stroke:#000000; stroke-width:4; stroke-opacity:1; fill:none\" points=\"\n",
       "  161.394,1257.37 187.792,1257.37 \n",
       "  \"/>\n",
       "<polyline clip-path=\"url(#clip4200)\" style=\"stroke:#000000; stroke-width:4; stroke-opacity:1; fill:none\" points=\"\n",
       "  161.394,680.094 187.792,680.094 \n",
       "  \"/>\n",
       "<polyline clip-path=\"url(#clip4200)\" style=\"stroke:#000000; stroke-width:4; stroke-opacity:1; fill:none\" points=\"\n",
       "  161.394,102.816 187.792,102.816 \n",
       "  \"/>\n",
       "<g clip-path=\"url(#clip4200)\">\n",
       "<text style=\"fill:#000000; fill-opacity:1; font-family:Arial,Helvetica Neue,Helvetica,sans-serif; font-size:48px; text-anchor:middle;\" transform=\"rotate(0, 431.396, 1938.71)\" x=\"431.396\" y=\"1938.71\">6</text>\n",
       "</g>\n",
       "<g clip-path=\"url(#clip4200)\">\n",
       "<text style=\"fill:#000000; fill-opacity:1; font-family:Arial,Helvetica Neue,Helvetica,sans-serif; font-size:48px; text-anchor:middle;\" transform=\"rotate(0, 763.025, 1938.71)\" x=\"763.025\" y=\"1938.71\">9</text>\n",
       "</g>\n",
       "<g clip-path=\"url(#clip4200)\">\n",
       "<text style=\"fill:#000000; fill-opacity:1; font-family:Arial,Helvetica Neue,Helvetica,sans-serif; font-size:48px; text-anchor:middle;\" transform=\"rotate(0, 1094.65, 1938.71)\" x=\"1094.65\" y=\"1938.71\">12</text>\n",
       "</g>\n",
       "<g clip-path=\"url(#clip4200)\">\n",
       "<text style=\"fill:#000000; fill-opacity:1; font-family:Arial,Helvetica Neue,Helvetica,sans-serif; font-size:48px; text-anchor:middle;\" transform=\"rotate(0, 1426.28, 1938.71)\" x=\"1426.28\" y=\"1938.71\">15</text>\n",
       "</g>\n",
       "<g clip-path=\"url(#clip4200)\">\n",
       "<text style=\"fill:#000000; fill-opacity:1; font-family:Arial,Helvetica Neue,Helvetica,sans-serif; font-size:48px; text-anchor:middle;\" transform=\"rotate(0, 1757.91, 1938.71)\" x=\"1757.91\" y=\"1938.71\">18</text>\n",
       "</g>\n",
       "<g clip-path=\"url(#clip4200)\">\n",
       "<text style=\"fill:#000000; fill-opacity:1; font-family:Arial,Helvetica Neue,Helvetica,sans-serif; font-size:48px; text-anchor:end;\" transform=\"rotate(0, 141.394, 1852.15)\" x=\"141.394\" y=\"1852.15\">0.0</text>\n",
       "</g>\n",
       "<g clip-path=\"url(#clip4200)\">\n",
       "<text style=\"fill:#000000; fill-opacity:1; font-family:Arial,Helvetica Neue,Helvetica,sans-serif; font-size:48px; text-anchor:end;\" transform=\"rotate(0, 141.394, 1274.87)\" x=\"141.394\" y=\"1274.87\">0.1</text>\n",
       "</g>\n",
       "<g clip-path=\"url(#clip4200)\">\n",
       "<text style=\"fill:#000000; fill-opacity:1; font-family:Arial,Helvetica Neue,Helvetica,sans-serif; font-size:48px; text-anchor:end;\" transform=\"rotate(0, 141.394, 697.594)\" x=\"141.394\" y=\"697.594\">0.2</text>\n",
       "</g>\n",
       "<g clip-path=\"url(#clip4200)\">\n",
       "<text style=\"fill:#000000; fill-opacity:1; font-family:Arial,Helvetica Neue,Helvetica,sans-serif; font-size:48px; text-anchor:end;\" transform=\"rotate(0, 141.394, 120.316)\" x=\"141.394\" y=\"120.316\">0.3</text>\n",
       "</g>\n",
       "<polyline clip-path=\"url(#clip4202)\" style=\"stroke:#009af9; stroke-width:4; stroke-opacity:1; fill:none\" points=\"\n",
       "  211.202,1834.65 219.545,1834.65 227.887,1834.64 236.23,1834.62 244.573,1834.56 252.916,1834.43 261.259,1834.17 269.602,1833.71 277.945,1833 286.288,1832.01 \n",
       "  294.631,1830.75 302.974,1829.23 311.317,1827.35 319.66,1824.88 328.003,1821.39 336.346,1816.26 344.689,1808.68 353.032,1797.78 361.375,1782.91 369.718,1763.99 \n",
       "  378.061,1741.82 386.404,1717.77 394.747,1693.07 403.09,1667.91 411.433,1641.04 419.776,1610.27 428.119,1573.55 436.462,1529.84 444.805,1479.32 453.148,1422.64 \n",
       "  461.491,1360.17 469.834,1291.65 478.177,1216.82 486.52,1136.5 494.862,1053.15 503.205,970.651 511.548,893.426 519.891,825.248 528.234,767.962 536.577,720.247 \n",
       "  544.92,677.175 553.263,631.526 561.606,576.829 569.949,510.611 578.292,435.72 586.635,358.817 594.978,287.169 603.321,225.946 611.664,177.399 620.007,141.601 \n",
       "  628.35,117.57 636.693,103.955 645.036,99.3044 653.379,102.127 661.722,110.896 670.065,124.1 678.408,140.506 686.751,159.571 695.094,181.697 703.437,208.066 \n",
       "  711.78,240.109 720.123,278.789 728.466,323.947 736.809,374.048 745.152,426.616 753.495,479.221 761.837,530.456 770.18,580.302 778.523,629.7 786.866,679.505 \n",
       "  795.209,729.412 803.552,777.652 811.895,821.913 820.238,860.959 828.581,895.716 836.924,928.997 845.267,964.067 853.61,1003.05 861.953,1046.09 870.296,1091.5 \n",
       "  878.639,1136.74 886.982,1179.49 895.325,1218.41 903.668,1253.1 912.011,1283.72 920.354,1310.71 928.697,1334.88 937.04,1357.66 945.383,1380.79 953.726,1405.71 \n",
       "  962.069,1432.97 970.412,1462.37 978.755,1493.2 987.098,1524.44 995.441,1554.51 1003.78,1581.25 1012.13,1602.42 1020.47,1616.66 1028.81,1624.31 1037.16,1627.6 \n",
       "  1045.5,1629.96 1053.84,1634.54 1062.18,1642.89 1070.53,1654.49 1078.87,1667.37 1087.21,1679.48 1095.56,1689.79 1103.9,1698.5 1112.24,1706.47 1120.59,1714.47 \n",
       "  1128.93,1722.74 1137.27,1730.97 1145.61,1738.61 1153.96,1745.2 1162.3,1750.7 1170.64,1755.55 1178.99,1760.47 1187.33,1766.04 1195.67,1772.36 1204.01,1778.95 \n",
       "  1212.36,1785.03 1220.7,1789.93 1229.04,1793.41 1237.39,1795.71 1245.73,1797.36 1254.07,1798.9 1262.42,1800.63 1270.76,1802.62 1279.1,1804.66 1287.44,1806.51 \n",
       "  1295.79,1808 1304.13,1809.23 1312.47,1810.51 1320.82,1812.13 1329.16,1814.26 1337.5,1816.8 1345.85,1819.52 1354.19,1822.14 1362.53,1824.43 1370.87,1826.22 \n",
       "  1379.22,1827.35 1387.56,1827.69 1395.9,1827.19 1404.25,1825.93 1412.59,1824.23 1420.93,1822.57 1429.27,1821.46 1437.62,1821.23 1445.96,1821.94 1454.3,1823.42 \n",
       "  1462.65,1825.38 1470.99,1827.5 1479.33,1829.48 1487.68,1831.1 1496.02,1832.2 1504.36,1832.79 1512.7,1832.95 1521.05,1832.87 1529.39,1832.69 1537.73,1832.52 \n",
       "  1546.08,1832.41 1554.42,1832.38 1562.76,1832.43 1571.11,1832.55 1579.45,1832.72 1587.79,1832.92 1596.13,1833.08 1604.48,1833.18 1612.82,1833.24 1621.16,1833.31 \n",
       "  1629.51,1833.45 1637.85,1833.64 1646.19,1833.85 1654.54,1833.99 1662.88,1833.99 1671.22,1833.87 1679.56,1833.68 1687.91,1833.51 1696.25,1833.42 1704.59,1833.44 \n",
       "  1712.94,1833.49 1721.28,1833.51 1729.62,1833.44 1737.96,1833.3 1746.31,1833.14 1754.65,1833.03 1762.99,1832.98 1771.34,1833.01 1779.68,1833.11 1788.02,1833.31 \n",
       "  1796.37,1833.58 1804.71,1833.88 1813.05,1834.16 1821.39,1834.37 1829.74,1834.51 1838.08,1834.59 1846.42,1834.63 1854.77,1834.64 1863.11,1834.65 1871.45,1834.65 \n",
       "  \n",
       "  \"/>\n",
       "<polygon clip-path=\"url(#clip4200)\" points=\"\n",
       "1610.43,227.724 1861.26,227.724 1861.26,106.764 1610.43,106.764 \n",
       "  \" fill=\"#ffffff\" fill-rule=\"evenodd\" fill-opacity=\"1\"/>\n",
       "<polyline clip-path=\"url(#clip4200)\" style=\"stroke:#000000; stroke-width:4; stroke-opacity:1; fill:none\" points=\"\n",
       "  1610.43,227.724 1861.26,227.724 1861.26,106.764 1610.43,106.764 1610.43,227.724 \n",
       "  \"/>\n",
       "<polyline clip-path=\"url(#clip4200)\" style=\"stroke:#009af9; stroke-width:4; stroke-opacity:1; fill:none\" points=\"\n",
       "  1630.43,167.244 1750.43,167.244 \n",
       "  \"/>\n",
       "<g clip-path=\"url(#clip4200)\">\n",
       "<text style=\"fill:#000000; fill-opacity:1; font-family:Arial,Helvetica Neue,Helvetica,sans-serif; font-size:48px; text-anchor:start;\" transform=\"rotate(0, 1770.43, 184.744)\" x=\"1770.43\" y=\"184.744\">y1</text>\n",
       "</g>\n",
       "</svg>\n"
      ],
      "image/svg+xml": [
       "<?xml version=\"1.0\" encoding=\"utf-8\"?>\n",
       "<svg xmlns=\"http://www.w3.org/2000/svg\" xmlns:xlink=\"http://www.w3.org/1999/xlink\" width=\"500\" height=\"500\" viewBox=\"0 0 2000 2000\">\n",
       "<defs>\n",
       "  <clipPath id=\"clip3900\">\n",
       "    <rect x=\"0\" y=\"0\" width=\"2000\" height=\"2000\"/>\n",
       "  </clipPath>\n",
       "</defs>\n",
       "<polygon clip-path=\"url(#clip3900)\" points=\"\n",
       "0,2000 2000,2000 2000,0 0,0 \n",
       "  \" fill=\"#ffffff\" fill-rule=\"evenodd\" fill-opacity=\"1\"/>\n",
       "<defs>\n",
       "  <clipPath id=\"clip3901\">\n",
       "    <rect x=\"400\" y=\"200\" width=\"1401\" height=\"1401\"/>\n",
       "  </clipPath>\n",
       "</defs>\n",
       "<polygon clip-path=\"url(#clip3900)\" points=\"\n",
       "161.394,1886.71 1921.26,1886.71 1921.26,47.2441 161.394,47.2441 \n",
       "  \" fill=\"#ffffff\" fill-rule=\"evenodd\" fill-opacity=\"1\"/>\n",
       "<defs>\n",
       "  <clipPath id=\"clip3902\">\n",
       "    <rect x=\"161\" y=\"47\" width=\"1761\" height=\"1840\"/>\n",
       "  </clipPath>\n",
       "</defs>\n",
       "<polyline clip-path=\"url(#clip3902)\" style=\"stroke:#000000; stroke-width:2; stroke-opacity:0.1; fill:none\" points=\"\n",
       "  431.396,1886.71 431.396,47.2441 \n",
       "  \"/>\n",
       "<polyline clip-path=\"url(#clip3902)\" style=\"stroke:#000000; stroke-width:2; stroke-opacity:0.1; fill:none\" points=\"\n",
       "  763.025,1886.71 763.025,47.2441 \n",
       "  \"/>\n",
       "<polyline clip-path=\"url(#clip3902)\" style=\"stroke:#000000; stroke-width:2; stroke-opacity:0.1; fill:none\" points=\"\n",
       "  1094.65,1886.71 1094.65,47.2441 \n",
       "  \"/>\n",
       "<polyline clip-path=\"url(#clip3902)\" style=\"stroke:#000000; stroke-width:2; stroke-opacity:0.1; fill:none\" points=\"\n",
       "  1426.28,1886.71 1426.28,47.2441 \n",
       "  \"/>\n",
       "<polyline clip-path=\"url(#clip3902)\" style=\"stroke:#000000; stroke-width:2; stroke-opacity:0.1; fill:none\" points=\"\n",
       "  1757.91,1886.71 1757.91,47.2441 \n",
       "  \"/>\n",
       "<polyline clip-path=\"url(#clip3902)\" style=\"stroke:#000000; stroke-width:2; stroke-opacity:0.1; fill:none\" points=\"\n",
       "  161.394,1834.65 1921.26,1834.65 \n",
       "  \"/>\n",
       "<polyline clip-path=\"url(#clip3902)\" style=\"stroke:#000000; stroke-width:2; stroke-opacity:0.1; fill:none\" points=\"\n",
       "  161.394,1257.37 1921.26,1257.37 \n",
       "  \"/>\n",
       "<polyline clip-path=\"url(#clip3902)\" style=\"stroke:#000000; stroke-width:2; stroke-opacity:0.1; fill:none\" points=\"\n",
       "  161.394,680.094 1921.26,680.094 \n",
       "  \"/>\n",
       "<polyline clip-path=\"url(#clip3902)\" style=\"stroke:#000000; stroke-width:2; stroke-opacity:0.1; fill:none\" points=\"\n",
       "  161.394,102.816 1921.26,102.816 \n",
       "  \"/>\n",
       "<polyline clip-path=\"url(#clip3900)\" style=\"stroke:#000000; stroke-width:4; stroke-opacity:1; fill:none\" points=\"\n",
       "  161.394,1886.71 1921.26,1886.71 \n",
       "  \"/>\n",
       "<polyline clip-path=\"url(#clip3900)\" style=\"stroke:#000000; stroke-width:4; stroke-opacity:1; fill:none\" points=\"\n",
       "  161.394,1886.71 161.394,47.2441 \n",
       "  \"/>\n",
       "<polyline clip-path=\"url(#clip3900)\" style=\"stroke:#000000; stroke-width:4; stroke-opacity:1; fill:none\" points=\"\n",
       "  431.396,1886.71 431.396,1859.12 \n",
       "  \"/>\n",
       "<polyline clip-path=\"url(#clip3900)\" style=\"stroke:#000000; stroke-width:4; stroke-opacity:1; fill:none\" points=\"\n",
       "  763.025,1886.71 763.025,1859.12 \n",
       "  \"/>\n",
       "<polyline clip-path=\"url(#clip3900)\" style=\"stroke:#000000; stroke-width:4; stroke-opacity:1; fill:none\" points=\"\n",
       "  1094.65,1886.71 1094.65,1859.12 \n",
       "  \"/>\n",
       "<polyline clip-path=\"url(#clip3900)\" style=\"stroke:#000000; stroke-width:4; stroke-opacity:1; fill:none\" points=\"\n",
       "  1426.28,1886.71 1426.28,1859.12 \n",
       "  \"/>\n",
       "<polyline clip-path=\"url(#clip3900)\" style=\"stroke:#000000; stroke-width:4; stroke-opacity:1; fill:none\" points=\"\n",
       "  1757.91,1886.71 1757.91,1859.12 \n",
       "  \"/>\n",
       "<polyline clip-path=\"url(#clip3900)\" style=\"stroke:#000000; stroke-width:4; stroke-opacity:1; fill:none\" points=\"\n",
       "  161.394,1834.65 187.792,1834.65 \n",
       "  \"/>\n",
       "<polyline clip-path=\"url(#clip3900)\" style=\"stroke:#000000; stroke-width:4; stroke-opacity:1; fill:none\" points=\"\n",
       "  161.394,1257.37 187.792,1257.37 \n",
       "  \"/>\n",
       "<polyline clip-path=\"url(#clip3900)\" style=\"stroke:#000000; stroke-width:4; stroke-opacity:1; fill:none\" points=\"\n",
       "  161.394,680.094 187.792,680.094 \n",
       "  \"/>\n",
       "<polyline clip-path=\"url(#clip3900)\" style=\"stroke:#000000; stroke-width:4; stroke-opacity:1; fill:none\" points=\"\n",
       "  161.394,102.816 187.792,102.816 \n",
       "  \"/>\n",
       "<g clip-path=\"url(#clip3900)\">\n",
       "<text style=\"fill:#000000; fill-opacity:1; font-family:Arial,Helvetica Neue,Helvetica,sans-serif; font-size:48px; text-anchor:middle;\" transform=\"rotate(0, 431.396, 1938.71)\" x=\"431.396\" y=\"1938.71\">6</text>\n",
       "</g>\n",
       "<g clip-path=\"url(#clip3900)\">\n",
       "<text style=\"fill:#000000; fill-opacity:1; font-family:Arial,Helvetica Neue,Helvetica,sans-serif; font-size:48px; text-anchor:middle;\" transform=\"rotate(0, 763.025, 1938.71)\" x=\"763.025\" y=\"1938.71\">9</text>\n",
       "</g>\n",
       "<g clip-path=\"url(#clip3900)\">\n",
       "<text style=\"fill:#000000; fill-opacity:1; font-family:Arial,Helvetica Neue,Helvetica,sans-serif; font-size:48px; text-anchor:middle;\" transform=\"rotate(0, 1094.65, 1938.71)\" x=\"1094.65\" y=\"1938.71\">12</text>\n",
       "</g>\n",
       "<g clip-path=\"url(#clip3900)\">\n",
       "<text style=\"fill:#000000; fill-opacity:1; font-family:Arial,Helvetica Neue,Helvetica,sans-serif; font-size:48px; text-anchor:middle;\" transform=\"rotate(0, 1426.28, 1938.71)\" x=\"1426.28\" y=\"1938.71\">15</text>\n",
       "</g>\n",
       "<g clip-path=\"url(#clip3900)\">\n",
       "<text style=\"fill:#000000; fill-opacity:1; font-family:Arial,Helvetica Neue,Helvetica,sans-serif; font-size:48px; text-anchor:middle;\" transform=\"rotate(0, 1757.91, 1938.71)\" x=\"1757.91\" y=\"1938.71\">18</text>\n",
       "</g>\n",
       "<g clip-path=\"url(#clip3900)\">\n",
       "<text style=\"fill:#000000; fill-opacity:1; font-family:Arial,Helvetica Neue,Helvetica,sans-serif; font-size:48px; text-anchor:end;\" transform=\"rotate(0, 141.394, 1852.15)\" x=\"141.394\" y=\"1852.15\">0.0</text>\n",
       "</g>\n",
       "<g clip-path=\"url(#clip3900)\">\n",
       "<text style=\"fill:#000000; fill-opacity:1; font-family:Arial,Helvetica Neue,Helvetica,sans-serif; font-size:48px; text-anchor:end;\" transform=\"rotate(0, 141.394, 1274.87)\" x=\"141.394\" y=\"1274.87\">0.1</text>\n",
       "</g>\n",
       "<g clip-path=\"url(#clip3900)\">\n",
       "<text style=\"fill:#000000; fill-opacity:1; font-family:Arial,Helvetica Neue,Helvetica,sans-serif; font-size:48px; text-anchor:end;\" transform=\"rotate(0, 141.394, 697.594)\" x=\"141.394\" y=\"697.594\">0.2</text>\n",
       "</g>\n",
       "<g clip-path=\"url(#clip3900)\">\n",
       "<text style=\"fill:#000000; fill-opacity:1; font-family:Arial,Helvetica Neue,Helvetica,sans-serif; font-size:48px; text-anchor:end;\" transform=\"rotate(0, 141.394, 120.316)\" x=\"141.394\" y=\"120.316\">0.3</text>\n",
       "</g>\n",
       "<polyline clip-path=\"url(#clip3902)\" style=\"stroke:#009af9; stroke-width:4; stroke-opacity:1; fill:none\" points=\"\n",
       "  211.202,1834.65 219.545,1834.65 227.887,1834.64 236.23,1834.62 244.573,1834.56 252.916,1834.43 261.259,1834.17 269.602,1833.71 277.945,1833 286.288,1832.01 \n",
       "  294.631,1830.75 302.974,1829.23 311.317,1827.35 319.66,1824.88 328.003,1821.39 336.346,1816.26 344.689,1808.68 353.032,1797.78 361.375,1782.91 369.718,1763.99 \n",
       "  378.061,1741.82 386.404,1717.77 394.747,1693.07 403.09,1667.91 411.433,1641.04 419.776,1610.27 428.119,1573.55 436.462,1529.84 444.805,1479.32 453.148,1422.64 \n",
       "  461.491,1360.17 469.834,1291.65 478.177,1216.82 486.52,1136.5 494.862,1053.15 503.205,970.651 511.548,893.426 519.891,825.248 528.234,767.962 536.577,720.247 \n",
       "  544.92,677.175 553.263,631.526 561.606,576.829 569.949,510.611 578.292,435.72 586.635,358.817 594.978,287.169 603.321,225.946 611.664,177.399 620.007,141.601 \n",
       "  628.35,117.57 636.693,103.955 645.036,99.3044 653.379,102.127 661.722,110.896 670.065,124.1 678.408,140.506 686.751,159.571 695.094,181.697 703.437,208.066 \n",
       "  711.78,240.109 720.123,278.789 728.466,323.947 736.809,374.048 745.152,426.616 753.495,479.221 761.837,530.456 770.18,580.302 778.523,629.7 786.866,679.505 \n",
       "  795.209,729.412 803.552,777.652 811.895,821.913 820.238,860.959 828.581,895.716 836.924,928.997 845.267,964.067 853.61,1003.05 861.953,1046.09 870.296,1091.5 \n",
       "  878.639,1136.74 886.982,1179.49 895.325,1218.41 903.668,1253.1 912.011,1283.72 920.354,1310.71 928.697,1334.88 937.04,1357.66 945.383,1380.79 953.726,1405.71 \n",
       "  962.069,1432.97 970.412,1462.37 978.755,1493.2 987.098,1524.44 995.441,1554.51 1003.78,1581.25 1012.13,1602.42 1020.47,1616.66 1028.81,1624.31 1037.16,1627.6 \n",
       "  1045.5,1629.96 1053.84,1634.54 1062.18,1642.89 1070.53,1654.49 1078.87,1667.37 1087.21,1679.48 1095.56,1689.79 1103.9,1698.5 1112.24,1706.47 1120.59,1714.47 \n",
       "  1128.93,1722.74 1137.27,1730.97 1145.61,1738.61 1153.96,1745.2 1162.3,1750.7 1170.64,1755.55 1178.99,1760.47 1187.33,1766.04 1195.67,1772.36 1204.01,1778.95 \n",
       "  1212.36,1785.03 1220.7,1789.93 1229.04,1793.41 1237.39,1795.71 1245.73,1797.36 1254.07,1798.9 1262.42,1800.63 1270.76,1802.62 1279.1,1804.66 1287.44,1806.51 \n",
       "  1295.79,1808 1304.13,1809.23 1312.47,1810.51 1320.82,1812.13 1329.16,1814.26 1337.5,1816.8 1345.85,1819.52 1354.19,1822.14 1362.53,1824.43 1370.87,1826.22 \n",
       "  1379.22,1827.35 1387.56,1827.69 1395.9,1827.19 1404.25,1825.93 1412.59,1824.23 1420.93,1822.57 1429.27,1821.46 1437.62,1821.23 1445.96,1821.94 1454.3,1823.42 \n",
       "  1462.65,1825.38 1470.99,1827.5 1479.33,1829.48 1487.68,1831.1 1496.02,1832.2 1504.36,1832.79 1512.7,1832.95 1521.05,1832.87 1529.39,1832.69 1537.73,1832.52 \n",
       "  1546.08,1832.41 1554.42,1832.38 1562.76,1832.43 1571.11,1832.55 1579.45,1832.72 1587.79,1832.92 1596.13,1833.08 1604.48,1833.18 1612.82,1833.24 1621.16,1833.31 \n",
       "  1629.51,1833.45 1637.85,1833.64 1646.19,1833.85 1654.54,1833.99 1662.88,1833.99 1671.22,1833.87 1679.56,1833.68 1687.91,1833.51 1696.25,1833.42 1704.59,1833.44 \n",
       "  1712.94,1833.49 1721.28,1833.51 1729.62,1833.44 1737.96,1833.3 1746.31,1833.14 1754.65,1833.03 1762.99,1832.98 1771.34,1833.01 1779.68,1833.11 1788.02,1833.31 \n",
       "  1796.37,1833.58 1804.71,1833.88 1813.05,1834.16 1821.39,1834.37 1829.74,1834.51 1838.08,1834.59 1846.42,1834.63 1854.77,1834.64 1863.11,1834.65 1871.45,1834.65 \n",
       "  \n",
       "  \"/>\n",
       "<polygon clip-path=\"url(#clip3900)\" points=\"\n",
       "1610.43,227.724 1861.26,227.724 1861.26,106.764 1610.43,106.764 \n",
       "  \" fill=\"#ffffff\" fill-rule=\"evenodd\" fill-opacity=\"1\"/>\n",
       "<polyline clip-path=\"url(#clip3900)\" style=\"stroke:#000000; stroke-width:4; stroke-opacity:1; fill:none\" points=\"\n",
       "  1610.43,227.724 1861.26,227.724 1861.26,106.764 1610.43,106.764 1610.43,227.724 \n",
       "  \"/>\n",
       "<polyline clip-path=\"url(#clip3900)\" style=\"stroke:#009af9; stroke-width:4; stroke-opacity:1; fill:none\" points=\"\n",
       "  1630.43,167.244 1750.43,167.244 \n",
       "  \"/>\n",
       "<g clip-path=\"url(#clip3900)\">\n",
       "<text style=\"fill:#000000; fill-opacity:1; font-family:Arial,Helvetica Neue,Helvetica,sans-serif; font-size:48px; text-anchor:start;\" transform=\"rotate(0, 1770.43, 184.744)\" x=\"1770.43\" y=\"184.744\">y1</text>\n",
       "</g>\n",
       "</svg>\n"
      ]
     },
     "metadata": {},
     "execution_count": 8
    }
   ],
   "cell_type": "code",
   "source": [
    "density(samples[:sigma])"
   ],
   "metadata": {},
   "execution_count": 8
  },
  {
   "outputs": [],
   "cell_type": "markdown",
   "source": [
    "End of `clip-21-23.jl`"
   ],
   "metadata": {}
  },
  {
   "outputs": [],
   "cell_type": "markdown",
   "source": [
    "*This notebook was generated using [Literate.jl](https://github.com/fredrikekre/Literate.jl).*"
   ],
   "metadata": {}
  }
 ],
 "nbformat_minor": 3,
 "metadata": {
  "language_info": {
   "file_extension": ".jl",
   "mimetype": "application/julia",
   "name": "julia",
   "version": "1.3.0-DEV.164"
  },
  "kernelspec": {
   "name": "julia-1.3",
   "display_name": "Julia 1.3.0-DEV.164",
   "language": "julia"
  }
 },
 "nbformat": 4
}
