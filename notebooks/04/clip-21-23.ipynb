{
 "cells": [
  {
   "outputs": [],
   "cell_type": "markdown",
   "source": [
    "Load Julia packages (libraries) needed  for the snippets in chapter 0"
   ],
   "metadata": {}
  },
  {
   "outputs": [],
   "cell_type": "code",
   "source": [
    "using StatisticalRethinking, CmdStan\n",
    "gr(size=(500,500));"
   ],
   "metadata": {},
   "execution_count": 1
  },
  {
   "outputs": [],
   "cell_type": "markdown",
   "source": [
    "CmdStan uses a tmp directory to store the output of cmdstan"
   ],
   "metadata": {}
  },
  {
   "outputs": [],
   "cell_type": "code",
   "source": [
    "ProjDir = rel_path(\"..\", \"scripts\", \"04\")\n",
    "cd(ProjDir)"
   ],
   "metadata": {},
   "execution_count": 2
  },
  {
   "outputs": [],
   "cell_type": "markdown",
   "source": [
    "CmdStan uses a tmp directory to store the output of cmdstan"
   ],
   "metadata": {}
  },
  {
   "outputs": [],
   "cell_type": "code",
   "source": [
    "ProjDir = rel_path(\"..\", \"scripts\", \"04\")\n",
    "cd(ProjDir)"
   ],
   "metadata": {},
   "execution_count": 3
  },
  {
   "outputs": [
    {
     "output_type": "execute_result",
     "data": {
      "text/plain": "5×4 DataFrame\n│ Row │ height   │ weight   │ age      │ male   │\n│     │ \u001b[90mFloat64⍰\u001b[39m │ \u001b[90mFloat64⍰\u001b[39m │ \u001b[90mFloat64⍰\u001b[39m │ \u001b[90mInt64⍰\u001b[39m │\n├─────┼──────────┼──────────┼──────────┼────────┤\n│ 1   │ 151.765  │ 47.8256  │ 63.0     │ 1      │\n│ 2   │ 139.7    │ 36.4858  │ 63.0     │ 0      │\n│ 3   │ 136.525  │ 31.8648  │ 65.0     │ 0      │\n│ 4   │ 156.845  │ 53.0419  │ 41.0     │ 1      │\n│ 5   │ 145.415  │ 41.2769  │ 51.0     │ 0      │",
      "text/html": [
       "<table class=\"data-frame\"><thead><tr><th></th><th>height</th><th>weight</th><th>age</th><th>male</th></tr><tr><th></th><th>Float64⍰</th><th>Float64⍰</th><th>Float64⍰</th><th>Int64⍰</th></tr></thead><tbody><p>5 rows × 4 columns</p><tr><th>1</th><td>151.765</td><td>47.8256</td><td>63.0</td><td>1</td></tr><tr><th>2</th><td>139.7</td><td>36.4858</td><td>63.0</td><td>0</td></tr><tr><th>3</th><td>136.525</td><td>31.8648</td><td>65.0</td><td>0</td></tr><tr><th>4</th><td>156.845</td><td>53.0419</td><td>41.0</td><td>1</td></tr><tr><th>5</th><td>145.415</td><td>41.2769</td><td>51.0</td><td>0</td></tr></tbody></table>"
      ]
     },
     "metadata": {},
     "execution_count": 4
    }
   ],
   "cell_type": "code",
   "source": [
    "howell1 = CSV.read(rel_path(\"..\", \"data\", \"Howell1.csv\"), delim=';')\n",
    "df = convert(DataFrame, howell1);\n",
    "df2 = filter(row -> row[:age] >= 18, df);\n",
    "first(df2, 5)"
   ],
   "metadata": {},
   "execution_count": 4
  },
  {
   "outputs": [],
   "cell_type": "markdown",
   "source": [
    "### Snippet 4.21"
   ],
   "metadata": {}
  },
  {
   "outputs": [],
   "cell_type": "markdown",
   "source": [
    "Sample 20 random heights"
   ],
   "metadata": {}
  },
  {
   "outputs": [],
   "cell_type": "code",
   "source": [
    "n = size(df2, 1)\n",
    "selected_ind = sample(1:n, 20, replace=false);\n",
    "df3 = df2[selected_ind, :];"
   ],
   "metadata": {},
   "execution_count": 5
  },
  {
   "outputs": [],
   "cell_type": "markdown",
   "source": [
    "### Snippet 4.22"
   ],
   "metadata": {}
  },
  {
   "outputs": [],
   "cell_type": "markdown",
   "source": [
    "Generate approximate probabilities"
   ],
   "metadata": {}
  },
  {
   "outputs": [
    {
     "output_type": "execute_result",
     "data": {
      "text/plain": "10×5 DataFrame\n│ Row │ mu      │ sigma   │ ll       │ prod     │ prob        │\n│     │ \u001b[90mFloat64\u001b[39m │ \u001b[90mFloat64\u001b[39m │ \u001b[90mFloat64\u001b[39m  │ \u001b[90mFloat64\u001b[39m  │ \u001b[90mFloat64\u001b[39m     │\n├─────┼─────────┼─────────┼──────────┼──────────┼─────────────┤\n│ 1   │ 140.0   │ 4.0     │ -217.03  │ -226.661 │ 2.78652e-67 │\n│ 2   │ 140.151 │ 4.0     │ -214.157 │ -223.774 │ 5.00039e-66 │\n│ 3   │ 140.302 │ 4.0     │ -211.312 │ -220.915 │ 8.72134e-65 │\n│ 4   │ 140.452 │ 4.0     │ -208.496 │ -218.085 │ 1.47843e-63 │\n│ 5   │ 140.603 │ 4.0     │ -205.708 │ -215.283 │ 2.43587e-62 │\n│ 6   │ 140.754 │ 4.0     │ -202.949 │ -212.51  │ 3.90073e-61 │\n│ 7   │ 140.905 │ 4.0     │ -200.218 │ -209.765 │ 6.07122e-60 │\n│ 8   │ 141.055 │ 4.0     │ -197.515 │ -207.048 │ 9.18425e-59 │\n│ 9   │ 141.206 │ 4.0     │ -194.841 │ -204.36  │ 1.35036e-57 │\n│ 10  │ 141.357 │ 4.0     │ -192.195 │ -201.7   │ 1.92971e-56 │",
      "text/html": [
       "<table class=\"data-frame\"><thead><tr><th></th><th>mu</th><th>sigma</th><th>ll</th><th>prod</th><th>prob</th></tr><tr><th></th><th>Float64</th><th>Float64</th><th>Float64</th><th>Float64</th><th>Float64</th></tr></thead><tbody><p>10 rows × 5 columns</p><tr><th>1</th><td>140.0</td><td>4.0</td><td>-217.03</td><td>-226.661</td><td>2.78652e-67</td></tr><tr><th>2</th><td>140.151</td><td>4.0</td><td>-214.157</td><td>-223.774</td><td>5.00039e-66</td></tr><tr><th>3</th><td>140.302</td><td>4.0</td><td>-211.312</td><td>-220.915</td><td>8.72134e-65</td></tr><tr><th>4</th><td>140.452</td><td>4.0</td><td>-208.496</td><td>-218.085</td><td>1.47843e-63</td></tr><tr><th>5</th><td>140.603</td><td>4.0</td><td>-205.708</td><td>-215.283</td><td>2.43587e-62</td></tr><tr><th>6</th><td>140.754</td><td>4.0</td><td>-202.949</td><td>-212.51</td><td>3.90073e-61</td></tr><tr><th>7</th><td>140.905</td><td>4.0</td><td>-200.218</td><td>-209.765</td><td>6.07122e-60</td></tr><tr><th>8</th><td>141.055</td><td>4.0</td><td>-197.515</td><td>-207.048</td><td>9.18425e-59</td></tr><tr><th>9</th><td>141.206</td><td>4.0</td><td>-194.841</td><td>-204.36</td><td>1.35036e-57</td></tr><tr><th>10</th><td>141.357</td><td>4.0</td><td>-192.195</td><td>-201.7</td><td>1.92971e-56</td></tr></tbody></table>"
      ]
     },
     "metadata": {},
     "execution_count": 6
    }
   ],
   "cell_type": "code",
   "source": [
    "struct Post\n",
    "  mu::Float64\n",
    "  sigma::Float64\n",
    "  ll:: Float64\n",
    "  prod::Float64\n",
    "  prob::Float64\n",
    "end\n",
    "\n",
    "mu_list = repeat(range(140, 170, length=200), 200);\n",
    "sigma_list = repeat(range(4, 20, length=200), inner=200);\n",
    "\n",
    "ll = zeros(40000);\n",
    "for i in 1:40000\n",
    "    d1 = Normal(mu_list[i], sigma_list[i])\n",
    "    ll[i] = sum(log.(pdf.(d1, df3[:height])))\n",
    "end\n",
    "\n",
    "d2 = Normal(178.0, 20.0)\n",
    "d3 = Uniform(0, 50)\n",
    "prod = ll + log.(pdf.(d2, mu_list)) + log.(pdf.(d3, sigma_list))\n",
    "prob = exp.(prod .- maximum(prod))\n",
    "post = DataFrame(mu=mu_list, sigma=sigma_list, ll=ll, prod=prod, prob=prob)\n",
    "first(post, 10)"
   ],
   "metadata": {},
   "execution_count": 6
  },
  {
   "outputs": [],
   "cell_type": "markdown",
   "source": [
    "Sample post"
   ],
   "metadata": {}
  },
  {
   "outputs": [
    {
     "output_type": "execute_result",
     "data": {
      "text/plain": "10000×5 DataFrame\n│ Row   │ mu      │ sigma   │ ll       │ prod     │ prob      │\n│       │ \u001b[90mFloat64\u001b[39m │ \u001b[90mFloat64\u001b[39m │ \u001b[90mFloat64\u001b[39m  │ \u001b[90mFloat64\u001b[39m  │ \u001b[90mFloat64\u001b[39m   │\n├───────┼─────────┼─────────┼──────────┼──────────┼───────────┤\n│ 1     │ 154.02  │ 7.29648 │ -65.7198 │ -74.2653 │ 0.426411  │\n│ 2     │ 156.281 │ 5.68844 │ -65.4019 │ -73.8182 │ 0.66685   │\n│ 3     │ 154.925 │ 6.73367 │ -65.098  │ -73.5903 │ 0.837546  │\n│ 4     │ 155.226 │ 5.76884 │ -65.0692 │ -73.5442 │ 0.877005  │\n│ 5     │ 157.035 │ 5.60804 │ -66.1118 │ -74.4879 │ 0.341314  │\n│ 6     │ 155.678 │ 6.09045 │ -64.9892 │ -73.4387 │ 0.974636  │\n│ 7     │ 156.281 │ 8.50251 │ -66.6711 │ -75.0874 │ 0.187418  │\n⋮\n│ 9993  │ 155.075 │ 5.12563 │ -65.8294 │ -74.313  │ 0.406544  │\n│ 9994  │ 158.09  │ 4.88442 │ -69.548  │ -77.8702 │ 0.0115945 │\n│ 9995  │ 157.035 │ 5.28643 │ -66.5918 │ -74.9679 │ 0.211214  │\n│ 9996  │ 157.487 │ 6.41206 │ -66.1039 │ -74.4565 │ 0.352212  │\n│ 9997  │ 158.09  │ 7.13568 │ -66.7934 │ -75.1156 │ 0.182212  │\n│ 9998  │ 154.774 │ 5.44724 │ -65.4351 │ -73.9361 │ 0.592652  │\n│ 9999  │ 153.719 │ 7.21608 │ -65.8366 │ -74.4002 │ 0.3726    │\n│ 10000 │ 154.171 │ 4.80402 │ -67.124  │ -75.6605 │ 0.105661  │",
      "text/html": [
       "<table class=\"data-frame\"><thead><tr><th></th><th>mu</th><th>sigma</th><th>ll</th><th>prod</th><th>prob</th></tr><tr><th></th><th>Float64</th><th>Float64</th><th>Float64</th><th>Float64</th><th>Float64</th></tr></thead><tbody><p>10,000 rows × 5 columns</p><tr><th>1</th><td>154.02</td><td>7.29648</td><td>-65.7198</td><td>-74.2653</td><td>0.426411</td></tr><tr><th>2</th><td>156.281</td><td>5.68844</td><td>-65.4019</td><td>-73.8182</td><td>0.66685</td></tr><tr><th>3</th><td>154.925</td><td>6.73367</td><td>-65.098</td><td>-73.5903</td><td>0.837546</td></tr><tr><th>4</th><td>155.226</td><td>5.76884</td><td>-65.0692</td><td>-73.5442</td><td>0.877005</td></tr><tr><th>5</th><td>157.035</td><td>5.60804</td><td>-66.1118</td><td>-74.4879</td><td>0.341314</td></tr><tr><th>6</th><td>155.678</td><td>6.09045</td><td>-64.9892</td><td>-73.4387</td><td>0.974636</td></tr><tr><th>7</th><td>156.281</td><td>8.50251</td><td>-66.6711</td><td>-75.0874</td><td>0.187418</td></tr><tr><th>8</th><td>153.568</td><td>9.06533</td><td>-67.5552</td><td>-76.128</td><td>0.0662036</td></tr><tr><th>9</th><td>155.226</td><td>4.88442</td><td>-66.3382</td><td>-74.8132</td><td>0.246555</td></tr><tr><th>10</th><td>157.186</td><td>7.13568</td><td>-65.9703</td><td>-74.3385</td><td>0.396318</td></tr><tr><th>11</th><td>158.995</td><td>7.21608</td><td>-67.9346</td><td>-76.2128</td><td>0.0608199</td></tr><tr><th>12</th><td>154.925</td><td>5.44724</td><td>-65.3871</td><td>-73.8794</td><td>0.627234</td></tr><tr><th>13</th><td>154.623</td><td>5.68844</td><td>-65.2678</td><td>-73.7776</td><td>0.694444</td></tr><tr><th>14</th><td>155.528</td><td>6.09045</td><td>-64.9663</td><td>-73.4242</td><td>0.988813</td></tr><tr><th>15</th><td>154.02</td><td>6.89447</td><td>-65.4977</td><td>-74.0432</td><td>0.53247</td></tr><tr><th>16</th><td>156.281</td><td>6.25126</td><td>-65.1815</td><td>-73.5979</td><td>0.831213</td></tr><tr><th>17</th><td>158.241</td><td>6.81407</td><td>-66.9362</td><td>-75.2509</td><td>0.159147</td></tr><tr><th>18</th><td>155.528</td><td>5.28643</td><td>-65.5561</td><td>-74.0141</td><td>0.548201</td></tr><tr><th>19</th><td>157.186</td><td>8.98492</td><td>-67.5181</td><td>-75.8863</td><td>0.0843051</td></tr><tr><th>20</th><td>157.337</td><td>7.29648</td><td>-66.1645</td><td>-74.5249</td><td>0.328922</td></tr><tr><th>21</th><td>154.171</td><td>5.12563</td><td>-66.3103</td><td>-74.8468</td><td>0.238397</td></tr><tr><th>22</th><td>153.719</td><td>7.53769</td><td>-66.0462</td><td>-74.6099</td><td>0.302119</td></tr><tr><th>23</th><td>157.337</td><td>8.26131</td><td>-66.8805</td><td>-75.2409</td><td>0.160749</td></tr><tr><th>24</th><td>150.553</td><td>7.53769</td><td>-69.5965</td><td>-78.3649</td><td>0.00706982</td></tr><tr><th>&vellip;</th><td>&vellip;</td><td>&vellip;</td><td>&vellip;</td><td>&vellip;</td><td>&vellip;</td></tr></tbody></table>"
      ]
     },
     "metadata": {},
     "execution_count": 7
    }
   ],
   "cell_type": "code",
   "source": [
    "samples = post[sample(1:size(post, 1), Weights(post[:prob]), 10000, replace=true), :]"
   ],
   "metadata": {},
   "execution_count": 7
  },
  {
   "outputs": [],
   "cell_type": "markdown",
   "source": [
    "### Snippet 4.23"
   ],
   "metadata": {}
  },
  {
   "outputs": [],
   "cell_type": "markdown",
   "source": [
    "Density of sigma"
   ],
   "metadata": {}
  },
  {
   "outputs": [
    {
     "output_type": "execute_result",
     "data": {
      "text/plain": "Plot{Plots.GRBackend() n=1}",
      "image/png": "[encoded data removed]",
      "text/html": [
       "<?xml version=\"1.0\" encoding=\"utf-8\"?>\n",
       "<svg xmlns=\"http://www.w3.org/2000/svg\" xmlns:xlink=\"http://www.w3.org/1999/xlink\" width=\"500\" height=\"500\" viewBox=\"0 0 2000 2000\">\n",
       "<defs>\n",
       "  <clipPath id=\"clip1300\">\n",
       "    <rect x=\"0\" y=\"0\" width=\"2000\" height=\"2000\"/>\n",
       "  </clipPath>\n",
       "</defs>\n",
       "<polygon clip-path=\"url(#clip1300)\" points=\"\n",
       "0,2000 2000,2000 2000,0 0,0 \n",
       "  \" fill=\"#ffffff\" fill-rule=\"evenodd\" fill-opacity=\"1\"/>\n",
       "<defs>\n",
       "  <clipPath id=\"clip1301\">\n",
       "    <rect x=\"400\" y=\"200\" width=\"1401\" height=\"1401\"/>\n",
       "  </clipPath>\n",
       "</defs>\n",
       "<polygon clip-path=\"url(#clip1300)\" points=\"\n",
       "161.394,1886.71 1921.26,1886.71 1921.26,47.2441 161.394,47.2441 \n",
       "  \" fill=\"#ffffff\" fill-rule=\"evenodd\" fill-opacity=\"1\"/>\n",
       "<defs>\n",
       "  <clipPath id=\"clip1302\">\n",
       "    <rect x=\"161\" y=\"47\" width=\"1761\" height=\"1840\"/>\n",
       "  </clipPath>\n",
       "</defs>\n",
       "<polyline clip-path=\"url(#clip1302)\" style=\"stroke:#000000; stroke-width:2; stroke-opacity:0.1; fill:none\" points=\"\n",
       "  439.656,1886.71 439.656,47.2441 \n",
       "  \"/>\n",
       "<polyline clip-path=\"url(#clip1302)\" style=\"stroke:#000000; stroke-width:2; stroke-opacity:0.1; fill:none\" points=\"\n",
       "  785.704,1886.71 785.704,47.2441 \n",
       "  \"/>\n",
       "<polyline clip-path=\"url(#clip1302)\" style=\"stroke:#000000; stroke-width:2; stroke-opacity:0.1; fill:none\" points=\"\n",
       "  1131.75,1886.71 1131.75,47.2441 \n",
       "  \"/>\n",
       "<polyline clip-path=\"url(#clip1302)\" style=\"stroke:#000000; stroke-width:2; stroke-opacity:0.1; fill:none\" points=\"\n",
       "  1477.8,1886.71 1477.8,47.2441 \n",
       "  \"/>\n",
       "<polyline clip-path=\"url(#clip1302)\" style=\"stroke:#000000; stroke-width:2; stroke-opacity:0.1; fill:none\" points=\"\n",
       "  1823.85,1886.71 1823.85,47.2441 \n",
       "  \"/>\n",
       "<polyline clip-path=\"url(#clip1302)\" style=\"stroke:#000000; stroke-width:2; stroke-opacity:0.1; fill:none\" points=\"\n",
       "  161.394,1834.65 1921.26,1834.65 \n",
       "  \"/>\n",
       "<polyline clip-path=\"url(#clip1302)\" style=\"stroke:#000000; stroke-width:2; stroke-opacity:0.1; fill:none\" points=\"\n",
       "  161.394,1366.54 1921.26,1366.54 \n",
       "  \"/>\n",
       "<polyline clip-path=\"url(#clip1302)\" style=\"stroke:#000000; stroke-width:2; stroke-opacity:0.1; fill:none\" points=\"\n",
       "  161.394,898.428 1921.26,898.428 \n",
       "  \"/>\n",
       "<polyline clip-path=\"url(#clip1302)\" style=\"stroke:#000000; stroke-width:2; stroke-opacity:0.1; fill:none\" points=\"\n",
       "  161.394,430.318 1921.26,430.318 \n",
       "  \"/>\n",
       "<polyline clip-path=\"url(#clip1300)\" style=\"stroke:#000000; stroke-width:4; stroke-opacity:1; fill:none\" points=\"\n",
       "  161.394,1886.71 1921.26,1886.71 \n",
       "  \"/>\n",
       "<polyline clip-path=\"url(#clip1300)\" style=\"stroke:#000000; stroke-width:4; stroke-opacity:1; fill:none\" points=\"\n",
       "  161.394,1886.71 161.394,47.2441 \n",
       "  \"/>\n",
       "<polyline clip-path=\"url(#clip1300)\" style=\"stroke:#000000; stroke-width:4; stroke-opacity:1; fill:none\" points=\"\n",
       "  439.656,1886.71 439.656,1859.12 \n",
       "  \"/>\n",
       "<polyline clip-path=\"url(#clip1300)\" style=\"stroke:#000000; stroke-width:4; stroke-opacity:1; fill:none\" points=\"\n",
       "  785.704,1886.71 785.704,1859.12 \n",
       "  \"/>\n",
       "<polyline clip-path=\"url(#clip1300)\" style=\"stroke:#000000; stroke-width:4; stroke-opacity:1; fill:none\" points=\"\n",
       "  1131.75,1886.71 1131.75,1859.12 \n",
       "  \"/>\n",
       "<polyline clip-path=\"url(#clip1300)\" style=\"stroke:#000000; stroke-width:4; stroke-opacity:1; fill:none\" points=\"\n",
       "  1477.8,1886.71 1477.8,1859.12 \n",
       "  \"/>\n",
       "<polyline clip-path=\"url(#clip1300)\" style=\"stroke:#000000; stroke-width:4; stroke-opacity:1; fill:none\" points=\"\n",
       "  1823.85,1886.71 1823.85,1859.12 \n",
       "  \"/>\n",
       "<polyline clip-path=\"url(#clip1300)\" style=\"stroke:#000000; stroke-width:4; stroke-opacity:1; fill:none\" points=\"\n",
       "  161.394,1834.65 187.792,1834.65 \n",
       "  \"/>\n",
       "<polyline clip-path=\"url(#clip1300)\" style=\"stroke:#000000; stroke-width:4; stroke-opacity:1; fill:none\" points=\"\n",
       "  161.394,1366.54 187.792,1366.54 \n",
       "  \"/>\n",
       "<polyline clip-path=\"url(#clip1300)\" style=\"stroke:#000000; stroke-width:4; stroke-opacity:1; fill:none\" points=\"\n",
       "  161.394,898.428 187.792,898.428 \n",
       "  \"/>\n",
       "<polyline clip-path=\"url(#clip1300)\" style=\"stroke:#000000; stroke-width:4; stroke-opacity:1; fill:none\" points=\"\n",
       "  161.394,430.318 187.792,430.318 \n",
       "  \"/>\n",
       "<g clip-path=\"url(#clip1300)\">\n",
       "<text style=\"fill:#000000; fill-opacity:1; font-family:Arial,Helvetica Neue,Helvetica,sans-serif; font-size:48px; text-anchor:middle;\" transform=\"rotate(0, 439.656, 1938.71)\" x=\"439.656\" y=\"1938.71\">5.0</text>\n",
       "</g>\n",
       "<g clip-path=\"url(#clip1300)\">\n",
       "<text style=\"fill:#000000; fill-opacity:1; font-family:Arial,Helvetica Neue,Helvetica,sans-serif; font-size:48px; text-anchor:middle;\" transform=\"rotate(0, 785.704, 1938.71)\" x=\"785.704\" y=\"1938.71\">7.5</text>\n",
       "</g>\n",
       "<g clip-path=\"url(#clip1300)\">\n",
       "<text style=\"fill:#000000; fill-opacity:1; font-family:Arial,Helvetica Neue,Helvetica,sans-serif; font-size:48px; text-anchor:middle;\" transform=\"rotate(0, 1131.75, 1938.71)\" x=\"1131.75\" y=\"1938.71\">10.0</text>\n",
       "</g>\n",
       "<g clip-path=\"url(#clip1300)\">\n",
       "<text style=\"fill:#000000; fill-opacity:1; font-family:Arial,Helvetica Neue,Helvetica,sans-serif; font-size:48px; text-anchor:middle;\" transform=\"rotate(0, 1477.8, 1938.71)\" x=\"1477.8\" y=\"1938.71\">12.5</text>\n",
       "</g>\n",
       "<g clip-path=\"url(#clip1300)\">\n",
       "<text style=\"fill:#000000; fill-opacity:1; font-family:Arial,Helvetica Neue,Helvetica,sans-serif; font-size:48px; text-anchor:middle;\" transform=\"rotate(0, 1823.85, 1938.71)\" x=\"1823.85\" y=\"1938.71\">15.0</text>\n",
       "</g>\n",
       "<g clip-path=\"url(#clip1300)\">\n",
       "<text style=\"fill:#000000; fill-opacity:1; font-family:Arial,Helvetica Neue,Helvetica,sans-serif; font-size:48px; text-anchor:end;\" transform=\"rotate(0, 141.394, 1852.15)\" x=\"141.394\" y=\"1852.15\">0.0</text>\n",
       "</g>\n",
       "<g clip-path=\"url(#clip1300)\">\n",
       "<text style=\"fill:#000000; fill-opacity:1; font-family:Arial,Helvetica Neue,Helvetica,sans-serif; font-size:48px; text-anchor:end;\" transform=\"rotate(0, 141.394, 1384.04)\" x=\"141.394\" y=\"1384.04\">0.1</text>\n",
       "</g>\n",
       "<g clip-path=\"url(#clip1300)\">\n",
       "<text style=\"fill:#000000; fill-opacity:1; font-family:Arial,Helvetica Neue,Helvetica,sans-serif; font-size:48px; text-anchor:end;\" transform=\"rotate(0, 141.394, 915.928)\" x=\"141.394\" y=\"915.928\">0.2</text>\n",
       "</g>\n",
       "<g clip-path=\"url(#clip1300)\">\n",
       "<text style=\"fill:#000000; fill-opacity:1; font-family:Arial,Helvetica Neue,Helvetica,sans-serif; font-size:48px; text-anchor:end;\" transform=\"rotate(0, 141.394, 447.818)\" x=\"141.394\" y=\"447.818\">0.3</text>\n",
       "</g>\n",
       "<polyline clip-path=\"url(#clip1302)\" style=\"stroke:#009af9; stroke-width:4; stroke-opacity:1; fill:none\" points=\"\n",
       "  211.202,1834.65 219.545,1834.64 227.887,1834.63 236.23,1834.59 244.573,1834.48 252.916,1834.25 261.259,1833.8 269.602,1833.08 277.945,1832.03 286.288,1830.7 \n",
       "  294.631,1829.14 302.974,1827.3 311.317,1824.95 319.66,1821.63 328.003,1816.68 336.346,1809.29 344.689,1798.54 353.032,1783.44 361.375,1763.12 369.718,1737.17 \n",
       "  378.061,1705.93 386.404,1670.5 394.747,1632.43 403.09,1592.94 411.433,1552.19 419.776,1509 428.119,1461.28 436.462,1406.98 444.805,1344.93 453.148,1275.44 \n",
       "  461.491,1200.54 469.834,1123.7 478.177,1048.73 486.52,978.257 494.862,912.785 503.205,850.927 511.548,790.476 519.891,729.467 528.234,666.731 536.577,602.006 \n",
       "  544.92,535.872 553.263,469.751 561.606,405.954 569.949,347.34 578.292,296.267 586.635,253.4 594.978,217.462 603.321,186.25 611.664,158.182 620.007,133.333 \n",
       "  628.35,113.517 636.693,101.429 645.036,99.3044 653.379,107.904 661.722,126.387 670.065,152.771 678.408,184.39 686.751,218.49 695.094,253.378 703.437,289.413 \n",
       "  711.78,328.462 720.123,371.839 728.466,418.648 736.809,466.209 745.152,512.03 753.495,555.453 761.837,597.769 770.18,641.017 778.523,686.436 786.866,733.601 \n",
       "  795.209,780.74 803.552,825.97 811.895,868.586 820.238,909.566 828.581,950.942 836.924,994.284 845.267,1039.18 853.61,1082.9 861.953,1121.82 870.296,1153.71 \n",
       "  878.639,1179.08 886.982,1200.69 895.325,1221.8 903.668,1244.73 912.011,1270.5 920.354,1299.32 928.697,1331.04 937.04,1365.19 945.383,1400.79 953.726,1436.39 \n",
       "  962.069,1470.49 970.412,1502.04 978.755,1530.54 987.098,1555.83 995.441,1577.76 1003.78,1596.19 1012.13,1611.23 1020.47,1623.42 1028.81,1633.58 1037.16,1642.56 \n",
       "  1045.5,1650.9 1053.84,1658.76 1062.18,1666.19 1070.53,1673.36 1078.87,1680.65 1087.21,1688.47 1095.56,1696.98 1103.9,1705.88 1112.24,1714.48 1120.59,1721.96 \n",
       "  1128.93,1727.87 1137.27,1732.54 1145.61,1737.02 1153.96,1742.62 1162.3,1750.11 1170.64,1759.28 1178.99,1769.01 1187.33,1777.81 1195.67,1784.47 1204.01,1788.54 \n",
       "  1212.36,1790.35 1220.7,1790.74 1229.04,1790.69 1237.39,1791.04 1245.73,1792.28 1254.07,1794.56 1262.42,1797.68 1270.76,1801.25 1279.1,1804.92 1287.44,1808.48 \n",
       "  1295.79,1811.8 1304.13,1814.81 1312.47,1817.32 1320.82,1819.15 1329.16,1820.23 1337.5,1820.71 1345.85,1820.93 1354.19,1821.24 1362.53,1821.85 1370.87,1822.75 \n",
       "  1379.22,1823.77 1387.56,1824.68 1395.9,1825.37 1404.25,1825.85 1412.59,1826.23 1420.93,1826.6 1429.27,1827.02 1437.62,1827.47 1445.96,1827.91 1454.3,1828.28 \n",
       "  1462.65,1828.54 1470.99,1828.75 1479.33,1829.01 1487.68,1829.4 1496.02,1829.94 1504.36,1830.55 1512.7,1831.12 1521.05,1831.56 1529.39,1831.87 1537.73,1832.08 \n",
       "  1546.08,1832.25 1554.42,1832.42 1562.76,1832.59 1571.11,1832.78 1579.45,1833 1587.79,1833.26 1596.13,1833.52 1604.48,1833.72 1612.82,1833.81 1621.16,1833.72 \n",
       "  1629.51,1833.48 1637.85,1833.15 1646.19,1832.84 1654.54,1832.66 1662.88,1832.65 1671.22,1832.84 1679.56,1833.17 1687.91,1833.56 1696.25,1833.93 1704.59,1834.2 \n",
       "  1712.94,1834.33 1721.28,1834.3 1729.62,1834.07 1737.96,1833.63 1746.31,1833 1754.65,1832.28 1762.99,1831.67 1771.34,1831.34 1779.68,1831.42 1788.02,1831.88 \n",
       "  1796.37,1832.56 1804.71,1833.26 1813.05,1833.83 1821.39,1834.23 1829.74,1834.46 1838.08,1834.57 1846.42,1834.62 1854.77,1834.64 1863.11,1834.65 1871.45,1834.65 \n",
       "  \n",
       "  \"/>\n",
       "<polygon clip-path=\"url(#clip1300)\" points=\"\n",
       "1610.43,227.724 1861.26,227.724 1861.26,106.764 1610.43,106.764 \n",
       "  \" fill=\"#ffffff\" fill-rule=\"evenodd\" fill-opacity=\"1\"/>\n",
       "<polyline clip-path=\"url(#clip1300)\" style=\"stroke:#000000; stroke-width:4; stroke-opacity:1; fill:none\" points=\"\n",
       "  1610.43,227.724 1861.26,227.724 1861.26,106.764 1610.43,106.764 1610.43,227.724 \n",
       "  \"/>\n",
       "<polyline clip-path=\"url(#clip1300)\" style=\"stroke:#009af9; stroke-width:4; stroke-opacity:1; fill:none\" points=\"\n",
       "  1630.43,167.244 1750.43,167.244 \n",
       "  \"/>\n",
       "<g clip-path=\"url(#clip1300)\">\n",
       "<text style=\"fill:#000000; fill-opacity:1; font-family:Arial,Helvetica Neue,Helvetica,sans-serif; font-size:48px; text-anchor:start;\" transform=\"rotate(0, 1770.43, 184.744)\" x=\"1770.43\" y=\"184.744\">y1</text>\n",
       "</g>\n",
       "</svg>\n"
      ],
      "image/svg+xml": [
       "<?xml version=\"1.0\" encoding=\"utf-8\"?>\n",
       "<svg xmlns=\"http://www.w3.org/2000/svg\" xmlns:xlink=\"http://www.w3.org/1999/xlink\" width=\"500\" height=\"500\" viewBox=\"0 0 2000 2000\">\n",
       "<defs>\n",
       "  <clipPath id=\"clip1000\">\n",
       "    <rect x=\"0\" y=\"0\" width=\"2000\" height=\"2000\"/>\n",
       "  </clipPath>\n",
       "</defs>\n",
       "<polygon clip-path=\"url(#clip1000)\" points=\"\n",
       "0,2000 2000,2000 2000,0 0,0 \n",
       "  \" fill=\"#ffffff\" fill-rule=\"evenodd\" fill-opacity=\"1\"/>\n",
       "<defs>\n",
       "  <clipPath id=\"clip1001\">\n",
       "    <rect x=\"400\" y=\"200\" width=\"1401\" height=\"1401\"/>\n",
       "  </clipPath>\n",
       "</defs>\n",
       "<polygon clip-path=\"url(#clip1000)\" points=\"\n",
       "161.394,1886.71 1921.26,1886.71 1921.26,47.2441 161.394,47.2441 \n",
       "  \" fill=\"#ffffff\" fill-rule=\"evenodd\" fill-opacity=\"1\"/>\n",
       "<defs>\n",
       "  <clipPath id=\"clip1002\">\n",
       "    <rect x=\"161\" y=\"47\" width=\"1761\" height=\"1840\"/>\n",
       "  </clipPath>\n",
       "</defs>\n",
       "<polyline clip-path=\"url(#clip1002)\" style=\"stroke:#000000; stroke-width:2; stroke-opacity:0.1; fill:none\" points=\"\n",
       "  439.656,1886.71 439.656,47.2441 \n",
       "  \"/>\n",
       "<polyline clip-path=\"url(#clip1002)\" style=\"stroke:#000000; stroke-width:2; stroke-opacity:0.1; fill:none\" points=\"\n",
       "  785.704,1886.71 785.704,47.2441 \n",
       "  \"/>\n",
       "<polyline clip-path=\"url(#clip1002)\" style=\"stroke:#000000; stroke-width:2; stroke-opacity:0.1; fill:none\" points=\"\n",
       "  1131.75,1886.71 1131.75,47.2441 \n",
       "  \"/>\n",
       "<polyline clip-path=\"url(#clip1002)\" style=\"stroke:#000000; stroke-width:2; stroke-opacity:0.1; fill:none\" points=\"\n",
       "  1477.8,1886.71 1477.8,47.2441 \n",
       "  \"/>\n",
       "<polyline clip-path=\"url(#clip1002)\" style=\"stroke:#000000; stroke-width:2; stroke-opacity:0.1; fill:none\" points=\"\n",
       "  1823.85,1886.71 1823.85,47.2441 \n",
       "  \"/>\n",
       "<polyline clip-path=\"url(#clip1002)\" style=\"stroke:#000000; stroke-width:2; stroke-opacity:0.1; fill:none\" points=\"\n",
       "  161.394,1834.65 1921.26,1834.65 \n",
       "  \"/>\n",
       "<polyline clip-path=\"url(#clip1002)\" style=\"stroke:#000000; stroke-width:2; stroke-opacity:0.1; fill:none\" points=\"\n",
       "  161.394,1366.54 1921.26,1366.54 \n",
       "  \"/>\n",
       "<polyline clip-path=\"url(#clip1002)\" style=\"stroke:#000000; stroke-width:2; stroke-opacity:0.1; fill:none\" points=\"\n",
       "  161.394,898.428 1921.26,898.428 \n",
       "  \"/>\n",
       "<polyline clip-path=\"url(#clip1002)\" style=\"stroke:#000000; stroke-width:2; stroke-opacity:0.1; fill:none\" points=\"\n",
       "  161.394,430.318 1921.26,430.318 \n",
       "  \"/>\n",
       "<polyline clip-path=\"url(#clip1000)\" style=\"stroke:#000000; stroke-width:4; stroke-opacity:1; fill:none\" points=\"\n",
       "  161.394,1886.71 1921.26,1886.71 \n",
       "  \"/>\n",
       "<polyline clip-path=\"url(#clip1000)\" style=\"stroke:#000000; stroke-width:4; stroke-opacity:1; fill:none\" points=\"\n",
       "  161.394,1886.71 161.394,47.2441 \n",
       "  \"/>\n",
       "<polyline clip-path=\"url(#clip1000)\" style=\"stroke:#000000; stroke-width:4; stroke-opacity:1; fill:none\" points=\"\n",
       "  439.656,1886.71 439.656,1859.12 \n",
       "  \"/>\n",
       "<polyline clip-path=\"url(#clip1000)\" style=\"stroke:#000000; stroke-width:4; stroke-opacity:1; fill:none\" points=\"\n",
       "  785.704,1886.71 785.704,1859.12 \n",
       "  \"/>\n",
       "<polyline clip-path=\"url(#clip1000)\" style=\"stroke:#000000; stroke-width:4; stroke-opacity:1; fill:none\" points=\"\n",
       "  1131.75,1886.71 1131.75,1859.12 \n",
       "  \"/>\n",
       "<polyline clip-path=\"url(#clip1000)\" style=\"stroke:#000000; stroke-width:4; stroke-opacity:1; fill:none\" points=\"\n",
       "  1477.8,1886.71 1477.8,1859.12 \n",
       "  \"/>\n",
       "<polyline clip-path=\"url(#clip1000)\" style=\"stroke:#000000; stroke-width:4; stroke-opacity:1; fill:none\" points=\"\n",
       "  1823.85,1886.71 1823.85,1859.12 \n",
       "  \"/>\n",
       "<polyline clip-path=\"url(#clip1000)\" style=\"stroke:#000000; stroke-width:4; stroke-opacity:1; fill:none\" points=\"\n",
       "  161.394,1834.65 187.792,1834.65 \n",
       "  \"/>\n",
       "<polyline clip-path=\"url(#clip1000)\" style=\"stroke:#000000; stroke-width:4; stroke-opacity:1; fill:none\" points=\"\n",
       "  161.394,1366.54 187.792,1366.54 \n",
       "  \"/>\n",
       "<polyline clip-path=\"url(#clip1000)\" style=\"stroke:#000000; stroke-width:4; stroke-opacity:1; fill:none\" points=\"\n",
       "  161.394,898.428 187.792,898.428 \n",
       "  \"/>\n",
       "<polyline clip-path=\"url(#clip1000)\" style=\"stroke:#000000; stroke-width:4; stroke-opacity:1; fill:none\" points=\"\n",
       "  161.394,430.318 187.792,430.318 \n",
       "  \"/>\n",
       "<g clip-path=\"url(#clip1000)\">\n",
       "<text style=\"fill:#000000; fill-opacity:1; font-family:Arial,Helvetica Neue,Helvetica,sans-serif; font-size:48px; text-anchor:middle;\" transform=\"rotate(0, 439.656, 1938.71)\" x=\"439.656\" y=\"1938.71\">5.0</text>\n",
       "</g>\n",
       "<g clip-path=\"url(#clip1000)\">\n",
       "<text style=\"fill:#000000; fill-opacity:1; font-family:Arial,Helvetica Neue,Helvetica,sans-serif; font-size:48px; text-anchor:middle;\" transform=\"rotate(0, 785.704, 1938.71)\" x=\"785.704\" y=\"1938.71\">7.5</text>\n",
       "</g>\n",
       "<g clip-path=\"url(#clip1000)\">\n",
       "<text style=\"fill:#000000; fill-opacity:1; font-family:Arial,Helvetica Neue,Helvetica,sans-serif; font-size:48px; text-anchor:middle;\" transform=\"rotate(0, 1131.75, 1938.71)\" x=\"1131.75\" y=\"1938.71\">10.0</text>\n",
       "</g>\n",
       "<g clip-path=\"url(#clip1000)\">\n",
       "<text style=\"fill:#000000; fill-opacity:1; font-family:Arial,Helvetica Neue,Helvetica,sans-serif; font-size:48px; text-anchor:middle;\" transform=\"rotate(0, 1477.8, 1938.71)\" x=\"1477.8\" y=\"1938.71\">12.5</text>\n",
       "</g>\n",
       "<g clip-path=\"url(#clip1000)\">\n",
       "<text style=\"fill:#000000; fill-opacity:1; font-family:Arial,Helvetica Neue,Helvetica,sans-serif; font-size:48px; text-anchor:middle;\" transform=\"rotate(0, 1823.85, 1938.71)\" x=\"1823.85\" y=\"1938.71\">15.0</text>\n",
       "</g>\n",
       "<g clip-path=\"url(#clip1000)\">\n",
       "<text style=\"fill:#000000; fill-opacity:1; font-family:Arial,Helvetica Neue,Helvetica,sans-serif; font-size:48px; text-anchor:end;\" transform=\"rotate(0, 141.394, 1852.15)\" x=\"141.394\" y=\"1852.15\">0.0</text>\n",
       "</g>\n",
       "<g clip-path=\"url(#clip1000)\">\n",
       "<text style=\"fill:#000000; fill-opacity:1; font-family:Arial,Helvetica Neue,Helvetica,sans-serif; font-size:48px; text-anchor:end;\" transform=\"rotate(0, 141.394, 1384.04)\" x=\"141.394\" y=\"1384.04\">0.1</text>\n",
       "</g>\n",
       "<g clip-path=\"url(#clip1000)\">\n",
       "<text style=\"fill:#000000; fill-opacity:1; font-family:Arial,Helvetica Neue,Helvetica,sans-serif; font-size:48px; text-anchor:end;\" transform=\"rotate(0, 141.394, 915.928)\" x=\"141.394\" y=\"915.928\">0.2</text>\n",
       "</g>\n",
       "<g clip-path=\"url(#clip1000)\">\n",
       "<text style=\"fill:#000000; fill-opacity:1; font-family:Arial,Helvetica Neue,Helvetica,sans-serif; font-size:48px; text-anchor:end;\" transform=\"rotate(0, 141.394, 447.818)\" x=\"141.394\" y=\"447.818\">0.3</text>\n",
       "</g>\n",
       "<polyline clip-path=\"url(#clip1002)\" style=\"stroke:#009af9; stroke-width:4; stroke-opacity:1; fill:none\" points=\"\n",
       "  211.202,1834.65 219.545,1834.64 227.887,1834.63 236.23,1834.59 244.573,1834.48 252.916,1834.25 261.259,1833.8 269.602,1833.08 277.945,1832.03 286.288,1830.7 \n",
       "  294.631,1829.14 302.974,1827.3 311.317,1824.95 319.66,1821.63 328.003,1816.68 336.346,1809.29 344.689,1798.54 353.032,1783.44 361.375,1763.12 369.718,1737.17 \n",
       "  378.061,1705.93 386.404,1670.5 394.747,1632.43 403.09,1592.94 411.433,1552.19 419.776,1509 428.119,1461.28 436.462,1406.98 444.805,1344.93 453.148,1275.44 \n",
       "  461.491,1200.54 469.834,1123.7 478.177,1048.73 486.52,978.257 494.862,912.785 503.205,850.927 511.548,790.476 519.891,729.467 528.234,666.731 536.577,602.006 \n",
       "  544.92,535.872 553.263,469.751 561.606,405.954 569.949,347.34 578.292,296.267 586.635,253.4 594.978,217.462 603.321,186.25 611.664,158.182 620.007,133.333 \n",
       "  628.35,113.517 636.693,101.429 645.036,99.3044 653.379,107.904 661.722,126.387 670.065,152.771 678.408,184.39 686.751,218.49 695.094,253.378 703.437,289.413 \n",
       "  711.78,328.462 720.123,371.839 728.466,418.648 736.809,466.209 745.152,512.03 753.495,555.453 761.837,597.769 770.18,641.017 778.523,686.436 786.866,733.601 \n",
       "  795.209,780.74 803.552,825.97 811.895,868.586 820.238,909.566 828.581,950.942 836.924,994.284 845.267,1039.18 853.61,1082.9 861.953,1121.82 870.296,1153.71 \n",
       "  878.639,1179.08 886.982,1200.69 895.325,1221.8 903.668,1244.73 912.011,1270.5 920.354,1299.32 928.697,1331.04 937.04,1365.19 945.383,1400.79 953.726,1436.39 \n",
       "  962.069,1470.49 970.412,1502.04 978.755,1530.54 987.098,1555.83 995.441,1577.76 1003.78,1596.19 1012.13,1611.23 1020.47,1623.42 1028.81,1633.58 1037.16,1642.56 \n",
       "  1045.5,1650.9 1053.84,1658.76 1062.18,1666.19 1070.53,1673.36 1078.87,1680.65 1087.21,1688.47 1095.56,1696.98 1103.9,1705.88 1112.24,1714.48 1120.59,1721.96 \n",
       "  1128.93,1727.87 1137.27,1732.54 1145.61,1737.02 1153.96,1742.62 1162.3,1750.11 1170.64,1759.28 1178.99,1769.01 1187.33,1777.81 1195.67,1784.47 1204.01,1788.54 \n",
       "  1212.36,1790.35 1220.7,1790.74 1229.04,1790.69 1237.39,1791.04 1245.73,1792.28 1254.07,1794.56 1262.42,1797.68 1270.76,1801.25 1279.1,1804.92 1287.44,1808.48 \n",
       "  1295.79,1811.8 1304.13,1814.81 1312.47,1817.32 1320.82,1819.15 1329.16,1820.23 1337.5,1820.71 1345.85,1820.93 1354.19,1821.24 1362.53,1821.85 1370.87,1822.75 \n",
       "  1379.22,1823.77 1387.56,1824.68 1395.9,1825.37 1404.25,1825.85 1412.59,1826.23 1420.93,1826.6 1429.27,1827.02 1437.62,1827.47 1445.96,1827.91 1454.3,1828.28 \n",
       "  1462.65,1828.54 1470.99,1828.75 1479.33,1829.01 1487.68,1829.4 1496.02,1829.94 1504.36,1830.55 1512.7,1831.12 1521.05,1831.56 1529.39,1831.87 1537.73,1832.08 \n",
       "  1546.08,1832.25 1554.42,1832.42 1562.76,1832.59 1571.11,1832.78 1579.45,1833 1587.79,1833.26 1596.13,1833.52 1604.48,1833.72 1612.82,1833.81 1621.16,1833.72 \n",
       "  1629.51,1833.48 1637.85,1833.15 1646.19,1832.84 1654.54,1832.66 1662.88,1832.65 1671.22,1832.84 1679.56,1833.17 1687.91,1833.56 1696.25,1833.93 1704.59,1834.2 \n",
       "  1712.94,1834.33 1721.28,1834.3 1729.62,1834.07 1737.96,1833.63 1746.31,1833 1754.65,1832.28 1762.99,1831.67 1771.34,1831.34 1779.68,1831.42 1788.02,1831.88 \n",
       "  1796.37,1832.56 1804.71,1833.26 1813.05,1833.83 1821.39,1834.23 1829.74,1834.46 1838.08,1834.57 1846.42,1834.62 1854.77,1834.64 1863.11,1834.65 1871.45,1834.65 \n",
       "  \n",
       "  \"/>\n",
       "<polygon clip-path=\"url(#clip1000)\" points=\"\n",
       "1610.43,227.724 1861.26,227.724 1861.26,106.764 1610.43,106.764 \n",
       "  \" fill=\"#ffffff\" fill-rule=\"evenodd\" fill-opacity=\"1\"/>\n",
       "<polyline clip-path=\"url(#clip1000)\" style=\"stroke:#000000; stroke-width:4; stroke-opacity:1; fill:none\" points=\"\n",
       "  1610.43,227.724 1861.26,227.724 1861.26,106.764 1610.43,106.764 1610.43,227.724 \n",
       "  \"/>\n",
       "<polyline clip-path=\"url(#clip1000)\" style=\"stroke:#009af9; stroke-width:4; stroke-opacity:1; fill:none\" points=\"\n",
       "  1630.43,167.244 1750.43,167.244 \n",
       "  \"/>\n",
       "<g clip-path=\"url(#clip1000)\">\n",
       "<text style=\"fill:#000000; fill-opacity:1; font-family:Arial,Helvetica Neue,Helvetica,sans-serif; font-size:48px; text-anchor:start;\" transform=\"rotate(0, 1770.43, 184.744)\" x=\"1770.43\" y=\"184.744\">y1</text>\n",
       "</g>\n",
       "</svg>\n"
      ]
     },
     "metadata": {},
     "execution_count": 8
    }
   ],
   "cell_type": "code",
   "source": [
    "density(samples[:sigma])"
   ],
   "metadata": {},
   "execution_count": 8
  },
  {
   "outputs": [],
   "cell_type": "markdown",
   "source": [
    "End of `clip-21-23.jl`"
   ],
   "metadata": {}
  },
  {
   "outputs": [],
   "cell_type": "markdown",
   "source": [
    "*This notebook was generated using [Literate.jl](https://github.com/fredrikekre/Literate.jl).*"
   ],
   "metadata": {}
  }
 ],
 "nbformat_minor": 3,
 "metadata": {
  "language_info": {
   "file_extension": ".jl",
   "mimetype": "application/julia",
   "name": "julia",
   "version": "1.2.0-pre.0"
  },
  "kernelspec": {
   "name": "julia-1.2",
   "display_name": "Julia 1.2.0-pre.0",
   "language": "julia"
  }
 },
 "nbformat": 4
}
