{
 "cells": [
  {
   "outputs": [],
   "cell_type": "markdown",
   "source": [
    "Load Julia packages (libraries) needed  for the snippets in chapter 0"
   ],
   "metadata": {}
  },
  {
   "outputs": [],
   "cell_type": "code",
   "source": [
    "using StatisticalRethinking, CmdStan\n",
    "#gr(size=(600,600));"
   ],
   "metadata": {},
   "execution_count": 1
  },
  {
   "outputs": [],
   "cell_type": "markdown",
   "source": [
    "CmdStan uses a tmp directory to store the output of cmdstan"
   ],
   "metadata": {}
  },
  {
   "outputs": [],
   "cell_type": "code",
   "source": [
    "ProjDir = rel_path(\"..\", \"scripts\", \"04\")\n",
    "cd(ProjDir)"
   ],
   "metadata": {},
   "execution_count": 2
  },
  {
   "outputs": [],
   "cell_type": "markdown",
   "source": [
    "CmdStan uses a tmp directory to store the output of cmdstan"
   ],
   "metadata": {}
  },
  {
   "outputs": [],
   "cell_type": "code",
   "source": [
    "ProjDir = rel_path(\"..\", \"scripts\", \"04\")\n",
    "cd(ProjDir)"
   ],
   "metadata": {},
   "execution_count": 3
  },
  {
   "outputs": [
    {
     "output_type": "execute_result",
     "data": {
      "text/plain": "5×4 DataFrame\n│ Row │ height  │ weight  │ age     │ male  │\n│     │ \u001b[90mFloat64\u001b[39m │ \u001b[90mFloat64\u001b[39m │ \u001b[90mFloat64\u001b[39m │ \u001b[90mInt64\u001b[39m │\n├─────┼─────────┼─────────┼─────────┼───────┤\n│ 1   │ 151.765 │ 47.8256 │ 63.0    │ 1     │\n│ 2   │ 139.7   │ 36.4858 │ 63.0    │ 0     │\n│ 3   │ 136.525 │ 31.8648 │ 65.0    │ 0     │\n│ 4   │ 156.845 │ 53.0419 │ 41.0    │ 1     │\n│ 5   │ 145.415 │ 41.2769 │ 51.0    │ 0     │",
      "text/html": [
       "<table class=\"data-frame\"><thead><tr><th></th><th>height</th><th>weight</th><th>age</th><th>male</th></tr><tr><th></th><th>Float64</th><th>Float64</th><th>Float64</th><th>Int64</th></tr></thead><tbody><p>5 rows × 4 columns</p><tr><th>1</th><td>151.765</td><td>47.8256</td><td>63.0</td><td>1</td></tr><tr><th>2</th><td>139.7</td><td>36.4858</td><td>63.0</td><td>0</td></tr><tr><th>3</th><td>136.525</td><td>31.8648</td><td>65.0</td><td>0</td></tr><tr><th>4</th><td>156.845</td><td>53.0419</td><td>41.0</td><td>1</td></tr><tr><th>5</th><td>145.415</td><td>41.2769</td><td>51.0</td><td>0</td></tr></tbody></table>"
      ]
     },
     "metadata": {},
     "execution_count": 4
    }
   ],
   "cell_type": "code",
   "source": [
    "howell1 = CSV.read(rel_path(\"..\", \"data\", \"Howell1.csv\"), delim=';')\n",
    "df = convert(DataFrame, howell1);\n",
    "df2 = filter(row -> row[:age] >= 18, df);\n",
    "first(df2, 5)"
   ],
   "metadata": {},
   "execution_count": 4
  },
  {
   "outputs": [],
   "cell_type": "markdown",
   "source": [
    "### Snippet 4.21"
   ],
   "metadata": {}
  },
  {
   "outputs": [],
   "cell_type": "markdown",
   "source": [
    "Sample 20 random heights"
   ],
   "metadata": {}
  },
  {
   "outputs": [],
   "cell_type": "code",
   "source": [
    "n = size(df2, 1)\n",
    "selected_ind = sample(1:n, 20, replace=false);\n",
    "df3 = df2[selected_ind, :];"
   ],
   "metadata": {},
   "execution_count": 5
  },
  {
   "outputs": [],
   "cell_type": "markdown",
   "source": [
    "### Snippet 4.22"
   ],
   "metadata": {}
  },
  {
   "outputs": [],
   "cell_type": "markdown",
   "source": [
    "Generate approximate probabilities"
   ],
   "metadata": {}
  },
  {
   "outputs": [
    {
     "name": "stdout",
     "output_type": "stream",
     "text": [
      "┌ Warning: `getindex(df::DataFrame, col_ind::ColumnIndex)` is deprecated, use `df[!, col_ind]` instead.\n",
      "│   caller = top-level scope at string:15\n",
      "└ @ Core ./string:15\n"
     ]
    },
    {
     "output_type": "execute_result",
     "data": {
      "text/plain": "10×5 DataFrame\n│ Row │ mu      │ sigma   │ ll       │ prod     │ prob        │\n│     │ \u001b[90mFloat64\u001b[39m │ \u001b[90mFloat64\u001b[39m │ \u001b[90mFloat64\u001b[39m  │ \u001b[90mFloat64\u001b[39m  │ \u001b[90mFloat64\u001b[39m     │\n├─────┼─────────┼─────────┼──────────┼──────────┼─────────────┤\n│ 1   │ 140.0   │ 4.0     │ -220.326 │ -229.958 │ 1.17648e-67 │\n│ 2   │ 140.151 │ 4.0     │ -217.486 │ -227.103 │ 2.0424e-66  │\n│ 3   │ 140.302 │ 4.0     │ -214.675 │ -224.278 │ 3.44616e-65 │\n│ 4   │ 140.452 │ 4.0     │ -211.891 │ -221.48  │ 5.65155e-64 │\n│ 5   │ 140.603 │ 4.0     │ -209.137 │ -218.712 │ 9.0082e-63  │\n│ 6   │ 140.754 │ 4.0     │ -206.411 │ -215.971 │ 1.39555e-61 │\n│ 7   │ 140.905 │ 4.0     │ -203.713 │ -213.259 │ 2.10132e-60 │\n│ 8   │ 141.055 │ 4.0     │ -201.043 │ -210.576 │ 3.07521e-59 │\n│ 9   │ 141.206 │ 4.0     │ -198.402 │ -207.921 │ 4.37418e-58 │\n│ 10  │ 141.357 │ 4.0     │ -195.79  │ -205.295 │ 6.04721e-57 │",
      "text/html": [
       "<table class=\"data-frame\"><thead><tr><th></th><th>mu</th><th>sigma</th><th>ll</th><th>prod</th><th>prob</th></tr><tr><th></th><th>Float64</th><th>Float64</th><th>Float64</th><th>Float64</th><th>Float64</th></tr></thead><tbody><p>10 rows × 5 columns</p><tr><th>1</th><td>140.0</td><td>4.0</td><td>-220.326</td><td>-229.958</td><td>1.17648e-67</td></tr><tr><th>2</th><td>140.151</td><td>4.0</td><td>-217.486</td><td>-227.103</td><td>2.0424e-66</td></tr><tr><th>3</th><td>140.302</td><td>4.0</td><td>-214.675</td><td>-224.278</td><td>3.44616e-65</td></tr><tr><th>4</th><td>140.452</td><td>4.0</td><td>-211.891</td><td>-221.48</td><td>5.65155e-64</td></tr><tr><th>5</th><td>140.603</td><td>4.0</td><td>-209.137</td><td>-218.712</td><td>9.0082e-63</td></tr><tr><th>6</th><td>140.754</td><td>4.0</td><td>-206.411</td><td>-215.971</td><td>1.39555e-61</td></tr><tr><th>7</th><td>140.905</td><td>4.0</td><td>-203.713</td><td>-213.259</td><td>2.10132e-60</td></tr><tr><th>8</th><td>141.055</td><td>4.0</td><td>-201.043</td><td>-210.576</td><td>3.07521e-59</td></tr><tr><th>9</th><td>141.206</td><td>4.0</td><td>-198.402</td><td>-207.921</td><td>4.37418e-58</td></tr><tr><th>10</th><td>141.357</td><td>4.0</td><td>-195.79</td><td>-205.295</td><td>6.04721e-57</td></tr></tbody></table>"
      ]
     },
     "metadata": {},
     "execution_count": 6
    }
   ],
   "cell_type": "code",
   "source": [
    "struct Post\n",
    "  mu::Float64\n",
    "  sigma::Float64\n",
    "  ll:: Float64\n",
    "  prod::Float64\n",
    "  prob::Float64\n",
    "end\n",
    "\n",
    "mu_list = repeat(range(140, 170, length=200), 200);\n",
    "sigma_list = repeat(range(4, 20, length=200), inner=200);\n",
    "\n",
    "ll = zeros(40000);\n",
    "for i in 1:40000\n",
    "    d1 = Normal(mu_list[i], sigma_list[i])\n",
    "    ll[i] = sum(log.(pdf.(d1, df3[:height])))\n",
    "end\n",
    "\n",
    "d2 = Normal(178.0, 20.0)\n",
    "d3 = Uniform(0, 50)\n",
    "prod = ll + log.(pdf.(d2, mu_list)) + log.(pdf.(d3, sigma_list))\n",
    "prob = exp.(prod .- maximum(prod))\n",
    "post = DataFrame(mu=mu_list, sigma=sigma_list, ll=ll, prod=prod, prob=prob)\n",
    "first(post, 10)"
   ],
   "metadata": {},
   "execution_count": 6
  },
  {
   "outputs": [],
   "cell_type": "markdown",
   "source": [
    "Sample post"
   ],
   "metadata": {}
  },
  {
   "outputs": [
    {
     "name": "stdout",
     "output_type": "stream",
     "text": [
      "┌ Warning: `getindex(df::DataFrame, col_ind::ColumnIndex)` is deprecated, use `df[!, col_ind]` instead.\n",
      "│   caller = top-level scope at string:1\n",
      "└ @ Core string:1\n"
     ]
    },
    {
     "output_type": "execute_result",
     "data": {
      "text/plain": "10000×5 DataFrame\n│ Row   │ mu      │ sigma   │ ll       │ prod     │ prob      │\n│       │ \u001b[90mFloat64\u001b[39m │ \u001b[90mFloat64\u001b[39m │ \u001b[90mFloat64\u001b[39m  │ \u001b[90mFloat64\u001b[39m  │ \u001b[90mFloat64\u001b[39m   │\n├───────┼─────────┼─────────┼──────────┼──────────┼───────────┤\n│ 1     │ 152.663 │ 8.34171 │ -68.7834 │ -77.4125 │ 0.208967  │\n│ 2     │ 154.623 │ 7.61809 │ -67.5416 │ -76.0514 │ 0.815086  │\n│ 3     │ 152.362 │ 7.37688 │ -68.8406 │ -77.4889 │ 0.193601  │\n│ 4     │ 154.322 │ 6.81407 │ -67.5357 │ -76.0632 │ 0.805535  │\n│ 5     │ 155.528 │ 6.33166 │ -67.6389 │ -76.0968 │ 0.778899  │\n│ 6     │ 155.528 │ 6.17085 │ -67.7764 │ -76.2343 │ 0.678853  │\n│ 7     │ 158.241 │ 6.41206 │ -69.8786 │ -78.1933 │ 0.095721  │\n⋮\n│ 9993  │ 159.899 │ 7.9397  │ -71.2313 │ -79.4675 │ 0.0267678 │\n│ 9994  │ 155.528 │ 7.53769 │ -67.4904 │ -75.9484 │ 0.903537  │\n│ 9995  │ 155.377 │ 8.1005  │ -67.7478 │ -76.2143 │ 0.692577  │\n│ 9996  │ 156.884 │ 6.41206 │ -68.2833 │ -76.6673 │ 0.440271  │\n│ 9997  │ 156.734 │ 6.57286 │ -68.0468 │ -76.4388 │ 0.553292  │\n│ 9998  │ 155.528 │ 7.61809 │ -67.5197 │ -75.9776 │ 0.877491  │\n│ 9999  │ 154.774 │ 7.53769 │ -67.4891 │ -75.9901 │ 0.866611  │\n│ 10000 │ 153.568 │ 6.73367 │ -67.9565 │ -76.5294 │ 0.505402  │",
      "text/html": [
       "<table class=\"data-frame\"><thead><tr><th></th><th>mu</th><th>sigma</th><th>ll</th><th>prod</th><th>prob</th></tr><tr><th></th><th>Float64</th><th>Float64</th><th>Float64</th><th>Float64</th><th>Float64</th></tr></thead><tbody><p>10,000 rows × 5 columns</p><tr><th>1</th><td>152.663</td><td>8.34171</td><td>-68.7834</td><td>-77.4125</td><td>0.208967</td></tr><tr><th>2</th><td>154.623</td><td>7.61809</td><td>-67.5416</td><td>-76.0514</td><td>0.815086</td></tr><tr><th>3</th><td>152.362</td><td>7.37688</td><td>-68.8406</td><td>-77.4889</td><td>0.193601</td></tr><tr><th>4</th><td>154.322</td><td>6.81407</td><td>-67.5357</td><td>-76.0632</td><td>0.805535</td></tr><tr><th>5</th><td>155.528</td><td>6.33166</td><td>-67.6389</td><td>-76.0968</td><td>0.778899</td></tr><tr><th>6</th><td>155.528</td><td>6.17085</td><td>-67.7764</td><td>-76.2343</td><td>0.678853</td></tr><tr><th>7</th><td>158.241</td><td>6.41206</td><td>-69.8786</td><td>-78.1933</td><td>0.095721</td></tr><tr><th>8</th><td>153.869</td><td>8.0201</td><td>-67.9451</td><td>-76.4996</td><td>0.520659</td></tr><tr><th>9</th><td>153.266</td><td>7.9397</td><td>-68.2068</td><td>-76.7982</td><td>0.386269</td></tr><tr><th>10</th><td>153.266</td><td>8.1809</td><td>-68.3179</td><td>-76.9092</td><td>0.345663</td></tr><tr><th>11</th><td>152.663</td><td>7.29648</td><td>-68.5557</td><td>-77.1848</td><td>0.262402</td></tr><tr><th>12</th><td>156.884</td><td>6.33166</td><td>-68.3566</td><td>-76.7406</td><td>0.409168</td></tr><tr><th>13</th><td>153.869</td><td>6.89447</td><td>-67.7202</td><td>-76.2748</td><td>0.651914</td></tr><tr><th>14</th><td>153.719</td><td>8.66332</td><td>-68.4089</td><td>-76.9725</td><td>0.324463</td></tr><tr><th>15</th><td>156.432</td><td>7.21608</td><td>-67.7021</td><td>-76.1103</td><td>0.768469</td></tr><tr><th>16</th><td>154.171</td><td>6.65327</td><td>-67.6466</td><td>-76.183</td><td>0.714568</td></tr><tr><th>17</th><td>157.035</td><td>5.84925</td><td>-69.1756</td><td>-77.5517</td><td>0.181816</td></tr><tr><th>18</th><td>152.663</td><td>6.57286</td><td>-68.8896</td><td>-77.5187</td><td>0.18792</td></tr><tr><th>19</th><td>152.211</td><td>6.73367</td><td>-69.3068</td><td>-77.9648</td><td>0.120286</td></tr><tr><th>20</th><td>154.623</td><td>6.73367</td><td>-67.4676</td><td>-75.9774</td><td>0.877684</td></tr><tr><th>21</th><td>157.035</td><td>9.54774</td><td>-69.3112</td><td>-77.6873</td><td>0.158756</td></tr><tr><th>22</th><td>156.884</td><td>6.33166</td><td>-68.3566</td><td>-76.7406</td><td>0.409168</td></tr><tr><th>23</th><td>153.568</td><td>9.94975</td><td>-69.5673</td><td>-78.1401</td><td>0.100946</td></tr><tr><th>24</th><td>155.98</td><td>9.94975</td><td>-69.386</td><td>-77.8188</td><td>0.139193</td></tr><tr><th>&vellip;</th><td>&vellip;</td><td>&vellip;</td><td>&vellip;</td><td>&vellip;</td><td>&vellip;</td></tr></tbody></table>"
      ]
     },
     "metadata": {},
     "execution_count": 7
    }
   ],
   "cell_type": "code",
   "source": [
    "samples = post[sample(1:size(post, 1), Weights(post[:prob]), 10000, replace=true), :]"
   ],
   "metadata": {},
   "execution_count": 7
  },
  {
   "outputs": [],
   "cell_type": "markdown",
   "source": [
    "### Snippet 4.23"
   ],
   "metadata": {}
  },
  {
   "outputs": [],
   "cell_type": "markdown",
   "source": [
    "Density of sigma"
   ],
   "metadata": {}
  },
  {
   "outputs": [
    {
     "name": "stdout",
     "output_type": "stream",
     "text": [
      "┌ Warning: `getindex(df::DataFrame, col_ind::ColumnIndex)` is deprecated, use `df[!, col_ind]` instead.\n",
      "│   caller = top-level scope at string:1\n",
      "└ @ Core string:1\n"
     ]
    },
    {
     "output_type": "execute_result",
     "data": {
      "text/plain": "Plot{Plots.GRBackend() n=1}",
      "image/png": "[encoded data removed]",
      "text/html": [
       "<?xml version=\"1.0\" encoding=\"utf-8\"?>\n",
       "<svg xmlns=\"http://www.w3.org/2000/svg\" xmlns:xlink=\"http://www.w3.org/1999/xlink\" width=\"600\" height=\"400\" viewBox=\"0 0 2400 1600\">\n",
       "<defs>\n",
       "  <clipPath id=\"clip7400\">\n",
       "    <rect x=\"0\" y=\"0\" width=\"2400\" height=\"1600\"/>\n",
       "  </clipPath>\n",
       "</defs>\n",
       "<polygon clip-path=\"url(#clip7400)\" points=\"\n",
       "0,1600 2400,1600 2400,0 0,0 \n",
       "  \" fill=\"#ffffff\" fill-rule=\"evenodd\" fill-opacity=\"1\"/>\n",
       "<defs>\n",
       "  <clipPath id=\"clip7401\">\n",
       "    <rect x=\"480\" y=\"0\" width=\"1681\" height=\"1600\"/>\n",
       "  </clipPath>\n",
       "</defs>\n",
       "<polygon clip-path=\"url(#clip7400)\" points=\"\n",
       "153.898,1487.47 2352.76,1487.47 2352.76,47.2441 153.898,47.2441 \n",
       "  \" fill=\"#ffffff\" fill-rule=\"evenodd\" fill-opacity=\"1\"/>\n",
       "<defs>\n",
       "  <clipPath id=\"clip7402\">\n",
       "    <rect x=\"153\" y=\"47\" width=\"2200\" height=\"1441\"/>\n",
       "  </clipPath>\n",
       "</defs>\n",
       "<polyline clip-path=\"url(#clip7402)\" style=\"stroke:#000000; stroke-width:2; stroke-opacity:0.1; fill:none\" points=\"\n",
       "  561.291,1487.47 561.291,47.2441 \n",
       "  \"/>\n",
       "<polyline clip-path=\"url(#clip7402)\" style=\"stroke:#000000; stroke-width:2; stroke-opacity:0.1; fill:none\" points=\"\n",
       "  1017.3,1487.47 1017.3,47.2441 \n",
       "  \"/>\n",
       "<polyline clip-path=\"url(#clip7402)\" style=\"stroke:#000000; stroke-width:2; stroke-opacity:0.1; fill:none\" points=\"\n",
       "  1473.31,1487.47 1473.31,47.2441 \n",
       "  \"/>\n",
       "<polyline clip-path=\"url(#clip7402)\" style=\"stroke:#000000; stroke-width:2; stroke-opacity:0.1; fill:none\" points=\"\n",
       "  1929.32,1487.47 1929.32,47.2441 \n",
       "  \"/>\n",
       "<polyline clip-path=\"url(#clip7402)\" style=\"stroke:#000000; stroke-width:2; stroke-opacity:0.1; fill:none\" points=\"\n",
       "  153.898,1446.71 2352.76,1446.71 \n",
       "  \"/>\n",
       "<polyline clip-path=\"url(#clip7402)\" style=\"stroke:#000000; stroke-width:2; stroke-opacity:0.1; fill:none\" points=\"\n",
       "  153.898,1037.96 2352.76,1037.96 \n",
       "  \"/>\n",
       "<polyline clip-path=\"url(#clip7402)\" style=\"stroke:#000000; stroke-width:2; stroke-opacity:0.1; fill:none\" points=\"\n",
       "  153.898,629.206 2352.76,629.206 \n",
       "  \"/>\n",
       "<polyline clip-path=\"url(#clip7402)\" style=\"stroke:#000000; stroke-width:2; stroke-opacity:0.1; fill:none\" points=\"\n",
       "  153.898,220.451 2352.76,220.451 \n",
       "  \"/>\n",
       "<polyline clip-path=\"url(#clip7400)\" style=\"stroke:#000000; stroke-width:4; stroke-opacity:1; fill:none\" points=\"\n",
       "  153.898,1487.47 2352.76,1487.47 \n",
       "  \"/>\n",
       "<polyline clip-path=\"url(#clip7400)\" style=\"stroke:#000000; stroke-width:4; stroke-opacity:1; fill:none\" points=\"\n",
       "  153.898,1487.47 153.898,47.2441 \n",
       "  \"/>\n",
       "<polyline clip-path=\"url(#clip7400)\" style=\"stroke:#000000; stroke-width:4; stroke-opacity:1; fill:none\" points=\"\n",
       "  561.291,1487.47 561.291,1465.87 \n",
       "  \"/>\n",
       "<polyline clip-path=\"url(#clip7400)\" style=\"stroke:#000000; stroke-width:4; stroke-opacity:1; fill:none\" points=\"\n",
       "  1017.3,1487.47 1017.3,1465.87 \n",
       "  \"/>\n",
       "<polyline clip-path=\"url(#clip7400)\" style=\"stroke:#000000; stroke-width:4; stroke-opacity:1; fill:none\" points=\"\n",
       "  1473.31,1487.47 1473.31,1465.87 \n",
       "  \"/>\n",
       "<polyline clip-path=\"url(#clip7400)\" style=\"stroke:#000000; stroke-width:4; stroke-opacity:1; fill:none\" points=\"\n",
       "  1929.32,1487.47 1929.32,1465.87 \n",
       "  \"/>\n",
       "<polyline clip-path=\"url(#clip7400)\" style=\"stroke:#000000; stroke-width:4; stroke-opacity:1; fill:none\" points=\"\n",
       "  153.898,1446.71 186.881,1446.71 \n",
       "  \"/>\n",
       "<polyline clip-path=\"url(#clip7400)\" style=\"stroke:#000000; stroke-width:4; stroke-opacity:1; fill:none\" points=\"\n",
       "  153.898,1037.96 186.881,1037.96 \n",
       "  \"/>\n",
       "<polyline clip-path=\"url(#clip7400)\" style=\"stroke:#000000; stroke-width:4; stroke-opacity:1; fill:none\" points=\"\n",
       "  153.898,629.206 186.881,629.206 \n",
       "  \"/>\n",
       "<polyline clip-path=\"url(#clip7400)\" style=\"stroke:#000000; stroke-width:4; stroke-opacity:1; fill:none\" points=\"\n",
       "  153.898,220.451 186.881,220.451 \n",
       "  \"/>\n",
       "<g clip-path=\"url(#clip7400)\">\n",
       "<text style=\"fill:#000000; fill-opacity:1; font-family:Arial,Helvetica Neue,Helvetica,sans-serif; font-size:48px; text-anchor:middle;\" transform=\"rotate(0, 561.291, 1541.47)\" x=\"561.291\" y=\"1541.47\">6</text>\n",
       "</g>\n",
       "<g clip-path=\"url(#clip7400)\">\n",
       "<text style=\"fill:#000000; fill-opacity:1; font-family:Arial,Helvetica Neue,Helvetica,sans-serif; font-size:48px; text-anchor:middle;\" transform=\"rotate(0, 1017.3, 1541.47)\" x=\"1017.3\" y=\"1541.47\">9</text>\n",
       "</g>\n",
       "<g clip-path=\"url(#clip7400)\">\n",
       "<text style=\"fill:#000000; fill-opacity:1; font-family:Arial,Helvetica Neue,Helvetica,sans-serif; font-size:48px; text-anchor:middle;\" transform=\"rotate(0, 1473.31, 1541.47)\" x=\"1473.31\" y=\"1541.47\">12</text>\n",
       "</g>\n",
       "<g clip-path=\"url(#clip7400)\">\n",
       "<text style=\"fill:#000000; fill-opacity:1; font-family:Arial,Helvetica Neue,Helvetica,sans-serif; font-size:48px; text-anchor:middle;\" transform=\"rotate(0, 1929.32, 1541.47)\" x=\"1929.32\" y=\"1541.47\">15</text>\n",
       "</g>\n",
       "<g clip-path=\"url(#clip7400)\">\n",
       "<text style=\"fill:#000000; fill-opacity:1; font-family:Arial,Helvetica Neue,Helvetica,sans-serif; font-size:48px; text-anchor:end;\" transform=\"rotate(0, 129.898, 1464.21)\" x=\"129.898\" y=\"1464.21\">0.0</text>\n",
       "</g>\n",
       "<g clip-path=\"url(#clip7400)\">\n",
       "<text style=\"fill:#000000; fill-opacity:1; font-family:Arial,Helvetica Neue,Helvetica,sans-serif; font-size:48px; text-anchor:end;\" transform=\"rotate(0, 129.898, 1055.46)\" x=\"129.898\" y=\"1055.46\">0.1</text>\n",
       "</g>\n",
       "<g clip-path=\"url(#clip7400)\">\n",
       "<text style=\"fill:#000000; fill-opacity:1; font-family:Arial,Helvetica Neue,Helvetica,sans-serif; font-size:48px; text-anchor:end;\" transform=\"rotate(0, 129.898, 646.706)\" x=\"129.898\" y=\"646.706\">0.2</text>\n",
       "</g>\n",
       "<g clip-path=\"url(#clip7400)\">\n",
       "<text style=\"fill:#000000; fill-opacity:1; font-family:Arial,Helvetica Neue,Helvetica,sans-serif; font-size:48px; text-anchor:end;\" transform=\"rotate(0, 129.898, 237.951)\" x=\"129.898\" y=\"237.951\">0.3</text>\n",
       "</g>\n",
       "<polyline clip-path=\"url(#clip7402)\" style=\"stroke:#009af9; stroke-width:4; stroke-opacity:1; fill:none\" points=\"\n",
       "  216.13,1446.71 226.554,1446.71 236.978,1446.71 247.402,1446.7 257.826,1446.67 268.25,1446.6 278.674,1446.46 289.098,1446.18 299.523,1445.68 309.947,1444.84 \n",
       "  320.371,1443.52 330.795,1441.55 341.219,1438.73 351.643,1434.89 362.067,1429.87 372.491,1423.53 382.915,1415.77 393.339,1406.47 403.763,1395.37 414.188,1382.01 \n",
       "  424.612,1365.68 435.036,1345.5 445.46,1320.7 455.884,1290.89 466.308,1256.12 476.732,1216.86 487.156,1173.78 497.58,1127.7 508.004,1079.54 518.428,1030.26 \n",
       "  528.853,980.678 539.277,931.056 549.701,880.871 560.125,828.857 570.549,773.523 580.973,714.031 591.397,651.027 601.821,586.877 612.245,524.949 622.669,468.147 \n",
       "  633.093,417.575 643.518,372.297 653.942,330.37 664.366,290.35 674.79,252.077 685.214,216.274 695.638,183.577 706.062,154.097 716.486,127.985 726.91,106.441 \n",
       "  737.334,92.0725 747.758,88.0053 758.183,96.1467 768.607,115.792 779.031,143.674 789.455,175.553 799.879,208.258 810.303,240.648 820.727,272.829 831.151,304.43 \n",
       "  841.575,333.622 851.999,357.999 862.423,376.813 872.848,392.68 883.272,411.028 893.696,437.263 904.12,473.556 914.544,517.555 924.968,563.88 935.392,607.181 \n",
       "  945.816,644.666 956.24,676.718 966.664,705.743 977.089,734.299 987.513,763.722 997.937,793.89 1008.36,823.977 1018.78,853.438 1029.21,882.382 1039.63,911.182 \n",
       "  1050.06,939.863 1060.48,967.889 1070.91,994.438 1081.33,1018.8 1091.75,1040.59 1102.18,1059.81 1112.6,1076.95 1123.03,1092.97 1133.45,1109.1 1143.87,1126.48 \n",
       "  1154.3,1145.67 1164.72,1166.51 1175.15,1188.2 1185.57,1209.63 1195.99,1229.68 1206.42,1247.47 1216.84,1262.5 1227.27,1274.73 1237.69,1284.67 1248.11,1293.13 \n",
       "  1258.54,1301.03 1268.96,1308.98 1279.39,1317.24 1289.81,1325.76 1300.24,1334.36 1310.66,1342.87 1321.08,1351.08 1331.51,1358.69 1341.93,1365.28 1352.36,1370.54 \n",
       "  1362.78,1374.43 1373.2,1377.33 1383.63,1379.82 1394.05,1382.4 1404.48,1385.3 1414.9,1388.46 1425.32,1391.75 1435.75,1395.1 1446.17,1398.57 1456.6,1402.24 \n",
       "  1467.02,1406.05 1477.44,1409.83 1487.87,1413.3 1498.29,1416.24 1508.72,1418.59 1519.14,1420.43 1529.57,1421.92 1539.99,1423.15 1550.41,1424.09 1560.84,1424.68 \n",
       "  1571.26,1424.87 1581.69,1424.77 1592.11,1424.67 1602.53,1424.93 1612.96,1425.82 1623.38,1427.41 1633.81,1429.52 1644.23,1431.84 1654.65,1434.03 1665.08,1435.83 \n",
       "  1675.5,1437.11 1685.93,1437.89 1696.35,1438.31 1706.77,1438.57 1717.2,1438.85 1727.62,1439.26 1738.05,1439.8 1748.47,1440.43 1758.9,1441.03 1769.32,1441.52 \n",
       "  1779.74,1441.84 1790.17,1441.98 1800.59,1441.98 1811.02,1441.84 1821.44,1441.58 1831.86,1441.2 1842.29,1440.81 1852.71,1440.54 1863.14,1440.59 1873.56,1441.07 \n",
       "  1883.98,1441.92 1894.41,1442.99 1904.83,1444.07 1915.26,1444.97 1925.68,1445.59 1936.1,1445.92 1946.53,1445.97 1956.95,1445.8 1967.38,1445.5 1977.8,1445.2 \n",
       "  1988.23,1445.02 1998.65,1445.04 2009.07,1445.25 2019.5,1445.57 2029.92,1445.88 2040.35,1446.08 2050.77,1446.07 2061.19,1445.85 2071.62,1445.43 2082.04,1444.91 \n",
       "  2092.47,1444.44 2102.89,1444.16 2113.31,1444.16 2123.74,1444.41 2134.16,1444.78 2144.59,1445.14 2155.01,1445.4 2165.43,1445.56 2175.86,1445.69 2186.28,1445.84 \n",
       "  2196.71,1446.02 2207.13,1446.23 2217.56,1446.41 2227.98,1446.55 2238.4,1446.63 2248.83,1446.68 2259.25,1446.7 2269.68,1446.71 2280.1,1446.71 2290.52,1446.71 \n",
       "  \n",
       "  \"/>\n",
       "<polygon clip-path=\"url(#clip7400)\" points=\"\n",
       "1989.93,251.724 2280.76,251.724 2280.76,130.764 1989.93,130.764 \n",
       "  \" fill=\"#ffffff\" fill-rule=\"evenodd\" fill-opacity=\"1\"/>\n",
       "<polyline clip-path=\"url(#clip7400)\" style=\"stroke:#000000; stroke-width:4; stroke-opacity:1; fill:none\" points=\"\n",
       "  1989.93,251.724 2280.76,251.724 2280.76,130.764 1989.93,130.764 1989.93,251.724 \n",
       "  \"/>\n",
       "<polyline clip-path=\"url(#clip7400)\" style=\"stroke:#009af9; stroke-width:4; stroke-opacity:1; fill:none\" points=\"\n",
       "  2013.93,191.244 2157.93,191.244 \n",
       "  \"/>\n",
       "<g clip-path=\"url(#clip7400)\">\n",
       "<text style=\"fill:#000000; fill-opacity:1; font-family:Arial,Helvetica Neue,Helvetica,sans-serif; font-size:48px; text-anchor:start;\" transform=\"rotate(0, 2181.93, 208.744)\" x=\"2181.93\" y=\"208.744\">y1</text>\n",
       "</g>\n",
       "</svg>\n"
      ],
      "image/svg+xml": [
       "<?xml version=\"1.0\" encoding=\"utf-8\"?>\n",
       "<svg xmlns=\"http://www.w3.org/2000/svg\" xmlns:xlink=\"http://www.w3.org/1999/xlink\" width=\"600\" height=\"400\" viewBox=\"0 0 2400 1600\">\n",
       "<defs>\n",
       "  <clipPath id=\"clip7100\">\n",
       "    <rect x=\"0\" y=\"0\" width=\"2400\" height=\"1600\"/>\n",
       "  </clipPath>\n",
       "</defs>\n",
       "<polygon clip-path=\"url(#clip7100)\" points=\"\n",
       "0,1600 2400,1600 2400,0 0,0 \n",
       "  \" fill=\"#ffffff\" fill-rule=\"evenodd\" fill-opacity=\"1\"/>\n",
       "<defs>\n",
       "  <clipPath id=\"clip7101\">\n",
       "    <rect x=\"480\" y=\"0\" width=\"1681\" height=\"1600\"/>\n",
       "  </clipPath>\n",
       "</defs>\n",
       "<polygon clip-path=\"url(#clip7100)\" points=\"\n",
       "153.898,1487.47 2352.76,1487.47 2352.76,47.2441 153.898,47.2441 \n",
       "  \" fill=\"#ffffff\" fill-rule=\"evenodd\" fill-opacity=\"1\"/>\n",
       "<defs>\n",
       "  <clipPath id=\"clip7102\">\n",
       "    <rect x=\"153\" y=\"47\" width=\"2200\" height=\"1441\"/>\n",
       "  </clipPath>\n",
       "</defs>\n",
       "<polyline clip-path=\"url(#clip7102)\" style=\"stroke:#000000; stroke-width:2; stroke-opacity:0.1; fill:none\" points=\"\n",
       "  561.291,1487.47 561.291,47.2441 \n",
       "  \"/>\n",
       "<polyline clip-path=\"url(#clip7102)\" style=\"stroke:#000000; stroke-width:2; stroke-opacity:0.1; fill:none\" points=\"\n",
       "  1017.3,1487.47 1017.3,47.2441 \n",
       "  \"/>\n",
       "<polyline clip-path=\"url(#clip7102)\" style=\"stroke:#000000; stroke-width:2; stroke-opacity:0.1; fill:none\" points=\"\n",
       "  1473.31,1487.47 1473.31,47.2441 \n",
       "  \"/>\n",
       "<polyline clip-path=\"url(#clip7102)\" style=\"stroke:#000000; stroke-width:2; stroke-opacity:0.1; fill:none\" points=\"\n",
       "  1929.32,1487.47 1929.32,47.2441 \n",
       "  \"/>\n",
       "<polyline clip-path=\"url(#clip7102)\" style=\"stroke:#000000; stroke-width:2; stroke-opacity:0.1; fill:none\" points=\"\n",
       "  153.898,1446.71 2352.76,1446.71 \n",
       "  \"/>\n",
       "<polyline clip-path=\"url(#clip7102)\" style=\"stroke:#000000; stroke-width:2; stroke-opacity:0.1; fill:none\" points=\"\n",
       "  153.898,1037.96 2352.76,1037.96 \n",
       "  \"/>\n",
       "<polyline clip-path=\"url(#clip7102)\" style=\"stroke:#000000; stroke-width:2; stroke-opacity:0.1; fill:none\" points=\"\n",
       "  153.898,629.206 2352.76,629.206 \n",
       "  \"/>\n",
       "<polyline clip-path=\"url(#clip7102)\" style=\"stroke:#000000; stroke-width:2; stroke-opacity:0.1; fill:none\" points=\"\n",
       "  153.898,220.451 2352.76,220.451 \n",
       "  \"/>\n",
       "<polyline clip-path=\"url(#clip7100)\" style=\"stroke:#000000; stroke-width:4; stroke-opacity:1; fill:none\" points=\"\n",
       "  153.898,1487.47 2352.76,1487.47 \n",
       "  \"/>\n",
       "<polyline clip-path=\"url(#clip7100)\" style=\"stroke:#000000; stroke-width:4; stroke-opacity:1; fill:none\" points=\"\n",
       "  153.898,1487.47 153.898,47.2441 \n",
       "  \"/>\n",
       "<polyline clip-path=\"url(#clip7100)\" style=\"stroke:#000000; stroke-width:4; stroke-opacity:1; fill:none\" points=\"\n",
       "  561.291,1487.47 561.291,1465.87 \n",
       "  \"/>\n",
       "<polyline clip-path=\"url(#clip7100)\" style=\"stroke:#000000; stroke-width:4; stroke-opacity:1; fill:none\" points=\"\n",
       "  1017.3,1487.47 1017.3,1465.87 \n",
       "  \"/>\n",
       "<polyline clip-path=\"url(#clip7100)\" style=\"stroke:#000000; stroke-width:4; stroke-opacity:1; fill:none\" points=\"\n",
       "  1473.31,1487.47 1473.31,1465.87 \n",
       "  \"/>\n",
       "<polyline clip-path=\"url(#clip7100)\" style=\"stroke:#000000; stroke-width:4; stroke-opacity:1; fill:none\" points=\"\n",
       "  1929.32,1487.47 1929.32,1465.87 \n",
       "  \"/>\n",
       "<polyline clip-path=\"url(#clip7100)\" style=\"stroke:#000000; stroke-width:4; stroke-opacity:1; fill:none\" points=\"\n",
       "  153.898,1446.71 186.881,1446.71 \n",
       "  \"/>\n",
       "<polyline clip-path=\"url(#clip7100)\" style=\"stroke:#000000; stroke-width:4; stroke-opacity:1; fill:none\" points=\"\n",
       "  153.898,1037.96 186.881,1037.96 \n",
       "  \"/>\n",
       "<polyline clip-path=\"url(#clip7100)\" style=\"stroke:#000000; stroke-width:4; stroke-opacity:1; fill:none\" points=\"\n",
       "  153.898,629.206 186.881,629.206 \n",
       "  \"/>\n",
       "<polyline clip-path=\"url(#clip7100)\" style=\"stroke:#000000; stroke-width:4; stroke-opacity:1; fill:none\" points=\"\n",
       "  153.898,220.451 186.881,220.451 \n",
       "  \"/>\n",
       "<g clip-path=\"url(#clip7100)\">\n",
       "<text style=\"fill:#000000; fill-opacity:1; font-family:Arial,Helvetica Neue,Helvetica,sans-serif; font-size:48px; text-anchor:middle;\" transform=\"rotate(0, 561.291, 1541.47)\" x=\"561.291\" y=\"1541.47\">6</text>\n",
       "</g>\n",
       "<g clip-path=\"url(#clip7100)\">\n",
       "<text style=\"fill:#000000; fill-opacity:1; font-family:Arial,Helvetica Neue,Helvetica,sans-serif; font-size:48px; text-anchor:middle;\" transform=\"rotate(0, 1017.3, 1541.47)\" x=\"1017.3\" y=\"1541.47\">9</text>\n",
       "</g>\n",
       "<g clip-path=\"url(#clip7100)\">\n",
       "<text style=\"fill:#000000; fill-opacity:1; font-family:Arial,Helvetica Neue,Helvetica,sans-serif; font-size:48px; text-anchor:middle;\" transform=\"rotate(0, 1473.31, 1541.47)\" x=\"1473.31\" y=\"1541.47\">12</text>\n",
       "</g>\n",
       "<g clip-path=\"url(#clip7100)\">\n",
       "<text style=\"fill:#000000; fill-opacity:1; font-family:Arial,Helvetica Neue,Helvetica,sans-serif; font-size:48px; text-anchor:middle;\" transform=\"rotate(0, 1929.32, 1541.47)\" x=\"1929.32\" y=\"1541.47\">15</text>\n",
       "</g>\n",
       "<g clip-path=\"url(#clip7100)\">\n",
       "<text style=\"fill:#000000; fill-opacity:1; font-family:Arial,Helvetica Neue,Helvetica,sans-serif; font-size:48px; text-anchor:end;\" transform=\"rotate(0, 129.898, 1464.21)\" x=\"129.898\" y=\"1464.21\">0.0</text>\n",
       "</g>\n",
       "<g clip-path=\"url(#clip7100)\">\n",
       "<text style=\"fill:#000000; fill-opacity:1; font-family:Arial,Helvetica Neue,Helvetica,sans-serif; font-size:48px; text-anchor:end;\" transform=\"rotate(0, 129.898, 1055.46)\" x=\"129.898\" y=\"1055.46\">0.1</text>\n",
       "</g>\n",
       "<g clip-path=\"url(#clip7100)\">\n",
       "<text style=\"fill:#000000; fill-opacity:1; font-family:Arial,Helvetica Neue,Helvetica,sans-serif; font-size:48px; text-anchor:end;\" transform=\"rotate(0, 129.898, 646.706)\" x=\"129.898\" y=\"646.706\">0.2</text>\n",
       "</g>\n",
       "<g clip-path=\"url(#clip7100)\">\n",
       "<text style=\"fill:#000000; fill-opacity:1; font-family:Arial,Helvetica Neue,Helvetica,sans-serif; font-size:48px; text-anchor:end;\" transform=\"rotate(0, 129.898, 237.951)\" x=\"129.898\" y=\"237.951\">0.3</text>\n",
       "</g>\n",
       "<polyline clip-path=\"url(#clip7102)\" style=\"stroke:#009af9; stroke-width:4; stroke-opacity:1; fill:none\" points=\"\n",
       "  216.13,1446.71 226.554,1446.71 236.978,1446.71 247.402,1446.7 257.826,1446.67 268.25,1446.6 278.674,1446.46 289.098,1446.18 299.523,1445.68 309.947,1444.84 \n",
       "  320.371,1443.52 330.795,1441.55 341.219,1438.73 351.643,1434.89 362.067,1429.87 372.491,1423.53 382.915,1415.77 393.339,1406.47 403.763,1395.37 414.188,1382.01 \n",
       "  424.612,1365.68 435.036,1345.5 445.46,1320.7 455.884,1290.89 466.308,1256.12 476.732,1216.86 487.156,1173.78 497.58,1127.7 508.004,1079.54 518.428,1030.26 \n",
       "  528.853,980.678 539.277,931.056 549.701,880.871 560.125,828.857 570.549,773.523 580.973,714.031 591.397,651.027 601.821,586.877 612.245,524.949 622.669,468.147 \n",
       "  633.093,417.575 643.518,372.297 653.942,330.37 664.366,290.35 674.79,252.077 685.214,216.274 695.638,183.577 706.062,154.097 716.486,127.985 726.91,106.441 \n",
       "  737.334,92.0725 747.758,88.0053 758.183,96.1467 768.607,115.792 779.031,143.674 789.455,175.553 799.879,208.258 810.303,240.648 820.727,272.829 831.151,304.43 \n",
       "  841.575,333.622 851.999,357.999 862.423,376.813 872.848,392.68 883.272,411.028 893.696,437.263 904.12,473.556 914.544,517.555 924.968,563.88 935.392,607.181 \n",
       "  945.816,644.666 956.24,676.718 966.664,705.743 977.089,734.299 987.513,763.722 997.937,793.89 1008.36,823.977 1018.78,853.438 1029.21,882.382 1039.63,911.182 \n",
       "  1050.06,939.863 1060.48,967.889 1070.91,994.438 1081.33,1018.8 1091.75,1040.59 1102.18,1059.81 1112.6,1076.95 1123.03,1092.97 1133.45,1109.1 1143.87,1126.48 \n",
       "  1154.3,1145.67 1164.72,1166.51 1175.15,1188.2 1185.57,1209.63 1195.99,1229.68 1206.42,1247.47 1216.84,1262.5 1227.27,1274.73 1237.69,1284.67 1248.11,1293.13 \n",
       "  1258.54,1301.03 1268.96,1308.98 1279.39,1317.24 1289.81,1325.76 1300.24,1334.36 1310.66,1342.87 1321.08,1351.08 1331.51,1358.69 1341.93,1365.28 1352.36,1370.54 \n",
       "  1362.78,1374.43 1373.2,1377.33 1383.63,1379.82 1394.05,1382.4 1404.48,1385.3 1414.9,1388.46 1425.32,1391.75 1435.75,1395.1 1446.17,1398.57 1456.6,1402.24 \n",
       "  1467.02,1406.05 1477.44,1409.83 1487.87,1413.3 1498.29,1416.24 1508.72,1418.59 1519.14,1420.43 1529.57,1421.92 1539.99,1423.15 1550.41,1424.09 1560.84,1424.68 \n",
       "  1571.26,1424.87 1581.69,1424.77 1592.11,1424.67 1602.53,1424.93 1612.96,1425.82 1623.38,1427.41 1633.81,1429.52 1644.23,1431.84 1654.65,1434.03 1665.08,1435.83 \n",
       "  1675.5,1437.11 1685.93,1437.89 1696.35,1438.31 1706.77,1438.57 1717.2,1438.85 1727.62,1439.26 1738.05,1439.8 1748.47,1440.43 1758.9,1441.03 1769.32,1441.52 \n",
       "  1779.74,1441.84 1790.17,1441.98 1800.59,1441.98 1811.02,1441.84 1821.44,1441.58 1831.86,1441.2 1842.29,1440.81 1852.71,1440.54 1863.14,1440.59 1873.56,1441.07 \n",
       "  1883.98,1441.92 1894.41,1442.99 1904.83,1444.07 1915.26,1444.97 1925.68,1445.59 1936.1,1445.92 1946.53,1445.97 1956.95,1445.8 1967.38,1445.5 1977.8,1445.2 \n",
       "  1988.23,1445.02 1998.65,1445.04 2009.07,1445.25 2019.5,1445.57 2029.92,1445.88 2040.35,1446.08 2050.77,1446.07 2061.19,1445.85 2071.62,1445.43 2082.04,1444.91 \n",
       "  2092.47,1444.44 2102.89,1444.16 2113.31,1444.16 2123.74,1444.41 2134.16,1444.78 2144.59,1445.14 2155.01,1445.4 2165.43,1445.56 2175.86,1445.69 2186.28,1445.84 \n",
       "  2196.71,1446.02 2207.13,1446.23 2217.56,1446.41 2227.98,1446.55 2238.4,1446.63 2248.83,1446.68 2259.25,1446.7 2269.68,1446.71 2280.1,1446.71 2290.52,1446.71 \n",
       "  \n",
       "  \"/>\n",
       "<polygon clip-path=\"url(#clip7100)\" points=\"\n",
       "1989.93,251.724 2280.76,251.724 2280.76,130.764 1989.93,130.764 \n",
       "  \" fill=\"#ffffff\" fill-rule=\"evenodd\" fill-opacity=\"1\"/>\n",
       "<polyline clip-path=\"url(#clip7100)\" style=\"stroke:#000000; stroke-width:4; stroke-opacity:1; fill:none\" points=\"\n",
       "  1989.93,251.724 2280.76,251.724 2280.76,130.764 1989.93,130.764 1989.93,251.724 \n",
       "  \"/>\n",
       "<polyline clip-path=\"url(#clip7100)\" style=\"stroke:#009af9; stroke-width:4; stroke-opacity:1; fill:none\" points=\"\n",
       "  2013.93,191.244 2157.93,191.244 \n",
       "  \"/>\n",
       "<g clip-path=\"url(#clip7100)\">\n",
       "<text style=\"fill:#000000; fill-opacity:1; font-family:Arial,Helvetica Neue,Helvetica,sans-serif; font-size:48px; text-anchor:start;\" transform=\"rotate(0, 2181.93, 208.744)\" x=\"2181.93\" y=\"208.744\">y1</text>\n",
       "</g>\n",
       "</svg>\n"
      ]
     },
     "metadata": {},
     "execution_count": 8
    }
   ],
   "cell_type": "code",
   "source": [
    "density(samples[:sigma])"
   ],
   "metadata": {},
   "execution_count": 8
  },
  {
   "outputs": [],
   "cell_type": "markdown",
   "source": [
    "End of `clip-21-23.jl`"
   ],
   "metadata": {}
  },
  {
   "outputs": [],
   "cell_type": "markdown",
   "source": [
    "*This notebook was generated using [Literate.jl](https://github.com/fredrikekre/Literate.jl).*"
   ],
   "metadata": {}
  }
 ],
 "nbformat_minor": 3,
 "metadata": {
  "language_info": {
   "file_extension": ".jl",
   "mimetype": "application/julia",
   "name": "julia",
   "version": "1.3.0-alpha.26"
  },
  "kernelspec": {
   "name": "julia-1.3",
   "display_name": "Julia 1.3.0-alpha.26",
   "language": "julia"
  }
 },
 "nbformat": 4
}
