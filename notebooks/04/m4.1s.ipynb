{
 "cells": [
  {
   "outputs": [
    {
     "name": "stdout",
     "output_type": "stream",
     "text": [
      "\n",
      "File /var/folders/fb/m164mwfn3v1btnrpmmyzpvqh0000gn/T/jl_z36fME/heights.stan will be updated.\n",
      "\n",
      "\n",
      "Inference for Stan model: heights_model\n",
      "4 chains: each with iter=(1000,1000,1000,1000); warmup=(0,0,0,0); thin=(1,1,1,1); 4000 iterations saved.\n",
      "\n",
      "Warmup took (0.033, 0.031, 0.033, 0.033) seconds, 0.13 seconds total\n",
      "Sampling took (0.063, 0.060, 0.040, 0.043) seconds, 0.21 seconds total\n",
      "\n",
      "                Mean     MCSE  StdDev    5%   50%   95%    N_Eff  N_Eff/s    R_hat\n",
      "lp__            -892  2.3e-02    0.98  -893  -891  -891  1.8e+03  9.0e+03  1.0e+00\n",
      "accept_stat__   0.92  1.5e-03   0.099  0.72  0.96   1.0  4.5e+03  2.2e+04  1.0e+00\n",
      "stepsize__      0.79      nan   0.084  0.70  0.78  0.93      nan      nan  5.1e+13\n",
      "treedepth__      2.1  9.3e-02    0.77   1.0   2.0   3.0  6.7e+01  3.3e+02  1.0e+00\n",
      "n_leapfrog__     5.2  7.5e-01     6.2   1.0   3.0    15  6.9e+01  3.4e+02  1.0e+00\n",
      "divergent__     0.00      nan    0.00  0.00  0.00  0.00      nan      nan      nan\n",
      "energy__         892  3.4e-02     1.4   891   892   895  1.7e+03  8.1e+03  1.0e+00\n",
      "sigma            7.8  5.4e-03    0.29   7.3   7.8   8.3  2.9e+03  1.4e+04  1.0e+00\n",
      "mu               155  7.1e-03    0.42   154   155   155  3.4e+03  1.7e+04  1.0e+00\n",
      "\n",
      "Samples were drawn using hmc with nuts.\n",
      "For each parameter, N_Eff is a crude measure of effective sample size,\n",
      "and R_hat is the potential scale reduction factor on split chains (at \n",
      "convergence, R_hat=1).\n",
      "\n"
     ]
    },
    {
     "output_type": "execute_result",
     "data": {
      "text/plain": "2-element Array{ChainDataFrame,1}\n\nSummary Statistics\n. Omitted printing of 1 columns\n│ Row │ parameters │ mean    │ std      │ naive_se   │ mcse       │ ess     │\n│     │ \u001b[90mSymbol\u001b[39m     │ \u001b[90mFloat64\u001b[39m │ \u001b[90mFloat64\u001b[39m  │ \u001b[90mFloat64\u001b[39m    │ \u001b[90mFloat64\u001b[39m    │ \u001b[90mAny\u001b[39m     │\n├─────┼────────────┼─────────┼──────────┼────────────┼────────────┼─────────┤\n│ 1   │ mu         │ 154.613 │ 0.415611 │ 0.00657139 │ 0.00855796 │ 3360.01 │\n│ 2   │ sigma      │ 7.76704 │ 0.293409 │ 0.0046392  │ 0.0049645  │ 3018.16 │\n\nQuantiles\n\n│ Row │ parameters │ 2.5%    │ 25.0%   │ 50.0%   │ 75.0%   │ 97.5%   │\n│     │ \u001b[90mSymbol\u001b[39m     │ \u001b[90mFloat64\u001b[39m │ \u001b[90mFloat64\u001b[39m │ \u001b[90mFloat64\u001b[39m │ \u001b[90mFloat64\u001b[39m │ \u001b[90mFloat64\u001b[39m │\n├─────┼────────────┼─────────┼─────────┼─────────┼─────────┼─────────┤\n│ 1   │ mu         │ 153.82  │ 154.336 │ 154.614 │ 154.893 │ 155.422 │\n│ 2   │ sigma      │ 7.2095  │ 7.56297 │ 7.76808 │ 7.95756 │ 8.37963 │\n"
     },
     "metadata": {},
     "execution_count": 1
    }
   ],
   "cell_type": "code",
   "source": [
    "using StatisticalRethinking, CmdStan\n",
    "gr(size=(500,500));\n",
    "\n",
    "ProjDir = rel_path(\"..\", \"scripts\", \"04\")\n",
    "cd(ProjDir)\n",
    "\n",
    "howell1 = CSV.read(rel_path(\"..\", \"data\", \"Howell1.csv\"), delim=';')\n",
    "df = convert(DataFrame, howell1);\n",
    "\n",
    "df2 = filter(row -> row[:age] >= 18, df)\n",
    "first(df2, 5)\n",
    "\n",
    "heightsmodel = \"\n",
    "// Inferring a Rate\n",
    "data {\n",
    "  int N;\n",
    "  real<lower=0> h[N];\n",
    "}\n",
    "parameters {\n",
    "  real<lower=0> sigma;\n",
    "  real<lower=0,upper=250> mu;\n",
    "}\n",
    "model {\n",
    "  // Priors for mu and sigma\n",
    "  mu ~ normal(178, 20);\n",
    "  sigma ~ uniform( 0 , 50 );\n",
    "\n",
    "  // Observed heights\n",
    "  h ~ normal(mu, sigma);\n",
    "}\n",
    "\";\n",
    "\n",
    "stanmodel = Stanmodel(name=\"heights\", monitors = [\"mu\", \"sigma\"],model=heightsmodel,\n",
    "  output_format=:mcmcchains);\n",
    "\n",
    "heightsdata = Dict(\"N\" => length(df2[:height]), \"h\" => df2[:height]);\n",
    "\n",
    "rc, chn, cnames = stan(stanmodel, heightsdata, ProjDir, diagnostics=false,\n",
    "  CmdStanDir=CMDSTAN_HOME);\n",
    "\n",
    "describe(chn)\n",
    "\n",
    "serialize(\"m4.1s.jls\", chn)\n",
    "chn2 = deserialize(\"m4.1s.jls\")\n",
    "\n",
    "describe(chn2)"
   ],
   "metadata": {},
   "execution_count": 1
  },
  {
   "outputs": [],
   "cell_type": "markdown",
   "source": [
    "end of m4.1s#-\n",
    "*This notebook was generated using [Literate.jl](https://github.com/fredrikekre/Literate.jl).*"
   ],
   "metadata": {}
  }
 ],
 "nbformat_minor": 3,
 "metadata": {
  "language_info": {
   "file_extension": ".jl",
   "mimetype": "application/julia",
   "name": "julia",
   "version": "1.3.0-DEV.377"
  },
  "kernelspec": {
   "name": "julia-1.3",
   "display_name": "Julia 1.3.0-DEV.377",
   "language": "julia"
  }
 },
 "nbformat": 4
}
